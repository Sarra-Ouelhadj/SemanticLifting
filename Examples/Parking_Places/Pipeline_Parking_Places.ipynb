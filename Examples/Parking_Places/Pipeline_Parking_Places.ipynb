{
 "cells": [
  {
   "cell_type": "code",
   "execution_count": 1,
   "id": "d746a0a2-ea81-46c4-ac31-5170d0f05882",
   "metadata": {},
   "outputs": [],
   "source": [
    "import sys\n",
    "sys.path.append('..')"
   ]
  },
  {
   "cell_type": "markdown",
   "id": "f04029fe-c1c5-44c4-92df-4e1057ae112c",
   "metadata": {},
   "source": [
    "### Provide required inputs"
   ]
  },
  {
   "cell_type": "markdown",
   "id": "5e09f2aa-b59d-49ca-b025-ea07eaa5b7d3",
   "metadata": {},
   "source": [
    "1. the schema\n",
    "2. its compling dataset"
   ]
  },
  {
   "cell_type": "code",
   "execution_count": 2,
   "id": "01ba68e2-a3f3-4d04-9f8c-1182e9e89812",
   "metadata": {},
   "outputs": [],
   "source": [
    "schema = \"./Examples/Parking_Places/schema.json\"\n",
    "dataset = \"./Examples/Parking_Places/data.csv\""
   ]
  },
  {
   "cell_type": "markdown",
   "id": "0fe5c85e-2e96-4f78-8e53-527cb28ef6f0",
   "metadata": {},
   "source": [
    "### Import the right extractor according to provided inputs"
   ]
  },
  {
   "cell_type": "markdown",
   "id": "c7759c1b-b78a-4aa1-9369-261a7d92668c",
   "metadata": {},
   "source": [
    "Presently, we propose two extractors:\n",
    "1. read_jsonSchema_geojsonData\n",
    "2. read_tableSchema_csvData"
   ]
  },
  {
   "cell_type": "code",
   "execution_count": 5,
   "id": "4c378ef8-8cd8-49e9-a2ca-76c5cfd98101",
   "metadata": {
    "slideshow": {
     "slide_type": ""
    },
    "tags": []
   },
   "outputs": [
    {
     "ename": "ModuleNotFoundError",
     "evalue": "No module named 'library'",
     "output_type": "error",
     "traceback": [
      "\u001b[0;31m---------------------------------------------------------------------------\u001b[0m",
      "\u001b[0;31mModuleNotFoundError\u001b[0m                       Traceback (most recent call last)",
      "Cell \u001b[0;32mIn[5], line 1\u001b[0m\n\u001b[0;32m----> 1\u001b[0m \u001b[38;5;28;01mfrom\u001b[39;00m \u001b[38;5;21;01mlibrary\u001b[39;00m\u001b[38;5;21;01m.\u001b[39;00m\u001b[38;5;21;01mread\u001b[39;00m \u001b[38;5;28;01mimport\u001b[39;00m read_tableSchema_csvData\n",
      "\u001b[0;31mModuleNotFoundError\u001b[0m: No module named 'library'"
     ]
    }
   ],
   "source": [
    "from library.read import read_tableSchema_csvData"
   ]
  },
  {
   "cell_type": "markdown",
   "id": "040df5cd-b81c-47cd-aa6c-e657ffbf933c",
   "metadata": {},
   "source": [
    "From here, we start the **ETL** process:\n",
    "1. **E**xtract\n",
    "2. **T**ransform\n",
    "3. **L**oad"
   ]
  },
  {
   "cell_type": "markdown",
   "id": "08819fca-7484-4a78-9dea-dbb29dcf6a1a",
   "metadata": {},
   "source": [
    "### 1. Extractor: Bundle graph initialisation"
   ]
  },
  {
   "cell_type": "code",
   "execution_count": null,
   "id": "8d3e0caf-6a95-44b6-8efe-6f951bfd9f41",
   "metadata": {},
   "outputs": [],
   "source": [
    "b0 = read_tableSchema_csvData(schema, dataset)"
   ]
  },
  {
   "cell_type": "markdown",
   "id": "fc85259a-5e79-4d80-8235-647c9d2de4ad",
   "metadata": {},
   "source": [
    "##### Overview of the Global Semantic Model"
   ]
  },
  {
   "cell_type": "code",
   "execution_count": null,
   "id": "2a8a04ac-ed38-4ba9-aaff-ecc958f39ab7",
   "metadata": {
    "output_type": "string"
   },
   "outputs": [],
   "source": [
    "b0.show_semantic_model(True)"
   ]
  },
  {
   "cell_type": "markdown",
   "id": "08421091-a6e4-4f75-8943-efd2ae351640",
   "metadata": {},
   "source": [
    "### 2. Transformers"
   ]
  },
  {
   "cell_type": "markdown",
   "id": "cd91fbae-59c8-4458-b37c-f194c0570a95",
   "metadata": {},
   "source": [
    "In this example, we apply the `document` transformer on type_usagers, tarif_pmr and type_ouvrage enumeration bundles."
   ]
  },
  {
   "cell_type": "code",
   "execution_count": null,
   "id": "7ed3799b-e4b5-4c8d-b585-2f9125dd362a",
   "metadata": {},
   "outputs": [],
   "source": [
    "dangling_bundles = b0.children()\n",
    "dangling_bundles[\"type_usagers\"].document(enum_values = {\"tous\":\"tout usager\",\n",
    "                                                         \"abonnés\": \"uniquement abonné\"\n",
    "    \n",
    "})\n",
    "dangling_bundles[\"tarif_pmr\"].document(enum_values = {\"gratuit\":\"ne coûte rien\",\n",
    "                                                      \"normal_payant\": \"paiement normal\",\n",
    "                                                      \"tarif_special\": \"paiement spécial\"\n",
    "    \n",
    "})\n",
    "dangling_bundles[\"type_ouvrage\"].document(enum_values = {\"enclos_en_surface\":\"à barrière en surface\",\n",
    "                                                         \"ouvrage\":\"comprend les parkings souterrains et les parkings en élévation\"\n",
    "    \n",
    "})\n",
    "dangling_bundles[\"type_ouvrage\"].show()"
   ]
  },
  {
   "cell_type": "markdown",
   "id": "5f5d718a-3281-488a-8418-3b1d31709e1f",
   "metadata": {},
   "source": [
    "### 3. Loaders"
   ]
  },
  {
   "cell_type": "markdown",
   "id": "fce9aa53-7ded-40da-9a74-e4966d621dc6",
   "metadata": {},
   "source": [
    "Presently, we propose two loaders:\n",
    "1. generateOntology\n",
    "2. generateRDF"
   ]
  },
  {
   "cell_type": "markdown",
   "id": "2adfc9ed-c38f-4219-8c9a-0f56455194f3",
   "metadata": {},
   "source": [
    "#### 3.1 Generate the ontology"
   ]
  },
  {
   "cell_type": "code",
   "execution_count": null,
   "id": "9a3de26c-10ab-41bb-b043-f8a59e887dbd",
   "metadata": {},
   "outputs": [],
   "source": [
    "g, kpi_results = b0.generateOntology(True)"
   ]
  },
  {
   "cell_type": "markdown",
   "id": "b05a47c9-77b4-4dd9-961b-118c7c4dfd32",
   "metadata": {},
   "source": [
    "##### Overview of the generated ontology"
   ]
  },
  {
   "cell_type": "code",
   "execution_count": null,
   "id": "d6222eff-0736-4791-b579-47576fc1b55d",
   "metadata": {},
   "outputs": [],
   "source": [
    "kpi_results"
   ]
  },
  {
   "cell_type": "markdown",
   "id": "1f5e8b97-dc3b-4400-88fb-79570b836c16",
   "metadata": {},
   "source": [
    "##### Save the ontology in a file"
   ]
  },
  {
   "cell_type": "code",
   "execution_count": null,
   "id": "0c4d572d-5ae5-4f63-9f7f-29bcbba9adcb",
   "metadata": {},
   "outputs": [],
   "source": [
    "with open(\"./results/onto.ttl\", \"w\") as f:\n",
    "    f.write(g.serialize(format=\"turtle\"))"
   ]
  },
  {
   "cell_type": "markdown",
   "id": "fc070d78-3073-419f-bab6-a10b737bb3c2",
   "metadata": {},
   "source": [
    "#### 3.2 Generate the RDF data"
   ]
  },
  {
   "cell_type": "code",
   "execution_count": null,
   "id": "afb398e1-e114-431c-88d3-d1aa23e386c6",
   "metadata": {},
   "outputs": [],
   "source": [
    "g_rdf = b0.generateRDF(True)"
   ]
  },
  {
   "cell_type": "markdown",
   "id": "767e9291-10a7-418a-bd7f-162a3763f8d3",
   "metadata": {},
   "source": [
    "##### Save the RDf data in a file"
   ]
  },
  {
   "cell_type": "code",
   "execution_count": null,
   "id": "70c4737d-1be7-47ca-8d25-d5e0cdf29883",
   "metadata": {},
   "outputs": [],
   "source": [
    "with open(\"./results/instances.ttl\", \"w\") as f:\n",
    "    f.write(g_rdf.serialize(format=\"turtle\"))"
   ]
  },
  {
   "cell_type": "code",
   "execution_count": null,
   "id": "db29ed83-8dd0-4a61-8c84-ea802a6d04b7",
   "metadata": {},
   "outputs": [],
   "source": []
  }
 ],
 "metadata": {
  "kernelspec": {
   "display_name": "Python 3 (ipykernel)",
   "language": "python",
   "name": "python3"
  },
  "language_info": {
   "codemirror_mode": {
    "name": "ipython",
    "version": 3
   },
   "file_extension": ".py",
   "mimetype": "text/x-python",
   "name": "python",
   "nbconvert_exporter": "python",
   "pygments_lexer": "ipython3",
   "version": "3.11.5"
  }
 },
 "nbformat": 4,
 "nbformat_minor": 5
}
