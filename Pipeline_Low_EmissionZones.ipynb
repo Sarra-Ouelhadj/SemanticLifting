{
 "cells": [
  {
   "cell_type": "markdown",
   "id": "f04029fe-c1c5-44c4-92df-4e1057ae112c",
   "metadata": {},
   "source": [
    "### Provide required inputs"
   ]
  },
  {
   "cell_type": "markdown",
   "id": "5e09f2aa-b59d-49ca-b025-ea07eaa5b7d3",
   "metadata": {},
   "source": [
    "1. the schema\n",
    "2. its compling dataset"
   ]
  },
  {
   "cell_type": "code",
   "execution_count": 1,
   "id": "01ba68e2-a3f3-4d04-9f8c-1182e9e89812",
   "metadata": {},
   "outputs": [],
   "source": [
    "schema = \"./Examples/Low_EmissionZones/schema.json\"\n",
    "dataset = \"./Examples/Low_EmissionZones/data.geojson\""
   ]
  },
  {
   "cell_type": "markdown",
   "id": "0fe5c85e-2e96-4f78-8e53-527cb28ef6f0",
   "metadata": {},
   "source": [
    "### Import the right extractor according to provided inputs"
   ]
  },
  {
   "cell_type": "markdown",
   "id": "c7759c1b-b78a-4aa1-9369-261a7d92668c",
   "metadata": {},
   "source": [
    "Presently, we propose two extractors:\n",
    "1. read_jsonSchema_geojsonData\n",
    "2. read_tableSchema_csvData"
   ]
  },
  {
   "cell_type": "code",
   "execution_count": 2,
   "id": "4c378ef8-8cd8-49e9-a2ca-76c5cfd98101",
   "metadata": {
    "slideshow": {
     "slide_type": ""
    },
    "tags": []
   },
   "outputs": [],
   "source": [
    "from library.read import read_jsonSchema_geojsonData"
   ]
  },
  {
   "cell_type": "markdown",
   "id": "040df5cd-b81c-47cd-aa6c-e657ffbf933c",
   "metadata": {},
   "source": [
    "From here, we start the **ETL** process:\n",
    "1. **E**xtract\n",
    "2. **T**ransform\n",
    "3. **L**oad"
   ]
  },
  {
   "cell_type": "markdown",
   "id": "08819fca-7484-4a78-9dea-dbb29dcf6a1a",
   "metadata": {},
   "source": [
    "### 1. Extractor: Bundle graph initialisation"
   ]
  },
  {
   "cell_type": "code",
   "execution_count": 3,
   "id": "8d3e0caf-6a95-44b6-8efe-6f951bfd9f41",
   "metadata": {},
   "outputs": [],
   "source": [
    "b0 = read_jsonSchema_geojsonData(schema, dataset, \"Emission Zone\")"
   ]
  },
  {
   "cell_type": "markdown",
   "id": "fc85259a-5e79-4d80-8235-647c9d2de4ad",
   "metadata": {},
   "source": [
    "##### Overview of the Global Semantic Model"
   ]
  },
  {
   "cell_type": "code",
   "execution_count": 4,
   "id": "2a8a04ac-ed38-4ba9-aaff-ecc958f39ab7",
   "metadata": {
    "output_type": "string"
   },
   "outputs": [
    {
     "data": {
      "image/svg+xml": [
       "<svg xmlns=\"http://www.w3.org/2000/svg\" xmlns:xlink=\"http://www.w3.org/1999/xlink\" contentStyleType=\"text/css\" height=\"539px\" preserveAspectRatio=\"none\" style=\"width:781px;height:539px;background:#FFFFFF;\" version=\"1.1\" viewBox=\"0 0 781 539\" width=\"781px\" zoomAndPan=\"magnify\"><defs/><g><!--class EmissionZone--><g id=\"elem_EmissionZone\"><rect codeLine=\"1\" fill=\"#F1F1F1\" height=\"212.8828\" id=\"EmissionZone\" rx=\"2.5\" ry=\"2.5\" style=\"stroke:#181818;stroke-width:0.5;\" width=\"198\" x=\"218.5\" y=\"7\"/><ellipse cx=\"265.75\" cy=\"23\" fill=\"#ADD1B2\" rx=\"11\" ry=\"11\" style=\"stroke:#181818;stroke-width:1.0;\"/><path d=\"M268.2231,29.1431 Q267.6421,29.4419 267.0029,29.5913 Q266.3638,29.7407 265.6582,29.7407 Q263.1514,29.7407 261.8315,28.0889 Q260.5117,26.437 260.5117,23.3159 Q260.5117,20.1865 261.8315,18.5347 Q263.1514,16.8828 265.6582,16.8828 Q266.3638,16.8828 267.0112,17.0322 Q267.6587,17.1816 268.2231,17.4805 L268.2231,20.2031 Q267.5923,19.6221 266.9988,19.3523 Q266.4053,19.0825 265.7744,19.0825 Q264.4297,19.0825 263.7449,20.1492 Q263.0601,21.2158 263.0601,23.3159 Q263.0601,25.4077 263.7449,26.4744 Q264.4297,27.541 265.7744,27.541 Q266.4053,27.541 266.9988,27.2712 Q267.5923,27.0015 268.2231,26.4204 Z \" fill=\"#000000\"/><text fill=\"#000000\" font-family=\"sans-serif\" font-size=\"14\" lengthAdjust=\"spacing\" textLength=\"95\" x=\"286.25\" y=\"28.291\">EmissionZone</text><line style=\"stroke:#181818;stroke-width:0.5;\" x1=\"219.5\" x2=\"415.5\" y1=\"39\" y2=\"39\"/><text fill=\"#000000\" font-family=\"sans-serif\" font-size=\"14\" lengthAdjust=\"spacing\" text-decoration=\"underline\" textLength=\"13\" x=\"224.5\" y=\"56.5352\">id</text><text fill=\"#000000\" font-family=\"sans-serif\" font-size=\"14\" lengthAdjust=\"spacing\" textLength=\"77\" x=\"224.5\" y=\"73.0234\">date_debut</text><text fill=\"#000000\" font-family=\"sans-serif\" font-size=\"14\" lengthAdjust=\"spacing\" textLength=\"55\" x=\"224.5\" y=\"89.5117\">date_fin</text><text fill=\"#000000\" font-family=\"sans-serif\" font-size=\"14\" lengthAdjust=\"spacing\" textLength=\"80\" x=\"224.5\" y=\"106\">vp_horaires</text><text fill=\"#000000\" font-family=\"sans-serif\" font-size=\"14\" lengthAdjust=\"spacing\" textLength=\"84\" x=\"224.5\" y=\"122.4883\">vul_horaires</text><text fill=\"#000000\" font-family=\"sans-serif\" font-size=\"14\" lengthAdjust=\"spacing\" textLength=\"77\" x=\"224.5\" y=\"138.9766\">pl_horaires</text><text fill=\"#000000\" font-family=\"sans-serif\" font-size=\"14\" lengthAdjust=\"spacing\" textLength=\"186\" x=\"224.5\" y=\"155.4648\">autobus_autocars_horaires</text><text fill=\"#000000\" font-family=\"sans-serif\" font-size=\"14\" lengthAdjust=\"spacing\" textLength=\"125\" x=\"224.5\" y=\"171.9531\">deux_rm_horaires</text><text fill=\"#000000\" font-family=\"sans-serif\" font-size=\"14\" lengthAdjust=\"spacing\" textLength=\"67\" x=\"224.5\" y=\"188.4414\">url_arrete</text><text fill=\"#000000\" font-family=\"sans-serif\" font-size=\"14\" lengthAdjust=\"spacing\" textLength=\"138\" x=\"224.5\" y=\"204.9297\">url_site_information</text><line style=\"stroke:#181818;stroke-width:0.5;\" x1=\"219.5\" x2=\"415.5\" y1=\"211.8828\" y2=\"211.8828\"/></g><!--class vp_critair--><g id=\"elem_vp_critair\"><rect codeLine=\"14\" fill=\"#F1F1F1\" height=\"235.9063\" id=\"vp_critair\" rx=\"2.5\" ry=\"2.5\" style=\"stroke:#181818;stroke-width:0.5;\" width=\"95\" x=\"7\" y=\"296.88\"/><ellipse cx=\"22\" cy=\"312.88\" fill=\"#EB937F\" rx=\"11\" ry=\"11\" style=\"stroke:#181818;stroke-width:1.0;\"/><path d=\"M25.6143,319.38 L17.8945,319.38 L17.8945,306.9869 L25.6143,306.9869 L25.6143,309.1451 L20.3433,309.1451 L20.3433,311.818 L25.1162,311.818 L25.1162,313.9762 L20.3433,313.9762 L20.3433,317.2218 L25.6143,317.2218 Z \" fill=\"#000000\"/><text fill=\"#000000\" font-family=\"sans-serif\" font-size=\"14\" lengthAdjust=\"spacing\" textLength=\"63\" x=\"36\" y=\"318.171\">vp_critair</text><line style=\"stroke:#181818;stroke-width:0.5;\" x1=\"8\" x2=\"101\" y1=\"328.88\" y2=\"328.88\"/><text fill=\"#000000\" font-family=\"sans-serif\" font-size=\"14\" lengthAdjust=\"spacing\" textLength=\"18\" x=\"13\" y=\"346.4152\">V5</text><line style=\"stroke:#181818;stroke-width:1.0;stroke-dasharray:1.0,2.0;\" x1=\"8\" x2=\"101\" y1=\"353.3683\" y2=\"353.3683\"/><text fill=\"#000000\" font-family=\"sans-serif\" font-size=\"14\" lengthAdjust=\"spacing\" textLength=\"18\" x=\"13\" y=\"370.9034\">V4</text><line style=\"stroke:#181818;stroke-width:1.0;stroke-dasharray:1.0,2.0;\" x1=\"8\" x2=\"101\" y1=\"377.8566\" y2=\"377.8566\"/><text fill=\"#000000\" font-family=\"sans-serif\" font-size=\"14\" lengthAdjust=\"spacing\" textLength=\"18\" x=\"13\" y=\"395.3917\">V3</text><line style=\"stroke:#181818;stroke-width:1.0;stroke-dasharray:1.0,2.0;\" x1=\"8\" x2=\"101\" y1=\"402.3448\" y2=\"402.3448\"/><text fill=\"#000000\" font-family=\"sans-serif\" font-size=\"14\" lengthAdjust=\"spacing\" textLength=\"18\" x=\"13\" y=\"419.88\">V2</text><line style=\"stroke:#181818;stroke-width:1.0;stroke-dasharray:1.0,2.0;\" x1=\"8\" x2=\"101\" y1=\"426.8331\" y2=\"426.8331\"/><text fill=\"#000000\" font-family=\"sans-serif\" font-size=\"14\" lengthAdjust=\"spacing\" textLength=\"18\" x=\"13\" y=\"444.3683\">V1</text><line style=\"stroke:#181818;stroke-width:1.0;stroke-dasharray:1.0,2.0;\" x1=\"8\" x2=\"101\" y1=\"451.3214\" y2=\"451.3214\"/><text fill=\"#000000\" font-family=\"sans-serif\" font-size=\"14\" lengthAdjust=\"spacing\" textLength=\"15\" x=\"13\" y=\"468.8566\">EL</text><line style=\"stroke:#181818;stroke-width:1.0;stroke-dasharray:1.0,2.0;\" x1=\"8\" x2=\"101\" y1=\"475.8097\" y2=\"475.8097\"/><text fill=\"#000000\" font-family=\"sans-serif\" font-size=\"14\" lengthAdjust=\"spacing\" textLength=\"20\" x=\"13\" y=\"493.3448\">NC</text><line style=\"stroke:#181818;stroke-width:1.0;stroke-dasharray:1.0,2.0;\" x1=\"8\" x2=\"101\" y1=\"500.298\" y2=\"500.298\"/><text fill=\"#000000\" font-family=\"sans-serif\" font-size=\"14\" lengthAdjust=\"spacing\" textLength=\"26\" x=\"13\" y=\"517.8331\">null</text><line style=\"stroke:#181818;stroke-width:1.0;stroke-dasharray:1.0,2.0;\" x1=\"8\" x2=\"101\" y1=\"524.7863\" y2=\"524.7863\"/></g><!--class vul_critair--><g id=\"elem_vul_critair\"><rect codeLine=\"33\" fill=\"#F1F1F1\" height=\"235.9063\" id=\"vul_critair\" rx=\"2.5\" ry=\"2.5\" style=\"stroke:#181818;stroke-width:0.5;\" width=\"99\" x=\"137\" y=\"296.88\"/><ellipse cx=\"152\" cy=\"312.88\" fill=\"#EB937F\" rx=\"11\" ry=\"11\" style=\"stroke:#181818;stroke-width:1.0;\"/><path d=\"M155.6143,319.38 L147.8945,319.38 L147.8945,306.9869 L155.6143,306.9869 L155.6143,309.1451 L150.3433,309.1451 L150.3433,311.818 L155.1162,311.818 L155.1162,313.9762 L150.3433,313.9762 L150.3433,317.2218 L155.6143,317.2218 Z \" fill=\"#000000\"/><text fill=\"#000000\" font-family=\"sans-serif\" font-size=\"14\" lengthAdjust=\"spacing\" textLength=\"67\" x=\"166\" y=\"318.171\">vul_critair</text><line style=\"stroke:#181818;stroke-width:0.5;\" x1=\"138\" x2=\"235\" y1=\"328.88\" y2=\"328.88\"/><text fill=\"#000000\" font-family=\"sans-serif\" font-size=\"14\" lengthAdjust=\"spacing\" textLength=\"18\" x=\"143\" y=\"346.4152\">V5</text><line style=\"stroke:#181818;stroke-width:1.0;stroke-dasharray:1.0,2.0;\" x1=\"138\" x2=\"235\" y1=\"353.3683\" y2=\"353.3683\"/><text fill=\"#000000\" font-family=\"sans-serif\" font-size=\"14\" lengthAdjust=\"spacing\" textLength=\"18\" x=\"143\" y=\"370.9034\">V4</text><line style=\"stroke:#181818;stroke-width:1.0;stroke-dasharray:1.0,2.0;\" x1=\"138\" x2=\"235\" y1=\"377.8566\" y2=\"377.8566\"/><text fill=\"#000000\" font-family=\"sans-serif\" font-size=\"14\" lengthAdjust=\"spacing\" textLength=\"18\" x=\"143\" y=\"395.3917\">V3</text><line style=\"stroke:#181818;stroke-width:1.0;stroke-dasharray:1.0,2.0;\" x1=\"138\" x2=\"235\" y1=\"402.3448\" y2=\"402.3448\"/><text fill=\"#000000\" font-family=\"sans-serif\" font-size=\"14\" lengthAdjust=\"spacing\" textLength=\"18\" x=\"143\" y=\"419.88\">V2</text><line style=\"stroke:#181818;stroke-width:1.0;stroke-dasharray:1.0,2.0;\" x1=\"138\" x2=\"235\" y1=\"426.8331\" y2=\"426.8331\"/><text fill=\"#000000\" font-family=\"sans-serif\" font-size=\"14\" lengthAdjust=\"spacing\" textLength=\"18\" x=\"143\" y=\"444.3683\">V1</text><line style=\"stroke:#181818;stroke-width:1.0;stroke-dasharray:1.0,2.0;\" x1=\"138\" x2=\"235\" y1=\"451.3214\" y2=\"451.3214\"/><text fill=\"#000000\" font-family=\"sans-serif\" font-size=\"14\" lengthAdjust=\"spacing\" textLength=\"15\" x=\"143\" y=\"468.8566\">EL</text><line style=\"stroke:#181818;stroke-width:1.0;stroke-dasharray:1.0,2.0;\" x1=\"138\" x2=\"235\" y1=\"475.8097\" y2=\"475.8097\"/><text fill=\"#000000\" font-family=\"sans-serif\" font-size=\"14\" lengthAdjust=\"spacing\" textLength=\"20\" x=\"143\" y=\"493.3448\">NC</text><line style=\"stroke:#181818;stroke-width:1.0;stroke-dasharray:1.0,2.0;\" x1=\"138\" x2=\"235\" y1=\"500.298\" y2=\"500.298\"/><text fill=\"#000000\" font-family=\"sans-serif\" font-size=\"14\" lengthAdjust=\"spacing\" textLength=\"26\" x=\"143\" y=\"517.8331\">null</text><line style=\"stroke:#181818;stroke-width:1.0;stroke-dasharray:1.0,2.0;\" x1=\"138\" x2=\"235\" y1=\"524.7863\" y2=\"524.7863\"/></g><!--class pl_critair--><g id=\"elem_pl_critair\"><rect codeLine=\"52\" fill=\"#F1F1F1\" height=\"235.9063\" id=\"pl_critair\" rx=\"2.5\" ry=\"2.5\" style=\"stroke:#181818;stroke-width:0.5;\" width=\"92\" x=\"271.5\" y=\"296.88\"/><ellipse cx=\"286.5\" cy=\"312.88\" fill=\"#EB937F\" rx=\"11\" ry=\"11\" style=\"stroke:#181818;stroke-width:1.0;\"/><path d=\"M290.1143,319.38 L282.3945,319.38 L282.3945,306.9869 L290.1143,306.9869 L290.1143,309.1451 L284.8433,309.1451 L284.8433,311.818 L289.6162,311.818 L289.6162,313.9762 L284.8433,313.9762 L284.8433,317.2218 L290.1143,317.2218 Z \" fill=\"#000000\"/><text fill=\"#000000\" font-family=\"sans-serif\" font-size=\"14\" lengthAdjust=\"spacing\" textLength=\"60\" x=\"300.5\" y=\"318.171\">pl_critair</text><line style=\"stroke:#181818;stroke-width:0.5;\" x1=\"272.5\" x2=\"362.5\" y1=\"328.88\" y2=\"328.88\"/><text fill=\"#000000\" font-family=\"sans-serif\" font-size=\"14\" lengthAdjust=\"spacing\" textLength=\"18\" x=\"277.5\" y=\"346.4152\">V5</text><line style=\"stroke:#181818;stroke-width:1.0;stroke-dasharray:1.0,2.0;\" x1=\"272.5\" x2=\"362.5\" y1=\"353.3683\" y2=\"353.3683\"/><text fill=\"#000000\" font-family=\"sans-serif\" font-size=\"14\" lengthAdjust=\"spacing\" textLength=\"18\" x=\"277.5\" y=\"370.9034\">V4</text><line style=\"stroke:#181818;stroke-width:1.0;stroke-dasharray:1.0,2.0;\" x1=\"272.5\" x2=\"362.5\" y1=\"377.8566\" y2=\"377.8566\"/><text fill=\"#000000\" font-family=\"sans-serif\" font-size=\"14\" lengthAdjust=\"spacing\" textLength=\"18\" x=\"277.5\" y=\"395.3917\">V3</text><line style=\"stroke:#181818;stroke-width:1.0;stroke-dasharray:1.0,2.0;\" x1=\"272.5\" x2=\"362.5\" y1=\"402.3448\" y2=\"402.3448\"/><text fill=\"#000000\" font-family=\"sans-serif\" font-size=\"14\" lengthAdjust=\"spacing\" textLength=\"18\" x=\"277.5\" y=\"419.88\">V2</text><line style=\"stroke:#181818;stroke-width:1.0;stroke-dasharray:1.0,2.0;\" x1=\"272.5\" x2=\"362.5\" y1=\"426.8331\" y2=\"426.8331\"/><text fill=\"#000000\" font-family=\"sans-serif\" font-size=\"14\" lengthAdjust=\"spacing\" textLength=\"18\" x=\"277.5\" y=\"444.3683\">V1</text><line style=\"stroke:#181818;stroke-width:1.0;stroke-dasharray:1.0,2.0;\" x1=\"272.5\" x2=\"362.5\" y1=\"451.3214\" y2=\"451.3214\"/><text fill=\"#000000\" font-family=\"sans-serif\" font-size=\"14\" lengthAdjust=\"spacing\" textLength=\"15\" x=\"277.5\" y=\"468.8566\">EL</text><line style=\"stroke:#181818;stroke-width:1.0;stroke-dasharray:1.0,2.0;\" x1=\"272.5\" x2=\"362.5\" y1=\"475.8097\" y2=\"475.8097\"/><text fill=\"#000000\" font-family=\"sans-serif\" font-size=\"14\" lengthAdjust=\"spacing\" textLength=\"20\" x=\"277.5\" y=\"493.3448\">NC</text><line style=\"stroke:#181818;stroke-width:1.0;stroke-dasharray:1.0,2.0;\" x1=\"272.5\" x2=\"362.5\" y1=\"500.298\" y2=\"500.298\"/><text fill=\"#000000\" font-family=\"sans-serif\" font-size=\"14\" lengthAdjust=\"spacing\" textLength=\"26\" x=\"277.5\" y=\"517.8331\">null</text><line style=\"stroke:#181818;stroke-width:1.0;stroke-dasharray:1.0,2.0;\" x1=\"272.5\" x2=\"362.5\" y1=\"524.7863\" y2=\"524.7863\"/></g><!--class autobus_autocars_critair--><g id=\"elem_autobus_autocars_critair\"><rect codeLine=\"71\" fill=\"#F1F1F1\" height=\"235.9063\" id=\"autobus_autocars_critair\" rx=\"2.5\" ry=\"2.5\" style=\"stroke:#181818;stroke-width:0.5;\" width=\"201\" x=\"399\" y=\"296.88\"/><ellipse cx=\"414\" cy=\"312.88\" fill=\"#EB937F\" rx=\"11\" ry=\"11\" style=\"stroke:#181818;stroke-width:1.0;\"/><path d=\"M417.6143,319.38 L409.8945,319.38 L409.8945,306.9869 L417.6143,306.9869 L417.6143,309.1451 L412.3433,309.1451 L412.3433,311.818 L417.1162,311.818 L417.1162,313.9762 L412.3433,313.9762 L412.3433,317.2218 L417.6143,317.2218 Z \" fill=\"#000000\"/><text fill=\"#000000\" font-family=\"sans-serif\" font-size=\"14\" lengthAdjust=\"spacing\" textLength=\"169\" x=\"428\" y=\"318.171\">autobus_autocars_critair</text><line style=\"stroke:#181818;stroke-width:0.5;\" x1=\"400\" x2=\"599\" y1=\"328.88\" y2=\"328.88\"/><text fill=\"#000000\" font-family=\"sans-serif\" font-size=\"14\" lengthAdjust=\"spacing\" textLength=\"18\" x=\"405\" y=\"346.4152\">V5</text><line style=\"stroke:#181818;stroke-width:1.0;stroke-dasharray:1.0,2.0;\" x1=\"400\" x2=\"599\" y1=\"353.3683\" y2=\"353.3683\"/><text fill=\"#000000\" font-family=\"sans-serif\" font-size=\"14\" lengthAdjust=\"spacing\" textLength=\"18\" x=\"405\" y=\"370.9034\">V4</text><line style=\"stroke:#181818;stroke-width:1.0;stroke-dasharray:1.0,2.0;\" x1=\"400\" x2=\"599\" y1=\"377.8566\" y2=\"377.8566\"/><text fill=\"#000000\" font-family=\"sans-serif\" font-size=\"14\" lengthAdjust=\"spacing\" textLength=\"18\" x=\"405\" y=\"395.3917\">V3</text><line style=\"stroke:#181818;stroke-width:1.0;stroke-dasharray:1.0,2.0;\" x1=\"400\" x2=\"599\" y1=\"402.3448\" y2=\"402.3448\"/><text fill=\"#000000\" font-family=\"sans-serif\" font-size=\"14\" lengthAdjust=\"spacing\" textLength=\"18\" x=\"405\" y=\"419.88\">V2</text><line style=\"stroke:#181818;stroke-width:1.0;stroke-dasharray:1.0,2.0;\" x1=\"400\" x2=\"599\" y1=\"426.8331\" y2=\"426.8331\"/><text fill=\"#000000\" font-family=\"sans-serif\" font-size=\"14\" lengthAdjust=\"spacing\" textLength=\"18\" x=\"405\" y=\"444.3683\">V1</text><line style=\"stroke:#181818;stroke-width:1.0;stroke-dasharray:1.0,2.0;\" x1=\"400\" x2=\"599\" y1=\"451.3214\" y2=\"451.3214\"/><text fill=\"#000000\" font-family=\"sans-serif\" font-size=\"14\" lengthAdjust=\"spacing\" textLength=\"15\" x=\"405\" y=\"468.8566\">EL</text><line style=\"stroke:#181818;stroke-width:1.0;stroke-dasharray:1.0,2.0;\" x1=\"400\" x2=\"599\" y1=\"475.8097\" y2=\"475.8097\"/><text fill=\"#000000\" font-family=\"sans-serif\" font-size=\"14\" lengthAdjust=\"spacing\" textLength=\"20\" x=\"405\" y=\"493.3448\">NC</text><line style=\"stroke:#181818;stroke-width:1.0;stroke-dasharray:1.0,2.0;\" x1=\"400\" x2=\"599\" y1=\"500.298\" y2=\"500.298\"/><text fill=\"#000000\" font-family=\"sans-serif\" font-size=\"14\" lengthAdjust=\"spacing\" textLength=\"26\" x=\"405\" y=\"517.8331\">null</text><line style=\"stroke:#181818;stroke-width:1.0;stroke-dasharray:1.0,2.0;\" x1=\"400\" x2=\"599\" y1=\"524.7863\" y2=\"524.7863\"/></g><!--class deux_rm_critair--><g id=\"elem_deux_rm_critair\"><rect codeLine=\"90\" fill=\"#F1F1F1\" height=\"235.9063\" id=\"deux_rm_critair\" rx=\"2.5\" ry=\"2.5\" style=\"stroke:#181818;stroke-width:0.5;\" width=\"140\" x=\"634.5\" y=\"296.88\"/><ellipse cx=\"649.5\" cy=\"312.88\" fill=\"#EB937F\" rx=\"11\" ry=\"11\" style=\"stroke:#181818;stroke-width:1.0;\"/><path d=\"M653.1143,319.38 L645.3945,319.38 L645.3945,306.9869 L653.1143,306.9869 L653.1143,309.1451 L647.8433,309.1451 L647.8433,311.818 L652.6162,311.818 L652.6162,313.9762 L647.8433,313.9762 L647.8433,317.2218 L653.1143,317.2218 Z \" fill=\"#000000\"/><text fill=\"#000000\" font-family=\"sans-serif\" font-size=\"14\" lengthAdjust=\"spacing\" textLength=\"108\" x=\"663.5\" y=\"318.171\">deux_rm_critair</text><line style=\"stroke:#181818;stroke-width:0.5;\" x1=\"635.5\" x2=\"773.5\" y1=\"328.88\" y2=\"328.88\"/><text fill=\"#000000\" font-family=\"sans-serif\" font-size=\"14\" lengthAdjust=\"spacing\" textLength=\"18\" x=\"640.5\" y=\"346.4152\">V5</text><line style=\"stroke:#181818;stroke-width:1.0;stroke-dasharray:1.0,2.0;\" x1=\"635.5\" x2=\"773.5\" y1=\"353.3683\" y2=\"353.3683\"/><text fill=\"#000000\" font-family=\"sans-serif\" font-size=\"14\" lengthAdjust=\"spacing\" textLength=\"18\" x=\"640.5\" y=\"370.9034\">V4</text><line style=\"stroke:#181818;stroke-width:1.0;stroke-dasharray:1.0,2.0;\" x1=\"635.5\" x2=\"773.5\" y1=\"377.8566\" y2=\"377.8566\"/><text fill=\"#000000\" font-family=\"sans-serif\" font-size=\"14\" lengthAdjust=\"spacing\" textLength=\"18\" x=\"640.5\" y=\"395.3917\">V3</text><line style=\"stroke:#181818;stroke-width:1.0;stroke-dasharray:1.0,2.0;\" x1=\"635.5\" x2=\"773.5\" y1=\"402.3448\" y2=\"402.3448\"/><text fill=\"#000000\" font-family=\"sans-serif\" font-size=\"14\" lengthAdjust=\"spacing\" textLength=\"18\" x=\"640.5\" y=\"419.88\">V2</text><line style=\"stroke:#181818;stroke-width:1.0;stroke-dasharray:1.0,2.0;\" x1=\"635.5\" x2=\"773.5\" y1=\"426.8331\" y2=\"426.8331\"/><text fill=\"#000000\" font-family=\"sans-serif\" font-size=\"14\" lengthAdjust=\"spacing\" textLength=\"18\" x=\"640.5\" y=\"444.3683\">V1</text><line style=\"stroke:#181818;stroke-width:1.0;stroke-dasharray:1.0,2.0;\" x1=\"635.5\" x2=\"773.5\" y1=\"451.3214\" y2=\"451.3214\"/><text fill=\"#000000\" font-family=\"sans-serif\" font-size=\"14\" lengthAdjust=\"spacing\" textLength=\"15\" x=\"640.5\" y=\"468.8566\">EL</text><line style=\"stroke:#181818;stroke-width:1.0;stroke-dasharray:1.0,2.0;\" x1=\"635.5\" x2=\"773.5\" y1=\"475.8097\" y2=\"475.8097\"/><text fill=\"#000000\" font-family=\"sans-serif\" font-size=\"14\" lengthAdjust=\"spacing\" textLength=\"20\" x=\"640.5\" y=\"493.3448\">NC</text><line style=\"stroke:#181818;stroke-width:1.0;stroke-dasharray:1.0,2.0;\" x1=\"635.5\" x2=\"773.5\" y1=\"500.298\" y2=\"500.298\"/><text fill=\"#000000\" font-family=\"sans-serif\" font-size=\"14\" lengthAdjust=\"spacing\" textLength=\"26\" x=\"640.5\" y=\"517.8331\">null</text><line style=\"stroke:#181818;stroke-width:1.0;stroke-dasharray:1.0,2.0;\" x1=\"635.5\" x2=\"773.5\" y1=\"524.7863\" y2=\"524.7863\"/></g><!--link EmissionZone to vp_critair--><g id=\"link_EmissionZone_vp_critair\"><path codeLine=\"13\" d=\"M218.23,194.65 C184.58,224.64 148.26,260.33 119.5,296.88 C114.75,302.92 110.14,309.35 105.72,315.97 \" fill=\"none\" id=\"EmissionZone-to-vp_critair\" style=\"stroke:#181818;stroke-width:1.0;\"/><polygon fill=\"#181818\" points=\"103.2,319.8,111.4869,314.4776,105.947,315.6222,104.8024,310.0824,103.2,319.8\" style=\"stroke:#181818;stroke-width:1.0;\"/><text fill=\"#000000\" font-family=\"sans-serif\" font-size=\"13\" lengthAdjust=\"spacing\" textLength=\"59\" x=\"159.5\" y=\"263.4484\">vp_critair</text></g><!--link EmissionZone to vul_critair--><g id=\"link_EmissionZone_vul_critair\"><path codeLine=\"32\" d=\"M258.54,220.13 C253.59,230.09 248.83,240.12 244.5,249.88 C238.72,262.93 233.1,276.74 227.77,290.59 \" fill=\"none\" id=\"EmissionZone-to-vul_critair\" style=\"stroke:#181818;stroke-width:1.0;\"/><polygon fill=\"#181818\" points=\"226.05,295.12,232.9999,288.1415,227.8353,290.4496,225.5273,285.285,226.05,295.12\" style=\"stroke:#181818;stroke-width:1.0;\"/><text fill=\"#000000\" font-family=\"sans-serif\" font-size=\"13\" lengthAdjust=\"spacing\" textLength=\"63\" x=\"245.5\" y=\"263.4484\">vul_critair</text></g><!--link EmissionZone to pl_critair--><g id=\"link_EmissionZone_pl_critair\"><path codeLine=\"51\" d=\"M317.5,220 C317.5,242.72 317.5,266.92 317.5,290.26 \" fill=\"none\" id=\"EmissionZone-to-pl_critair\" style=\"stroke:#181818;stroke-width:1.0;\"/><polygon fill=\"#181818\" points=\"317.5,294.98,321.5,285.98,317.5,289.98,313.5,285.98,317.5,294.98\" style=\"stroke:#181818;stroke-width:1.0;\"/><text fill=\"#000000\" font-family=\"sans-serif\" font-size=\"13\" lengthAdjust=\"spacing\" textLength=\"56\" x=\"318.5\" y=\"263.4484\">pl_critair</text></g><!--link EmissionZone to autobus_autocars_critair--><g id=\"link_EmissionZone_autobus_autocars_critair\"><path codeLine=\"70\" d=\"M381.67,220 C395.65,243.01 410.57,267.54 424.92,291.15 \" fill=\"none\" id=\"EmissionZone-to-autobus_autocars_critair\" style=\"stroke:#181818;stroke-width:1.0;\"/><polygon fill=\"#181818\" points=\"427.38,295.2,426.1411,285.4294,424.7907,290.9227,419.2974,289.5722,427.38,295.2\" style=\"stroke:#181818;stroke-width:1.0;\"/><text fill=\"#000000\" font-family=\"sans-serif\" font-size=\"13\" lengthAdjust=\"spacing\" textLength=\"156\" x=\"409.5\" y=\"263.4484\">autobus_autocars_critair</text></g><!--link EmissionZone to deux_rm_critair--><g id=\"link_EmissionZone_deux_rm_critair\"><path codeLine=\"89\" d=\"M416.85,156.9 C466.63,180.56 526.39,212.75 574.5,249.88 C596.91,267.18 599.47,275.05 617.5,296.88 C621.69,301.96 625.94,307.22 630.17,312.56 \" fill=\"none\" id=\"EmissionZone-to-deux_rm_critair\" style=\"stroke:#181818;stroke-width:1.0;\"/><polygon fill=\"#181818\" points=\"633.12,316.3,630.685,306.7569,630.0227,312.3749,624.4048,311.7126,633.12,316.3\" style=\"stroke:#181818;stroke-width:1.0;\"/><text fill=\"#000000\" font-family=\"sans-serif\" font-size=\"13\" lengthAdjust=\"spacing\" textLength=\"99\" x=\"593.5\" y=\"263.4484\">deux_rm_critair</text></g><!--SRC=[jPA_RiCW4CPdynIyW2trJvOENQfiLSOCMH2nYNeI1dG7LIJBxrvY7FdgDbFJwRll3lX-25ghYUIs1oBmxk2TaOEe1eewGZjAw4JLwMXKPuufplK9dAW-W_hmg04DPPCiSu4RdQ8_9b8NRJKI6tKcdHNsh9FGAereeYarGOu3T_BOPnxln2Y-eTRrgymWBKBC9yWNPeHngUV3VAtzHZHDbkSYJqKUYpnCidsVPFSsYKlMNehVOlELMUxYvc0sldDouC5XbHl-BVR7GouGjqO5wUR6EmDUlzF2jUeKdFMoFr5y0G00]--></g></svg>"
      ],
      "text/plain": [
       "<IPython.core.display.SVG object>"
      ]
     },
     "execution_count": 4,
     "metadata": {},
     "output_type": "execute_result"
    }
   ],
   "source": [
    "b0.show_semantic_model(True)"
   ]
  },
  {
   "cell_type": "markdown",
   "id": "08421091-a6e4-4f75-8943-efd2ae351640",
   "metadata": {},
   "source": [
    "### 2. Transformers"
   ]
  },
  {
   "cell_type": "markdown",
   "id": "cd91fbae-59c8-4458-b37c-f194c0570a95",
   "metadata": {},
   "source": [
    "In this example, we apply the `document` transformer on vp_critair, vul_critair, pl_critair, autobus_autocars_critair and deux_rm_critair enumeration bundles."
   ]
  },
  {
   "cell_type": "code",
   "execution_count": 5,
   "id": "4fefd59f-5d51-4e4d-b045-e983156c1a20",
   "metadata": {},
   "outputs": [
    {
     "name": "stdout",
     "output_type": "stream",
     "text": [
      "------- Enumeration -------\n",
      "name : deux_rm_critair\n",
      "IRI : None\n",
      "definition : Deux roues, tricycles et quadricycles à moteur : Vignette CRITAIR à partir de laquelle la circulation n'est pas autorisée. Par exemple V4 signifie que les véhicules CRITAIR 4, CRITAIR 5 et sans vignettes ne sont pas autorisés à circuler. L'ordre des vignettes est le suivant : EL, V1, V2, V3, V4, V5, NC. EL correspond aux véhicules électriques et NC aux véhicules sans vignette.\n",
      "type : ['string', 'null']\n",
      "required : non\n",
      "\t ------- Values -------\n",
      "\t name : V5\n",
      "\t definition : véhicules CRITAIR 5\n",
      "\t IRI : None\n",
      "\t --------------\n",
      "\t name : V4\n",
      "\t definition : véhicules CRITAIR 4\n",
      "\t IRI : None\n",
      "\t --------------\n",
      "\t name : V3\n",
      "\t definition : véhicules CRITAIR 3\n",
      "\t IRI : None\n",
      "\t --------------\n",
      "\t name : V2\n",
      "\t definition : véhicules CRITAIR 2\n",
      "\t IRI : None\n",
      "\t --------------\n",
      "\t name : V1\n",
      "\t definition : véhicules CRITAIR 1\n",
      "\t IRI : None\n",
      "\t --------------\n",
      "\t name : EL\n",
      "\t definition : véhicules électriques\n",
      "\t IRI : None\n",
      "\t --------------\n",
      "\t name : NC\n",
      "\t definition : véhicules sans vignette\n",
      "\t IRI : None\n",
      "\t --------------\n",
      "\t name : null\n",
      "\t definition : non mentionné\n",
      "\t IRI : None\n",
      "\t --------------\n"
     ]
    }
   ],
   "source": [
    "dangling_bundles = b0.children()\n",
    "dangling_bundles[\"vp_critair\"].document(enum_values = {\"V5\":\"véhicules CRITAIR 5\",\n",
    "                                                       \"V4\": \"véhicules CRITAIR 4\",\n",
    "                                                       \"V3\":\"véhicules CRITAIR 3\",\n",
    "                                                       \"V2\":\"véhicules CRITAIR 2\",\n",
    "                                                       \"V1\":\"véhicules CRITAIR 1\",\n",
    "                                                       \"EL\":\"véhicules électriques\",\n",
    "                                                       \"NC\":\"véhicules sans vignette\",\n",
    "                                                       \"null\":\"non mentionné\"\n",
    "})\n",
    "dangling_bundles[\"vul_critair\"].document(enum_values = {\"V5\":\"véhicules CRITAIR 5\",\n",
    "                                                       \"V4\": \"véhicules CRITAIR 4\",\n",
    "                                                       \"V3\":\"véhicules CRITAIR 3\",\n",
    "                                                       \"V2\":\"véhicules CRITAIR 2\",\n",
    "                                                       \"V1\":\"véhicules CRITAIR 1\",\n",
    "                                                       \"EL\":\"véhicules électriques\",\n",
    "                                                       \"NC\":\"véhicules sans vignette\",\n",
    "                                                       \"null\":\"non mentionné\"\n",
    "})\n",
    "dangling_bundles[\"pl_critair\"].document(enum_values = {\"V5\":\"véhicules CRITAIR 5\",\n",
    "                                                       \"V4\": \"véhicules CRITAIR 4\",\n",
    "                                                       \"V3\":\"véhicules CRITAIR 3\",\n",
    "                                                       \"V2\":\"véhicules CRITAIR 2\",\n",
    "                                                       \"V1\":\"véhicules CRITAIR 1\",\n",
    "                                                       \"EL\":\"véhicules électriques\",\n",
    "                                                       \"NC\":\"véhicules sans vignette\",\n",
    "                                                       \"null\":\"non mentionné\"\n",
    "})\n",
    "dangling_bundles[\"autobus_autocars_critair\"].document(enum_values = {\"V5\":\"véhicules CRITAIR 5\",\n",
    "                                                       \"V4\": \"véhicules CRITAIR 4\",\n",
    "                                                       \"V3\":\"véhicules CRITAIR 3\",\n",
    "                                                       \"V2\":\"véhicules CRITAIR 2\",\n",
    "                                                       \"V1\":\"véhicules CRITAIR 1\",\n",
    "                                                       \"EL\":\"véhicules électriques\",\n",
    "                                                       \"NC\":\"véhicules sans vignette\",\n",
    "                                                       \"null\":\"non mentionné\"\n",
    "})\n",
    "dangling_bundles[\"deux_rm_critair\"].document(enum_values = {\"V5\":\"véhicules CRITAIR 5\",\n",
    "                                                       \"V4\": \"véhicules CRITAIR 4\",\n",
    "                                                       \"V3\":\"véhicules CRITAIR 3\",\n",
    "                                                       \"V2\":\"véhicules CRITAIR 2\",\n",
    "                                                       \"V1\":\"véhicules CRITAIR 1\",\n",
    "                                                       \"EL\":\"véhicules électriques\",\n",
    "                                                       \"NC\":\"véhicules sans vignette\",\n",
    "                                                       \"null\":\"non mentionné\"\n",
    "})\n",
    "\n",
    "\n",
    "dangling_bundles[\"deux_rm_critair\"].show()"
   ]
  },
  {
   "cell_type": "markdown",
   "id": "5f5d718a-3281-488a-8418-3b1d31709e1f",
   "metadata": {},
   "source": [
    "### 3. Loaders"
   ]
  },
  {
   "cell_type": "markdown",
   "id": "fce9aa53-7ded-40da-9a74-e4966d621dc6",
   "metadata": {},
   "source": [
    "Presently, we propose two loaders:\n",
    "1. generateOntology\n",
    "2. generateRDF"
   ]
  },
  {
   "cell_type": "markdown",
   "id": "2adfc9ed-c38f-4219-8c9a-0f56455194f3",
   "metadata": {},
   "source": [
    "#### 3.1 Generate the ontology"
   ]
  },
  {
   "cell_type": "code",
   "execution_count": 6,
   "id": "9a3de26c-10ab-41bb-b043-f8a59e887dbd",
   "metadata": {},
   "outputs": [],
   "source": [
    "g, kpi_results = b0.generateOntology(True)"
   ]
  },
  {
   "cell_type": "markdown",
   "id": "b05a47c9-77b4-4dd9-961b-118c7c4dfd32",
   "metadata": {},
   "source": [
    "##### Overview of the generated ontology"
   ]
  },
  {
   "cell_type": "code",
   "execution_count": 7,
   "id": "d6222eff-0736-4791-b579-47576fc1b55d",
   "metadata": {},
   "outputs": [
    {
     "data": {
      "text/html": [
       "<div>\n",
       "<style scoped>\n",
       "    .dataframe tbody tr th:only-of-type {\n",
       "        vertical-align: middle;\n",
       "    }\n",
       "\n",
       "    .dataframe tbody tr th {\n",
       "        vertical-align: top;\n",
       "    }\n",
       "\n",
       "    .dataframe thead th {\n",
       "        text-align: right;\n",
       "    }\n",
       "</style>\n",
       "<table border=\"1\" class=\"dataframe\">\n",
       "  <thead>\n",
       "    <tr style=\"text-align: right;\">\n",
       "      <th></th>\n",
       "      <th>IRI</th>\n",
       "      <th>type</th>\n",
       "      <th>related</th>\n",
       "    </tr>\n",
       "  </thead>\n",
       "  <tbody>\n",
       "    <tr>\n",
       "      <th>0</th>\n",
       "      <td>https://data.grandlyon.com/onto/Emissionzone</td>\n",
       "      <td>Class</td>\n",
       "      <td>NA</td>\n",
       "    </tr>\n",
       "    <tr>\n",
       "      <th>1</th>\n",
       "      <td>https://data.grandlyon.com/onto/id</td>\n",
       "      <td>DatatypeProperty</td>\n",
       "      <td>EmissionZone</td>\n",
       "    </tr>\n",
       "    <tr>\n",
       "      <th>2</th>\n",
       "      <td>https://data.grandlyon.com/onto/dateDebut</td>\n",
       "      <td>DatatypeProperty</td>\n",
       "      <td>EmissionZone</td>\n",
       "    </tr>\n",
       "    <tr>\n",
       "      <th>3</th>\n",
       "      <td>https://data.grandlyon.com/onto/dateFin</td>\n",
       "      <td>DatatypeProperty</td>\n",
       "      <td>EmissionZone</td>\n",
       "    </tr>\n",
       "    <tr>\n",
       "      <th>4</th>\n",
       "      <td>https://data.grandlyon.com/onto/vpHoraires</td>\n",
       "      <td>DatatypeProperty</td>\n",
       "      <td>EmissionZone</td>\n",
       "    </tr>\n",
       "    <tr>\n",
       "      <th>...</th>\n",
       "      <td>...</td>\n",
       "      <td>...</td>\n",
       "      <td>...</td>\n",
       "    </tr>\n",
       "    <tr>\n",
       "      <th>56</th>\n",
       "      <td>https://data.grandlyon.com/vocab/v2</td>\n",
       "      <td>Concept</td>\n",
       "      <td>deux_rm_critair</td>\n",
       "    </tr>\n",
       "    <tr>\n",
       "      <th>57</th>\n",
       "      <td>https://data.grandlyon.com/vocab/v1</td>\n",
       "      <td>Concept</td>\n",
       "      <td>deux_rm_critair</td>\n",
       "    </tr>\n",
       "    <tr>\n",
       "      <th>58</th>\n",
       "      <td>https://data.grandlyon.com/vocab/el</td>\n",
       "      <td>Concept</td>\n",
       "      <td>deux_rm_critair</td>\n",
       "    </tr>\n",
       "    <tr>\n",
       "      <th>59</th>\n",
       "      <td>https://data.grandlyon.com/vocab/nc</td>\n",
       "      <td>Concept</td>\n",
       "      <td>deux_rm_critair</td>\n",
       "    </tr>\n",
       "    <tr>\n",
       "      <th>60</th>\n",
       "      <td>https://data.grandlyon.com/vocab/null</td>\n",
       "      <td>Concept</td>\n",
       "      <td>deux_rm_critair</td>\n",
       "    </tr>\n",
       "  </tbody>\n",
       "</table>\n",
       "<p>61 rows × 3 columns</p>\n",
       "</div>"
      ],
      "text/plain": [
       "                                             IRI              type  \\\n",
       "0   https://data.grandlyon.com/onto/Emissionzone             Class   \n",
       "1             https://data.grandlyon.com/onto/id  DatatypeProperty   \n",
       "2      https://data.grandlyon.com/onto/dateDebut  DatatypeProperty   \n",
       "3        https://data.grandlyon.com/onto/dateFin  DatatypeProperty   \n",
       "4     https://data.grandlyon.com/onto/vpHoraires  DatatypeProperty   \n",
       "..                                           ...               ...   \n",
       "56           https://data.grandlyon.com/vocab/v2           Concept   \n",
       "57           https://data.grandlyon.com/vocab/v1           Concept   \n",
       "58           https://data.grandlyon.com/vocab/el           Concept   \n",
       "59           https://data.grandlyon.com/vocab/nc           Concept   \n",
       "60         https://data.grandlyon.com/vocab/null           Concept   \n",
       "\n",
       "            related  \n",
       "0                NA  \n",
       "1      EmissionZone  \n",
       "2      EmissionZone  \n",
       "3      EmissionZone  \n",
       "4      EmissionZone  \n",
       "..              ...  \n",
       "56  deux_rm_critair  \n",
       "57  deux_rm_critair  \n",
       "58  deux_rm_critair  \n",
       "59  deux_rm_critair  \n",
       "60  deux_rm_critair  \n",
       "\n",
       "[61 rows x 3 columns]"
      ]
     },
     "execution_count": 7,
     "metadata": {},
     "output_type": "execute_result"
    }
   ],
   "source": [
    "kpi_results"
   ]
  },
  {
   "cell_type": "markdown",
   "id": "1f5e8b97-dc3b-4400-88fb-79570b836c16",
   "metadata": {},
   "source": [
    "##### Save the ontology in a file"
   ]
  },
  {
   "cell_type": "code",
   "execution_count": 8,
   "id": "0c4d572d-5ae5-4f63-9f7f-29bcbba9adcb",
   "metadata": {},
   "outputs": [],
   "source": [
    "with open(\"./results/onto.ttl\", \"w\") as f:\n",
    "    f.write(g.serialize(format=\"turtle\"))"
   ]
  },
  {
   "cell_type": "markdown",
   "id": "fc070d78-3073-419f-bab6-a10b737bb3c2",
   "metadata": {},
   "source": [
    "#### 3.2 Generate the RDF data"
   ]
  },
  {
   "cell_type": "code",
   "execution_count": 9,
   "id": "afb398e1-e114-431c-88d3-d1aa23e386c6",
   "metadata": {},
   "outputs": [],
   "source": [
    "g_rdf = b0.generateRDF(True)"
   ]
  },
  {
   "cell_type": "markdown",
   "id": "767e9291-10a7-418a-bd7f-162a3763f8d3",
   "metadata": {},
   "source": [
    "##### Save the RDf data in a file"
   ]
  },
  {
   "cell_type": "code",
   "execution_count": 10,
   "id": "70c4737d-1be7-47ca-8d25-d5e0cdf29883",
   "metadata": {},
   "outputs": [],
   "source": [
    "with open(\"./results/instances.ttl\", \"w\") as f:\n",
    "    f.write(g_rdf.serialize(format=\"turtle\"))"
   ]
  },
  {
   "cell_type": "code",
   "execution_count": null,
   "id": "db29ed83-8dd0-4a61-8c84-ea802a6d04b7",
   "metadata": {},
   "outputs": [],
   "source": []
  }
 ],
 "metadata": {
  "kernelspec": {
   "display_name": "Python 3 (ipykernel)",
   "language": "python",
   "name": "python3"
  },
  "language_info": {
   "codemirror_mode": {
    "name": "ipython",
    "version": 3
   },
   "file_extension": ".py",
   "mimetype": "text/x-python",
   "name": "python",
   "nbconvert_exporter": "python",
   "pygments_lexer": "ipython3",
   "version": "3.11.5"
  }
 },
 "nbformat": 4,
 "nbformat_minor": 5
}
