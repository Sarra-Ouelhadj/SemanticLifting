{
 "cells": [
  {
   "cell_type": "markdown",
   "id": "f04029fe-c1c5-44c4-92df-4e1057ae112c",
   "metadata": {},
   "source": [
    "### Provide required inputs"
   ]
  },
  {
   "cell_type": "markdown",
   "id": "5e09f2aa-b59d-49ca-b025-ea07eaa5b7d3",
   "metadata": {},
   "source": [
    "1. the schema\n",
    "2. its compling dataset"
   ]
  },
  {
   "cell_type": "code",
   "execution_count": 114,
   "id": "01ba68e2-a3f3-4d04-9f8c-1182e9e89812",
   "metadata": {},
   "outputs": [],
   "source": [
    "schema = \"./Examples/Cycling_facilities/schema.json\"\n",
    "dataset = \"./Examples/Cycling_facilities/data.geojson\""
   ]
  },
  {
   "cell_type": "markdown",
   "id": "0fe5c85e-2e96-4f78-8e53-527cb28ef6f0",
   "metadata": {},
   "source": [
    "### Import the right extractor according to provided inputs"
   ]
  },
  {
   "cell_type": "markdown",
   "id": "c7759c1b-b78a-4aa1-9369-261a7d92668c",
   "metadata": {},
   "source": [
    "Presently, we propose two extractors:\n",
    "1. read_jsonSchema_geojsonData\n",
    "2. read_tableSchema_csvData"
   ]
  },
  {
   "cell_type": "code",
   "execution_count": 115,
   "id": "4c378ef8-8cd8-49e9-a2ca-76c5cfd98101",
   "metadata": {
    "slideshow": {
     "slide_type": ""
    },
    "tags": []
   },
   "outputs": [],
   "source": [
    "from library.read import read_jsonSchema_geojsonData"
   ]
  },
  {
   "cell_type": "markdown",
   "id": "040df5cd-b81c-47cd-aa6c-e657ffbf933c",
   "metadata": {},
   "source": [
    "From here, we start the **ETL** process:\n",
    "1. **E**xtract\n",
    "2. **T**ransform\n",
    "3. **L**oad"
   ]
  },
  {
   "cell_type": "markdown",
   "id": "08819fca-7484-4a78-9dea-dbb29dcf6a1a",
   "metadata": {},
   "source": [
    "### 1. Extractor: Bundle Graph initialisation"
   ]
  },
  {
   "cell_type": "code",
   "execution_count": 116,
   "id": "8d3e0caf-6a95-44b6-8efe-6f951bfd9f41",
   "metadata": {},
   "outputs": [],
   "source": [
    "b0 = read_jsonSchema_geojsonData(schema, dataset, \"Cycling Facility\")"
   ]
  },
  {
   "cell_type": "markdown",
   "id": "fc85259a-5e79-4d80-8235-647c9d2de4ad",
   "metadata": {},
   "source": [
    "##### Overview of the Semantic Model"
   ]
  },
  {
   "cell_type": "code",
   "execution_count": 117,
   "id": "2a8a04ac-ed38-4ba9-aaff-ecc958f39ab7",
   "metadata": {
    "output_type": "string"
   },
   "outputs": [
    {
     "data": {
      "image/svg+xml": [
       "<svg xmlns=\"http://www.w3.org/2000/svg\" xmlns:xlink=\"http://www.w3.org/1999/xlink\" contentStyleType=\"text/css\" height=\"810px\" preserveAspectRatio=\"none\" style=\"width:2682px;height:810px;background:#FFFFFF;\" version=\"1.1\" viewBox=\"0 0 2682 810\" width=\"2682px\" zoomAndPan=\"magnify\"><defs/><g><!--class CyclingFacility--><g id=\"elem_CyclingFacility\"><rect codeLine=\"1\" fill=\"#F1F1F1\" height=\"311.8125\" id=\"CyclingFacility\" rx=\"2.5\" ry=\"2.5\" style=\"stroke:#181818;stroke-width:0.5;\" width=\"129\" x=\"1344\" y=\"7\"/><ellipse cx=\"1359\" cy=\"23\" fill=\"#ADD1B2\" rx=\"11\" ry=\"11\" style=\"stroke:#181818;stroke-width:1.0;\"/><path d=\"M1361.4731,29.1431 Q1360.8921,29.4419 1360.2529,29.5913 Q1359.6138,29.7407 1358.9082,29.7407 Q1356.4014,29.7407 1355.0815,28.0889 Q1353.7617,26.437 1353.7617,23.3159 Q1353.7617,20.1865 1355.0815,18.5347 Q1356.4014,16.8828 1358.9082,16.8828 Q1359.6138,16.8828 1360.2612,17.0322 Q1360.9087,17.1816 1361.4731,17.4805 L1361.4731,20.2031 Q1360.8423,19.6221 1360.2488,19.3523 Q1359.6553,19.0825 1359.0244,19.0825 Q1357.6797,19.0825 1356.9949,20.1492 Q1356.3101,21.2158 1356.3101,23.3159 Q1356.3101,25.4077 1356.9949,26.4744 Q1357.6797,27.541 1359.0244,27.541 Q1359.6553,27.541 1360.2488,27.2712 Q1360.8423,27.0015 1361.4731,26.4204 Z \" fill=\"#000000\"/><text fill=\"#000000\" font-family=\"sans-serif\" font-size=\"14\" lengthAdjust=\"spacing\" textLength=\"97\" x=\"1373\" y=\"28.291\">CyclingFacility</text><line style=\"stroke:#181818;stroke-width:0.5;\" x1=\"1345\" x2=\"1472\" y1=\"39\" y2=\"39\"/><text fill=\"#000000\" font-family=\"sans-serif\" font-size=\"14\" lengthAdjust=\"spacing\" text-decoration=\"underline\" textLength=\"52\" x=\"1350\" y=\"56.5352\">id_local</text><text fill=\"#000000\" font-family=\"sans-serif\" font-size=\"14\" lengthAdjust=\"spacing\" textLength=\"58\" x=\"1350\" y=\"73.0234\">nom_loc</text><text fill=\"#000000\" font-family=\"sans-serif\" font-size=\"14\" lengthAdjust=\"spacing\" textLength=\"49\" x=\"1350\" y=\"89.5117\">id_osm</text><text fill=\"#000000\" font-family=\"sans-serif\" font-size=\"14\" lengthAdjust=\"spacing\" textLength=\"51\" x=\"1350\" y=\"106\">num_iti</text><text fill=\"#000000\" font-family=\"sans-serif\" font-size=\"14\" lengthAdjust=\"spacing\" textLength=\"85\" x=\"1350\" y=\"122.4883\">code_com_d</text><text fill=\"#000000\" font-family=\"sans-serif\" font-size=\"14\" lengthAdjust=\"spacing\" textLength=\"66\" x=\"1350\" y=\"138.9766\">largeur_d</text><text fill=\"#000000\" font-family=\"sans-serif\" font-size=\"14\" lengthAdjust=\"spacing\" textLength=\"85\" x=\"1350\" y=\"155.4648\">code_com_g</text><text fill=\"#000000\" font-family=\"sans-serif\" font-size=\"14\" lengthAdjust=\"spacing\" textLength=\"66\" x=\"1350\" y=\"171.9531\">largeur_g</text><text fill=\"#000000\" font-family=\"sans-serif\" font-size=\"14\" lengthAdjust=\"spacing\" textLength=\"62\" x=\"1350\" y=\"188.4414\">date_maj</text><text fill=\"#000000\" font-family=\"sans-serif\" font-size=\"14\" lengthAdjust=\"spacing\" textLength=\"58\" x=\"1350\" y=\"204.9297\">trafic_vit</text><text fill=\"#000000\" font-family=\"sans-serif\" font-size=\"14\" lengthAdjust=\"spacing\" textLength=\"52\" x=\"1350\" y=\"221.418\">lumiere</text><text fill=\"#000000\" font-family=\"sans-serif\" font-size=\"14\" lengthAdjust=\"spacing\" textLength=\"63\" x=\"1350\" y=\"237.9063\">d_service</text><text fill=\"#000000\" font-family=\"sans-serif\" font-size=\"14\" lengthAdjust=\"spacing\" textLength=\"42\" x=\"1350\" y=\"254.3945\">comm</text><text fill=\"#000000\" font-family=\"sans-serif\" font-size=\"14\" lengthAdjust=\"spacing\" textLength=\"46\" x=\"1350\" y=\"270.8828\">source</text><text fill=\"#000000\" font-family=\"sans-serif\" font-size=\"14\" lengthAdjust=\"spacing\" textLength=\"62\" x=\"1350\" y=\"287.3711\">project_c</text><text fill=\"#000000\" font-family=\"sans-serif\" font-size=\"14\" lengthAdjust=\"spacing\" textLength=\"52\" x=\"1350\" y=\"303.8594\">ref_geo</text><line style=\"stroke:#181818;stroke-width:0.5;\" x1=\"1345\" x2=\"1472\" y1=\"310.8125\" y2=\"310.8125\"/></g><!--class reseau_loc--><g id=\"elem_reseau_loc\"><rect codeLine=\"20\" fill=\"#F1F1F1\" height=\"113.4648\" id=\"reseau_loc\" rx=\"2.5\" ry=\"2.5\" style=\"stroke:#181818;stroke-width:0.5;\" width=\"105\" x=\"7\" y=\"542.75\"/><ellipse cx=\"22\" cy=\"558.75\" fill=\"#EB937F\" rx=\"11\" ry=\"11\" style=\"stroke:#181818;stroke-width:1.0;\"/><path d=\"M25.6143,565.25 L17.8945,565.25 L17.8945,552.8569 L25.6143,552.8569 L25.6143,555.0151 L20.3433,555.0151 L20.3433,557.688 L25.1162,557.688 L25.1162,559.8462 L20.3433,559.8462 L20.3433,563.0918 L25.6143,563.0918 Z \" fill=\"#000000\"/><text fill=\"#000000\" font-family=\"sans-serif\" font-size=\"14\" lengthAdjust=\"spacing\" textLength=\"73\" x=\"36\" y=\"564.041\">reseau_loc</text><line style=\"stroke:#181818;stroke-width:0.5;\" x1=\"8\" x2=\"111\" y1=\"574.75\" y2=\"574.75\"/><text fill=\"#000000\" font-family=\"sans-serif\" font-size=\"14\" lengthAdjust=\"spacing\" textLength=\"26\" x=\"13\" y=\"592.2852\">REV</text><line style=\"stroke:#181818;stroke-width:1.0;stroke-dasharray:1.0,2.0;\" x1=\"8\" x2=\"111\" y1=\"599.2383\" y2=\"599.2383\"/><text fill=\"#000000\" font-family=\"sans-serif\" font-size=\"14\" lengthAdjust=\"spacing\" textLength=\"77\" x=\"13\" y=\"616.7734\">Structurant</text><line style=\"stroke:#181818;stroke-width:1.0;stroke-dasharray:1.0,2.0;\" x1=\"8\" x2=\"111\" y1=\"623.7266\" y2=\"623.7266\"/><text fill=\"#000000\" font-family=\"sans-serif\" font-size=\"14\" lengthAdjust=\"spacing\" textLength=\"38\" x=\"13\" y=\"641.2617\">Autre</text><line style=\"stroke:#181818;stroke-width:1.0;stroke-dasharray:1.0,2.0;\" x1=\"8\" x2=\"111\" y1=\"648.2148\" y2=\"648.2148\"/></g><!--class ame_d--><g id=\"elem_ame_d\"><rect codeLine=\"29\" fill=\"#F1F1F1\" height=\"407.3242\" id=\"ame_d\" rx=\"2.5\" ry=\"2.5\" style=\"stroke:#181818;stroke-width:0.5;\" width=\"383\" x=\"147\" y=\"395.82\"/><ellipse cx=\"311.75\" cy=\"411.82\" fill=\"#EB937F\" rx=\"11\" ry=\"11\" style=\"stroke:#181818;stroke-width:1.0;\"/><path d=\"M315.3643,418.32 L307.6445,418.32 L307.6445,405.9269 L315.3643,405.9269 L315.3643,408.0851 L310.0933,408.0851 L310.0933,410.758 L314.8662,410.758 L314.8662,412.9162 L310.0933,412.9162 L310.0933,416.1618 L315.3643,416.1618 Z \" fill=\"#000000\"/><text fill=\"#000000\" font-family=\"sans-serif\" font-size=\"14\" lengthAdjust=\"spacing\" textLength=\"45\" x=\"332.25\" y=\"417.111\">ame_d</text><line style=\"stroke:#181818;stroke-width:0.5;\" x1=\"148\" x2=\"529\" y1=\"427.82\" y2=\"427.82\"/><text fill=\"#000000\" font-family=\"sans-serif\" font-size=\"14\" lengthAdjust=\"spacing\" textLength=\"110\" x=\"153\" y=\"445.3552\">PISTE CYCLABLE</text><line style=\"stroke:#181818;stroke-width:1.0;stroke-dasharray:1.0,2.0;\" x1=\"148\" x2=\"529\" y1=\"452.3083\" y2=\"452.3083\"/><text fill=\"#000000\" font-family=\"sans-serif\" font-size=\"14\" lengthAdjust=\"spacing\" textLength=\"119\" x=\"153\" y=\"469.8434\">BANDE CYCLABLE</text><line style=\"stroke:#181818;stroke-width:1.0;stroke-dasharray:1.0,2.0;\" x1=\"148\" x2=\"529\" y1=\"476.7966\" y2=\"476.7966\"/><text fill=\"#000000\" font-family=\"sans-serif\" font-size=\"14\" lengthAdjust=\"spacing\" textLength=\"206\" x=\"153\" y=\"494.3317\">DOUBLE SENS CYCLABLE PISTE</text><line style=\"stroke:#181818;stroke-width:1.0;stroke-dasharray:1.0,2.0;\" x1=\"148\" x2=\"529\" y1=\"501.2848\" y2=\"501.2848\"/><text fill=\"#000000\" font-family=\"sans-serif\" font-size=\"14\" lengthAdjust=\"spacing\" textLength=\"215\" x=\"153\" y=\"518.82\">DOUBLE SENS CYCLABLE BANDE</text><line style=\"stroke:#181818;stroke-width:1.0;stroke-dasharray:1.0,2.0;\" x1=\"148\" x2=\"529\" y1=\"525.7731\" y2=\"525.7731\"/><text fill=\"#000000\" font-family=\"sans-serif\" font-size=\"14\" lengthAdjust=\"spacing\" textLength=\"293\" x=\"153\" y=\"543.3083\">DOUBLE SENS CYCLABLE NON MATERIALISE</text><line style=\"stroke:#181818;stroke-width:1.0;stroke-dasharray:1.0,2.0;\" x1=\"148\" x2=\"529\" y1=\"550.2614\" y2=\"550.2614\"/><text fill=\"#000000\" font-family=\"sans-serif\" font-size=\"14\" lengthAdjust=\"spacing\" textLength=\"79\" x=\"153\" y=\"567.7966\">VOIE VERTE</text><line style=\"stroke:#181818;stroke-width:1.0;stroke-dasharray:1.0,2.0;\" x1=\"148\" x2=\"529\" y1=\"574.7497\" y2=\"574.7497\"/><text fill=\"#000000\" font-family=\"sans-serif\" font-size=\"14\" lengthAdjust=\"spacing\" textLength=\"66\" x=\"153\" y=\"592.2848\">VELO RUE</text><line style=\"stroke:#181818;stroke-width:1.0;stroke-dasharray:1.0,2.0;\" x1=\"148\" x2=\"529\" y1=\"599.238\" y2=\"599.238\"/><text fill=\"#000000\" font-family=\"sans-serif\" font-size=\"14\" lengthAdjust=\"spacing\" textLength=\"138\" x=\"153\" y=\"616.7731\">COULOIR BUS+VELO</text><line style=\"stroke:#181818;stroke-width:1.0;stroke-dasharray:1.0,2.0;\" x1=\"148\" x2=\"529\" y1=\"623.7262\" y2=\"623.7262\"/><text fill=\"#000000\" font-family=\"sans-serif\" font-size=\"14\" lengthAdjust=\"spacing\" textLength=\"47\" x=\"153\" y=\"641.2614\">RAMPE</text><line style=\"stroke:#181818;stroke-width:1.0;stroke-dasharray:1.0,2.0;\" x1=\"148\" x2=\"529\" y1=\"648.2145\" y2=\"648.2145\"/><text fill=\"#000000\" font-family=\"sans-serif\" font-size=\"14\" lengthAdjust=\"spacing\" textLength=\"75\" x=\"153\" y=\"665.7497\">GOULOTTE</text><line style=\"stroke:#181818;stroke-width:1.0;stroke-dasharray:1.0,2.0;\" x1=\"148\" x2=\"529\" y1=\"672.7028\" y2=\"672.7028\"/><text fill=\"#000000\" font-family=\"sans-serif\" font-size=\"14\" lengthAdjust=\"spacing\" textLength=\"371\" x=\"153\" y=\"690.238\">AMENAGEMENT MIXTE PIETON VELO HORS VOIE VERTE</text><line style=\"stroke:#181818;stroke-width:1.0;stroke-dasharray:1.0,2.0;\" x1=\"148\" x2=\"529\" y1=\"697.1911\" y2=\"697.1911\"/><text fill=\"#000000\" font-family=\"sans-serif\" font-size=\"14\" lengthAdjust=\"spacing\" textLength=\"274\" x=\"153\" y=\"714.7262\">CHAUSSEE A VOIE CENTRALE BANALISEE</text><line style=\"stroke:#181818;stroke-width:1.0;stroke-dasharray:1.0,2.0;\" x1=\"148\" x2=\"529\" y1=\"721.6794\" y2=\"721.6794\"/><text fill=\"#000000\" font-family=\"sans-serif\" font-size=\"14\" lengthAdjust=\"spacing\" textLength=\"237\" x=\"153\" y=\"739.2145\">ACCOTEMENT REVETU HORS CVCB</text><line style=\"stroke:#181818;stroke-width:1.0;stroke-dasharray:1.0,2.0;\" x1=\"148\" x2=\"529\" y1=\"746.1677\" y2=\"746.1677\"/><text fill=\"#000000\" font-family=\"sans-serif\" font-size=\"14\" lengthAdjust=\"spacing\" textLength=\"50\" x=\"153\" y=\"763.7028\">AUCUN</text><line style=\"stroke:#181818;stroke-width:1.0;stroke-dasharray:1.0,2.0;\" x1=\"148\" x2=\"529\" y1=\"770.6559\" y2=\"770.6559\"/><text fill=\"#000000\" font-family=\"sans-serif\" font-size=\"14\" lengthAdjust=\"spacing\" textLength=\"46\" x=\"153\" y=\"788.1911\">AUTRE</text><line style=\"stroke:#181818;stroke-width:1.0;stroke-dasharray:1.0,2.0;\" x1=\"148\" x2=\"529\" y1=\"795.1442\" y2=\"795.1442\"/></g><!--class regime_d--><g id=\"elem_regime_d\"><rect codeLine=\"62\" fill=\"#F1F1F1\" height=\"186.9297\" id=\"regime_d\" rx=\"2.5\" ry=\"2.5\" style=\"stroke:#181818;stroke-width:0.5;\" width=\"175\" x=\"565\" y=\"506.01\"/><ellipse cx=\"616.25\" cy=\"522.01\" fill=\"#EB937F\" rx=\"11\" ry=\"11\" style=\"stroke:#181818;stroke-width:1.0;\"/><path d=\"M619.8643,528.51 L612.1445,528.51 L612.1445,516.1169 L619.8643,516.1169 L619.8643,518.2751 L614.5933,518.2751 L614.5933,520.948 L619.3662,520.948 L619.3662,523.1062 L614.5933,523.1062 L614.5933,526.3518 L619.8643,526.3518 Z \" fill=\"#000000\"/><text fill=\"#000000\" font-family=\"sans-serif\" font-size=\"14\" lengthAdjust=\"spacing\" textLength=\"64\" x=\"636.75\" y=\"527.301\">regime_d</text><line style=\"stroke:#181818;stroke-width:0.5;\" x1=\"566\" x2=\"739\" y1=\"538.01\" y2=\"538.01\"/><text fill=\"#000000\" font-family=\"sans-serif\" font-size=\"14\" lengthAdjust=\"spacing\" textLength=\"59\" x=\"571\" y=\"555.5452\">ZONE 30</text><line style=\"stroke:#181818;stroke-width:1.0;stroke-dasharray:1.0,2.0;\" x1=\"566\" x2=\"739\" y1=\"562.4983\" y2=\"562.4983\"/><text fill=\"#000000\" font-family=\"sans-serif\" font-size=\"14\" lengthAdjust=\"spacing\" textLength=\"103\" x=\"571\" y=\"580.0334\">AIRE PIETONNE</text><line style=\"stroke:#181818;stroke-width:1.0;stroke-dasharray:1.0,2.0;\" x1=\"566\" x2=\"739\" y1=\"586.9866\" y2=\"586.9866\"/><text fill=\"#000000\" font-family=\"sans-serif\" font-size=\"14\" lengthAdjust=\"spacing\" textLength=\"147\" x=\"571\" y=\"604.5217\">ZONE DE RENCONTRE</text><line style=\"stroke:#181818;stroke-width:1.0;stroke-dasharray:1.0,2.0;\" x1=\"566\" x2=\"739\" y1=\"611.4748\" y2=\"611.4748\"/><text fill=\"#000000\" font-family=\"sans-serif\" font-size=\"14\" lengthAdjust=\"spacing\" textLength=\"143\" x=\"571\" y=\"629.01\">EN AGGLOMERATION</text><line style=\"stroke:#181818;stroke-width:1.0;stroke-dasharray:1.0,2.0;\" x1=\"566\" x2=\"739\" y1=\"635.9631\" y2=\"635.9631\"/><text fill=\"#000000\" font-family=\"sans-serif\" font-size=\"14\" lengthAdjust=\"spacing\" textLength=\"163\" x=\"571\" y=\"653.4983\">HORS AGGLOMERATION</text><line style=\"stroke:#181818;stroke-width:1.0;stroke-dasharray:1.0,2.0;\" x1=\"566\" x2=\"739\" y1=\"660.4514\" y2=\"660.4514\"/><text fill=\"#000000\" font-family=\"sans-serif\" font-size=\"14\" lengthAdjust=\"spacing\" textLength=\"46\" x=\"571\" y=\"677.9866\">AUTRE</text><line style=\"stroke:#181818;stroke-width:1.0;stroke-dasharray:1.0,2.0;\" x1=\"566\" x2=\"739\" y1=\"684.9397\" y2=\"684.9397\"/></g><!--class sens_d--><g id=\"elem_sens_d\"><rect codeLine=\"77\" fill=\"#F1F1F1\" height=\"88.9766\" id=\"sens_d\" rx=\"2.5\" ry=\"2.5\" style=\"stroke:#181818;stroke-width:0.5;\" width=\"136\" x=\"775.5\" y=\"554.99\"/><ellipse cx=\"816.15\" cy=\"570.99\" fill=\"#EB937F\" rx=\"11\" ry=\"11\" style=\"stroke:#181818;stroke-width:1.0;\"/><path d=\"M819.7643,577.49 L812.0445,577.49 L812.0445,565.0969 L819.7643,565.0969 L819.7643,567.2551 L814.4933,567.2551 L814.4933,569.928 L819.2662,569.928 L819.2662,572.0862 L814.4933,572.0862 L814.4933,575.3318 L819.7643,575.3318 Z \" fill=\"#000000\"/><text fill=\"#000000\" font-family=\"sans-serif\" font-size=\"14\" lengthAdjust=\"spacing\" textLength=\"47\" x=\"835.85\" y=\"576.281\">sens_d</text><line style=\"stroke:#181818;stroke-width:0.5;\" x1=\"776.5\" x2=\"910.5\" y1=\"586.99\" y2=\"586.99\"/><text fill=\"#000000\" font-family=\"sans-serif\" font-size=\"14\" lengthAdjust=\"spacing\" textLength=\"124\" x=\"781.5\" y=\"604.5252\">UNIDIRECTIONNEL</text><line style=\"stroke:#181818;stroke-width:1.0;stroke-dasharray:1.0,2.0;\" x1=\"776.5\" x2=\"910.5\" y1=\"611.4783\" y2=\"611.4783\"/><text fill=\"#000000\" font-family=\"sans-serif\" font-size=\"14\" lengthAdjust=\"spacing\" textLength=\"112\" x=\"781.5\" y=\"629.0134\">BIDIRECTIONNEL</text><line style=\"stroke:#181818;stroke-width:1.0;stroke-dasharray:1.0,2.0;\" x1=\"776.5\" x2=\"910.5\" y1=\"635.9666\" y2=\"635.9666\"/></g><!--class local_d--><g id=\"elem_local_d\"><rect codeLine=\"84\" fill=\"#F1F1F1\" height=\"113.4648\" id=\"local_d\" rx=\"2.5\" ry=\"2.5\" style=\"stroke:#181818;stroke-width:0.5;\" width=\"117\" x=\"947\" y=\"542.75\"/><ellipse cx=\"978.65\" cy=\"558.75\" fill=\"#EB937F\" rx=\"11\" ry=\"11\" style=\"stroke:#181818;stroke-width:1.0;\"/><path d=\"M982.2643,565.25 L974.5445,565.25 L974.5445,552.8569 L982.2643,552.8569 L982.2643,555.0151 L976.9933,555.0151 L976.9933,557.688 L981.7662,557.688 L981.7662,559.8462 L976.9933,559.8462 L976.9933,563.0918 L982.2643,563.0918 Z \" fill=\"#000000\"/><text fill=\"#000000\" font-family=\"sans-serif\" font-size=\"14\" lengthAdjust=\"spacing\" textLength=\"48\" x=\"996.35\" y=\"564.041\">local_d</text><line style=\"stroke:#181818;stroke-width:0.5;\" x1=\"948\" x2=\"1063\" y1=\"574.75\" y2=\"574.75\"/><text fill=\"#000000\" font-family=\"sans-serif\" font-size=\"14\" lengthAdjust=\"spacing\" textLength=\"71\" x=\"953\" y=\"592.2852\">TROTTOIR</text><line style=\"stroke:#181818;stroke-width:1.0;stroke-dasharray:1.0,2.0;\" x1=\"948\" x2=\"1063\" y1=\"599.2383\" y2=\"599.2383\"/><text fill=\"#000000\" font-family=\"sans-serif\" font-size=\"14\" lengthAdjust=\"spacing\" textLength=\"105\" x=\"953\" y=\"616.7734\">INTERMEDIAIRE</text><line style=\"stroke:#181818;stroke-width:1.0;stroke-dasharray:1.0,2.0;\" x1=\"948\" x2=\"1063\" y1=\"623.7266\" y2=\"623.7266\"/><text fill=\"#000000\" font-family=\"sans-serif\" font-size=\"14\" lengthAdjust=\"spacing\" textLength=\"72\" x=\"953\" y=\"641.2617\">CHAUSSEE</text><line style=\"stroke:#181818;stroke-width:1.0;stroke-dasharray:1.0,2.0;\" x1=\"948\" x2=\"1063\" y1=\"648.2148\" y2=\"648.2148\"/></g><!--class statut_d--><g id=\"elem_statut_d\"><rect codeLine=\"93\" fill=\"#F1F1F1\" height=\"113.4648\" id=\"statut_d\" rx=\"2.5\" ry=\"2.5\" style=\"stroke:#181818;stroke-width:0.5;\" width=\"100\" x=\"1099.5\" y=\"542.75\"/><ellipse cx=\"1120.35\" cy=\"558.75\" fill=\"#EB937F\" rx=\"11\" ry=\"11\" style=\"stroke:#181818;stroke-width:1.0;\"/><path d=\"M1123.9643,565.25 L1116.2445,565.25 L1116.2445,552.8569 L1123.9643,552.8569 L1123.9643,555.0151 L1118.6933,555.0151 L1118.6933,557.688 L1123.4662,557.688 L1123.4662,559.8462 L1118.6933,559.8462 L1118.6933,563.0918 L1123.9643,563.0918 Z \" fill=\"#000000\"/><text fill=\"#000000\" font-family=\"sans-serif\" font-size=\"14\" lengthAdjust=\"spacing\" textLength=\"55\" x=\"1135.65\" y=\"564.041\">statut_d</text><line style=\"stroke:#181818;stroke-width:0.5;\" x1=\"1100.5\" x2=\"1198.5\" y1=\"574.75\" y2=\"574.75\"/><text fill=\"#000000\" font-family=\"sans-serif\" font-size=\"14\" lengthAdjust=\"spacing\" textLength=\"88\" x=\"1105.5\" y=\"592.2852\">EN TRAVAUX</text><line style=\"stroke:#181818;stroke-width:1.0;stroke-dasharray:1.0,2.0;\" x1=\"1100.5\" x2=\"1198.5\" y1=\"599.2383\" y2=\"599.2383\"/><text fill=\"#000000\" font-family=\"sans-serif\" font-size=\"14\" lengthAdjust=\"spacing\" textLength=\"78\" x=\"1105.5\" y=\"616.7734\">EN SERVICE</text><line style=\"stroke:#181818;stroke-width:1.0;stroke-dasharray:1.0,2.0;\" x1=\"1100.5\" x2=\"1198.5\" y1=\"623.7266\" y2=\"623.7266\"/><text fill=\"#000000\" font-family=\"sans-serif\" font-size=\"14\" lengthAdjust=\"spacing\" textLength=\"81\" x=\"1105.5\" y=\"641.2617\">PROVISOIRE</text><line style=\"stroke:#181818;stroke-width:1.0;stroke-dasharray:1.0,2.0;\" x1=\"1100.5\" x2=\"1198.5\" y1=\"648.2148\" y2=\"648.2148\"/></g><!--class revet_d--><g id=\"elem_revet_d\"><rect codeLine=\"102\" fill=\"#F1F1F1\" height=\"113.4648\" id=\"revet_d\" rx=\"2.5\" ry=\"2.5\" style=\"stroke:#181818;stroke-width:0.5;\" width=\"82\" x=\"1234.5\" y=\"542.75\"/><ellipse cx=\"1249.5\" cy=\"558.75\" fill=\"#EB937F\" rx=\"11\" ry=\"11\" style=\"stroke:#181818;stroke-width:1.0;\"/><path d=\"M1253.1143,565.25 L1245.3945,565.25 L1245.3945,552.8569 L1253.1143,552.8569 L1253.1143,555.0151 L1247.8433,555.0151 L1247.8433,557.688 L1252.6162,557.688 L1252.6162,559.8462 L1247.8433,559.8462 L1247.8433,563.0918 L1253.1143,563.0918 Z \" fill=\"#000000\"/><text fill=\"#000000\" font-family=\"sans-serif\" font-size=\"14\" lengthAdjust=\"spacing\" textLength=\"50\" x=\"1263.5\" y=\"564.041\">revet_d</text><line style=\"stroke:#181818;stroke-width:0.5;\" x1=\"1235.5\" x2=\"1315.5\" y1=\"574.75\" y2=\"574.75\"/><text fill=\"#000000\" font-family=\"sans-serif\" font-size=\"14\" lengthAdjust=\"spacing\" textLength=\"35\" x=\"1240.5\" y=\"592.2852\">LISSE</text><line style=\"stroke:#181818;stroke-width:1.0;stroke-dasharray:1.0,2.0;\" x1=\"1235.5\" x2=\"1315.5\" y1=\"599.2383\" y2=\"599.2383\"/><text fill=\"#000000\" font-family=\"sans-serif\" font-size=\"14\" lengthAdjust=\"spacing\" textLength=\"66\" x=\"1240.5\" y=\"616.7734\">RUGUEUX</text><line style=\"stroke:#181818;stroke-width:1.0;stroke-dasharray:1.0,2.0;\" x1=\"1235.5\" x2=\"1315.5\" y1=\"623.7266\" y2=\"623.7266\"/><text fill=\"#000000\" font-family=\"sans-serif\" font-size=\"14\" lengthAdjust=\"spacing\" textLength=\"53\" x=\"1240.5\" y=\"641.2617\">MEUBLE</text><line style=\"stroke:#181818;stroke-width:1.0;stroke-dasharray:1.0,2.0;\" x1=\"1235.5\" x2=\"1315.5\" y1=\"648.2148\" y2=\"648.2148\"/></g><!--class ame_g--><g id=\"elem_ame_g\"><rect codeLine=\"111\" fill=\"#F1F1F1\" height=\"407.3242\" id=\"ame_g\" rx=\"2.5\" ry=\"2.5\" style=\"stroke:#181818;stroke-width:0.5;\" width=\"383\" x=\"1351\" y=\"395.82\"/><ellipse cx=\"1515.75\" cy=\"411.82\" fill=\"#EB937F\" rx=\"11\" ry=\"11\" style=\"stroke:#181818;stroke-width:1.0;\"/><path d=\"M1519.3643,418.32 L1511.6445,418.32 L1511.6445,405.9269 L1519.3643,405.9269 L1519.3643,408.0851 L1514.0933,408.0851 L1514.0933,410.758 L1518.8662,410.758 L1518.8662,412.9162 L1514.0933,412.9162 L1514.0933,416.1618 L1519.3643,416.1618 Z \" fill=\"#000000\"/><text fill=\"#000000\" font-family=\"sans-serif\" font-size=\"14\" lengthAdjust=\"spacing\" textLength=\"45\" x=\"1536.25\" y=\"417.111\">ame_g</text><line style=\"stroke:#181818;stroke-width:0.5;\" x1=\"1352\" x2=\"1733\" y1=\"427.82\" y2=\"427.82\"/><text fill=\"#000000\" font-family=\"sans-serif\" font-size=\"14\" lengthAdjust=\"spacing\" textLength=\"110\" x=\"1357\" y=\"445.3552\">PISTE CYCLABLE</text><line style=\"stroke:#181818;stroke-width:1.0;stroke-dasharray:1.0,2.0;\" x1=\"1352\" x2=\"1733\" y1=\"452.3083\" y2=\"452.3083\"/><text fill=\"#000000\" font-family=\"sans-serif\" font-size=\"14\" lengthAdjust=\"spacing\" textLength=\"119\" x=\"1357\" y=\"469.8434\">BANDE CYCLABLE</text><line style=\"stroke:#181818;stroke-width:1.0;stroke-dasharray:1.0,2.0;\" x1=\"1352\" x2=\"1733\" y1=\"476.7966\" y2=\"476.7966\"/><text fill=\"#000000\" font-family=\"sans-serif\" font-size=\"14\" lengthAdjust=\"spacing\" textLength=\"206\" x=\"1357\" y=\"494.3317\">DOUBLE SENS CYCLABLE PISTE</text><line style=\"stroke:#181818;stroke-width:1.0;stroke-dasharray:1.0,2.0;\" x1=\"1352\" x2=\"1733\" y1=\"501.2848\" y2=\"501.2848\"/><text fill=\"#000000\" font-family=\"sans-serif\" font-size=\"14\" lengthAdjust=\"spacing\" textLength=\"215\" x=\"1357\" y=\"518.82\">DOUBLE SENS CYCLABLE BANDE</text><line style=\"stroke:#181818;stroke-width:1.0;stroke-dasharray:1.0,2.0;\" x1=\"1352\" x2=\"1733\" y1=\"525.7731\" y2=\"525.7731\"/><text fill=\"#000000\" font-family=\"sans-serif\" font-size=\"14\" lengthAdjust=\"spacing\" textLength=\"293\" x=\"1357\" y=\"543.3083\">DOUBLE SENS CYCLABLE NON MATERIALISE</text><line style=\"stroke:#181818;stroke-width:1.0;stroke-dasharray:1.0,2.0;\" x1=\"1352\" x2=\"1733\" y1=\"550.2614\" y2=\"550.2614\"/><text fill=\"#000000\" font-family=\"sans-serif\" font-size=\"14\" lengthAdjust=\"spacing\" textLength=\"79\" x=\"1357\" y=\"567.7966\">VOIE VERTE</text><line style=\"stroke:#181818;stroke-width:1.0;stroke-dasharray:1.0,2.0;\" x1=\"1352\" x2=\"1733\" y1=\"574.7497\" y2=\"574.7497\"/><text fill=\"#000000\" font-family=\"sans-serif\" font-size=\"14\" lengthAdjust=\"spacing\" textLength=\"66\" x=\"1357\" y=\"592.2848\">VELO RUE</text><line style=\"stroke:#181818;stroke-width:1.0;stroke-dasharray:1.0,2.0;\" x1=\"1352\" x2=\"1733\" y1=\"599.238\" y2=\"599.238\"/><text fill=\"#000000\" font-family=\"sans-serif\" font-size=\"14\" lengthAdjust=\"spacing\" textLength=\"138\" x=\"1357\" y=\"616.7731\">COULOIR BUS+VELO</text><line style=\"stroke:#181818;stroke-width:1.0;stroke-dasharray:1.0,2.0;\" x1=\"1352\" x2=\"1733\" y1=\"623.7262\" y2=\"623.7262\"/><text fill=\"#000000\" font-family=\"sans-serif\" font-size=\"14\" lengthAdjust=\"spacing\" textLength=\"47\" x=\"1357\" y=\"641.2614\">RAMPE</text><line style=\"stroke:#181818;stroke-width:1.0;stroke-dasharray:1.0,2.0;\" x1=\"1352\" x2=\"1733\" y1=\"648.2145\" y2=\"648.2145\"/><text fill=\"#000000\" font-family=\"sans-serif\" font-size=\"14\" lengthAdjust=\"spacing\" textLength=\"75\" x=\"1357\" y=\"665.7497\">GOULOTTE</text><line style=\"stroke:#181818;stroke-width:1.0;stroke-dasharray:1.0,2.0;\" x1=\"1352\" x2=\"1733\" y1=\"672.7028\" y2=\"672.7028\"/><text fill=\"#000000\" font-family=\"sans-serif\" font-size=\"14\" lengthAdjust=\"spacing\" textLength=\"371\" x=\"1357\" y=\"690.238\">AMENAGEMENT MIXTE PIETON VELO HORS VOIE VERTE</text><line style=\"stroke:#181818;stroke-width:1.0;stroke-dasharray:1.0,2.0;\" x1=\"1352\" x2=\"1733\" y1=\"697.1911\" y2=\"697.1911\"/><text fill=\"#000000\" font-family=\"sans-serif\" font-size=\"14\" lengthAdjust=\"spacing\" textLength=\"274\" x=\"1357\" y=\"714.7262\">CHAUSSEE A VOIE CENTRALE BANALISEE</text><line style=\"stroke:#181818;stroke-width:1.0;stroke-dasharray:1.0,2.0;\" x1=\"1352\" x2=\"1733\" y1=\"721.6794\" y2=\"721.6794\"/><text fill=\"#000000\" font-family=\"sans-serif\" font-size=\"14\" lengthAdjust=\"spacing\" textLength=\"237\" x=\"1357\" y=\"739.2145\">ACCOTEMENT REVETU HORS CVCB</text><line style=\"stroke:#181818;stroke-width:1.0;stroke-dasharray:1.0,2.0;\" x1=\"1352\" x2=\"1733\" y1=\"746.1677\" y2=\"746.1677\"/><text fill=\"#000000\" font-family=\"sans-serif\" font-size=\"14\" lengthAdjust=\"spacing\" textLength=\"50\" x=\"1357\" y=\"763.7028\">AUCUN</text><line style=\"stroke:#181818;stroke-width:1.0;stroke-dasharray:1.0,2.0;\" x1=\"1352\" x2=\"1733\" y1=\"770.6559\" y2=\"770.6559\"/><text fill=\"#000000\" font-family=\"sans-serif\" font-size=\"14\" lengthAdjust=\"spacing\" textLength=\"46\" x=\"1357\" y=\"788.1911\">AUTRE</text><line style=\"stroke:#181818;stroke-width:1.0;stroke-dasharray:1.0,2.0;\" x1=\"1352\" x2=\"1733\" y1=\"795.1442\" y2=\"795.1442\"/></g><!--class regime_g--><g id=\"elem_regime_g\"><rect codeLine=\"144\" fill=\"#F1F1F1\" height=\"186.9297\" id=\"regime_g\" rx=\"2.5\" ry=\"2.5\" style=\"stroke:#181818;stroke-width:0.5;\" width=\"175\" x=\"1769\" y=\"506.01\"/><ellipse cx=\"1820.25\" cy=\"522.01\" fill=\"#EB937F\" rx=\"11\" ry=\"11\" style=\"stroke:#181818;stroke-width:1.0;\"/><path d=\"M1823.8643,528.51 L1816.1445,528.51 L1816.1445,516.1169 L1823.8643,516.1169 L1823.8643,518.2751 L1818.5933,518.2751 L1818.5933,520.948 L1823.3662,520.948 L1823.3662,523.1062 L1818.5933,523.1062 L1818.5933,526.3518 L1823.8643,526.3518 Z \" fill=\"#000000\"/><text fill=\"#000000\" font-family=\"sans-serif\" font-size=\"14\" lengthAdjust=\"spacing\" textLength=\"64\" x=\"1840.75\" y=\"527.301\">regime_g</text><line style=\"stroke:#181818;stroke-width:0.5;\" x1=\"1770\" x2=\"1943\" y1=\"538.01\" y2=\"538.01\"/><text fill=\"#000000\" font-family=\"sans-serif\" font-size=\"14\" lengthAdjust=\"spacing\" textLength=\"59\" x=\"1775\" y=\"555.5452\">ZONE 30</text><line style=\"stroke:#181818;stroke-width:1.0;stroke-dasharray:1.0,2.0;\" x1=\"1770\" x2=\"1943\" y1=\"562.4983\" y2=\"562.4983\"/><text fill=\"#000000\" font-family=\"sans-serif\" font-size=\"14\" lengthAdjust=\"spacing\" textLength=\"103\" x=\"1775\" y=\"580.0334\">AIRE PIETONNE</text><line style=\"stroke:#181818;stroke-width:1.0;stroke-dasharray:1.0,2.0;\" x1=\"1770\" x2=\"1943\" y1=\"586.9866\" y2=\"586.9866\"/><text fill=\"#000000\" font-family=\"sans-serif\" font-size=\"14\" lengthAdjust=\"spacing\" textLength=\"147\" x=\"1775\" y=\"604.5217\">ZONE DE RENCONTRE</text><line style=\"stroke:#181818;stroke-width:1.0;stroke-dasharray:1.0,2.0;\" x1=\"1770\" x2=\"1943\" y1=\"611.4748\" y2=\"611.4748\"/><text fill=\"#000000\" font-family=\"sans-serif\" font-size=\"14\" lengthAdjust=\"spacing\" textLength=\"143\" x=\"1775\" y=\"629.01\">EN AGGLOMERATION</text><line style=\"stroke:#181818;stroke-width:1.0;stroke-dasharray:1.0,2.0;\" x1=\"1770\" x2=\"1943\" y1=\"635.9631\" y2=\"635.9631\"/><text fill=\"#000000\" font-family=\"sans-serif\" font-size=\"14\" lengthAdjust=\"spacing\" textLength=\"163\" x=\"1775\" y=\"653.4983\">HORS AGGLOMERATION</text><line style=\"stroke:#181818;stroke-width:1.0;stroke-dasharray:1.0,2.0;\" x1=\"1770\" x2=\"1943\" y1=\"660.4514\" y2=\"660.4514\"/><text fill=\"#000000\" font-family=\"sans-serif\" font-size=\"14\" lengthAdjust=\"spacing\" textLength=\"46\" x=\"1775\" y=\"677.9866\">AUTRE</text><line style=\"stroke:#181818;stroke-width:1.0;stroke-dasharray:1.0,2.0;\" x1=\"1770\" x2=\"1943\" y1=\"684.9397\" y2=\"684.9397\"/></g><!--class sens_g--><g id=\"elem_sens_g\"><rect codeLine=\"159\" fill=\"#F1F1F1\" height=\"88.9766\" id=\"sens_g\" rx=\"2.5\" ry=\"2.5\" style=\"stroke:#181818;stroke-width:0.5;\" width=\"136\" x=\"1979.5\" y=\"554.99\"/><ellipse cx=\"2020.15\" cy=\"570.99\" fill=\"#EB937F\" rx=\"11\" ry=\"11\" style=\"stroke:#181818;stroke-width:1.0;\"/><path d=\"M2023.7643,577.49 L2016.0445,577.49 L2016.0445,565.0969 L2023.7643,565.0969 L2023.7643,567.2551 L2018.4933,567.2551 L2018.4933,569.928 L2023.2662,569.928 L2023.2662,572.0862 L2018.4933,572.0862 L2018.4933,575.3318 L2023.7643,575.3318 Z \" fill=\"#000000\"/><text fill=\"#000000\" font-family=\"sans-serif\" font-size=\"14\" lengthAdjust=\"spacing\" textLength=\"47\" x=\"2039.85\" y=\"576.281\">sens_g</text><line style=\"stroke:#181818;stroke-width:0.5;\" x1=\"1980.5\" x2=\"2114.5\" y1=\"586.99\" y2=\"586.99\"/><text fill=\"#000000\" font-family=\"sans-serif\" font-size=\"14\" lengthAdjust=\"spacing\" textLength=\"124\" x=\"1985.5\" y=\"604.5252\">UNIDIRECTIONNEL</text><line style=\"stroke:#181818;stroke-width:1.0;stroke-dasharray:1.0,2.0;\" x1=\"1980.5\" x2=\"2114.5\" y1=\"611.4783\" y2=\"611.4783\"/><text fill=\"#000000\" font-family=\"sans-serif\" font-size=\"14\" lengthAdjust=\"spacing\" textLength=\"112\" x=\"1985.5\" y=\"629.0134\">BIDIRECTIONNEL</text><line style=\"stroke:#181818;stroke-width:1.0;stroke-dasharray:1.0,2.0;\" x1=\"1980.5\" x2=\"2114.5\" y1=\"635.9666\" y2=\"635.9666\"/></g><!--class local_g--><g id=\"elem_local_g\"><rect codeLine=\"166\" fill=\"#F1F1F1\" height=\"113.4648\" id=\"local_g\" rx=\"2.5\" ry=\"2.5\" style=\"stroke:#181818;stroke-width:0.5;\" width=\"117\" x=\"2151\" y=\"542.75\"/><ellipse cx=\"2182.65\" cy=\"558.75\" fill=\"#EB937F\" rx=\"11\" ry=\"11\" style=\"stroke:#181818;stroke-width:1.0;\"/><path d=\"M2186.2643,565.25 L2178.5445,565.25 L2178.5445,552.8569 L2186.2643,552.8569 L2186.2643,555.0151 L2180.9933,555.0151 L2180.9933,557.688 L2185.7662,557.688 L2185.7662,559.8462 L2180.9933,559.8462 L2180.9933,563.0918 L2186.2643,563.0918 Z \" fill=\"#000000\"/><text fill=\"#000000\" font-family=\"sans-serif\" font-size=\"14\" lengthAdjust=\"spacing\" textLength=\"48\" x=\"2200.35\" y=\"564.041\">local_g</text><line style=\"stroke:#181818;stroke-width:0.5;\" x1=\"2152\" x2=\"2267\" y1=\"574.75\" y2=\"574.75\"/><text fill=\"#000000\" font-family=\"sans-serif\" font-size=\"14\" lengthAdjust=\"spacing\" textLength=\"71\" x=\"2157\" y=\"592.2852\">TROTTOIR</text><line style=\"stroke:#181818;stroke-width:1.0;stroke-dasharray:1.0,2.0;\" x1=\"2152\" x2=\"2267\" y1=\"599.2383\" y2=\"599.2383\"/><text fill=\"#000000\" font-family=\"sans-serif\" font-size=\"14\" lengthAdjust=\"spacing\" textLength=\"105\" x=\"2157\" y=\"616.7734\">INTERMEDIAIRE</text><line style=\"stroke:#181818;stroke-width:1.0;stroke-dasharray:1.0,2.0;\" x1=\"2152\" x2=\"2267\" y1=\"623.7266\" y2=\"623.7266\"/><text fill=\"#000000\" font-family=\"sans-serif\" font-size=\"14\" lengthAdjust=\"spacing\" textLength=\"72\" x=\"2157\" y=\"641.2617\">CHAUSSEE</text><line style=\"stroke:#181818;stroke-width:1.0;stroke-dasharray:1.0,2.0;\" x1=\"2152\" x2=\"2267\" y1=\"648.2148\" y2=\"648.2148\"/></g><!--class statut_g--><g id=\"elem_statut_g\"><rect codeLine=\"175\" fill=\"#F1F1F1\" height=\"113.4648\" id=\"statut_g\" rx=\"2.5\" ry=\"2.5\" style=\"stroke:#181818;stroke-width:0.5;\" width=\"100\" x=\"2303.5\" y=\"542.75\"/><ellipse cx=\"2324.35\" cy=\"558.75\" fill=\"#EB937F\" rx=\"11\" ry=\"11\" style=\"stroke:#181818;stroke-width:1.0;\"/><path d=\"M2327.9643,565.25 L2320.2445,565.25 L2320.2445,552.8569 L2327.9643,552.8569 L2327.9643,555.0151 L2322.6933,555.0151 L2322.6933,557.688 L2327.4662,557.688 L2327.4662,559.8462 L2322.6933,559.8462 L2322.6933,563.0918 L2327.9643,563.0918 Z \" fill=\"#000000\"/><text fill=\"#000000\" font-family=\"sans-serif\" font-size=\"14\" lengthAdjust=\"spacing\" textLength=\"55\" x=\"2339.65\" y=\"564.041\">statut_g</text><line style=\"stroke:#181818;stroke-width:0.5;\" x1=\"2304.5\" x2=\"2402.5\" y1=\"574.75\" y2=\"574.75\"/><text fill=\"#000000\" font-family=\"sans-serif\" font-size=\"14\" lengthAdjust=\"spacing\" textLength=\"88\" x=\"2309.5\" y=\"592.2852\">EN TRAVAUX</text><line style=\"stroke:#181818;stroke-width:1.0;stroke-dasharray:1.0,2.0;\" x1=\"2304.5\" x2=\"2402.5\" y1=\"599.2383\" y2=\"599.2383\"/><text fill=\"#000000\" font-family=\"sans-serif\" font-size=\"14\" lengthAdjust=\"spacing\" textLength=\"78\" x=\"2309.5\" y=\"616.7734\">EN SERVICE</text><line style=\"stroke:#181818;stroke-width:1.0;stroke-dasharray:1.0,2.0;\" x1=\"2304.5\" x2=\"2402.5\" y1=\"623.7266\" y2=\"623.7266\"/><text fill=\"#000000\" font-family=\"sans-serif\" font-size=\"14\" lengthAdjust=\"spacing\" textLength=\"81\" x=\"2309.5\" y=\"641.2617\">PROVISOIRE</text><line style=\"stroke:#181818;stroke-width:1.0;stroke-dasharray:1.0,2.0;\" x1=\"2304.5\" x2=\"2402.5\" y1=\"648.2148\" y2=\"648.2148\"/></g><!--class revet_g--><g id=\"elem_revet_g\"><rect codeLine=\"184\" fill=\"#F1F1F1\" height=\"113.4648\" id=\"revet_g\" rx=\"2.5\" ry=\"2.5\" style=\"stroke:#181818;stroke-width:0.5;\" width=\"82\" x=\"2438.5\" y=\"542.75\"/><ellipse cx=\"2453.5\" cy=\"558.75\" fill=\"#EB937F\" rx=\"11\" ry=\"11\" style=\"stroke:#181818;stroke-width:1.0;\"/><path d=\"M2457.1143,565.25 L2449.3945,565.25 L2449.3945,552.8569 L2457.1143,552.8569 L2457.1143,555.0151 L2451.8433,555.0151 L2451.8433,557.688 L2456.6162,557.688 L2456.6162,559.8462 L2451.8433,559.8462 L2451.8433,563.0918 L2457.1143,563.0918 Z \" fill=\"#000000\"/><text fill=\"#000000\" font-family=\"sans-serif\" font-size=\"14\" lengthAdjust=\"spacing\" textLength=\"50\" x=\"2467.5\" y=\"564.041\">revet_g</text><line style=\"stroke:#181818;stroke-width:0.5;\" x1=\"2439.5\" x2=\"2519.5\" y1=\"574.75\" y2=\"574.75\"/><text fill=\"#000000\" font-family=\"sans-serif\" font-size=\"14\" lengthAdjust=\"spacing\" textLength=\"35\" x=\"2444.5\" y=\"592.2852\">LISSE</text><line style=\"stroke:#181818;stroke-width:1.0;stroke-dasharray:1.0,2.0;\" x1=\"2439.5\" x2=\"2519.5\" y1=\"599.2383\" y2=\"599.2383\"/><text fill=\"#000000\" font-family=\"sans-serif\" font-size=\"14\" lengthAdjust=\"spacing\" textLength=\"66\" x=\"2444.5\" y=\"616.7734\">RUGUEUX</text><line style=\"stroke:#181818;stroke-width:1.0;stroke-dasharray:1.0,2.0;\" x1=\"2439.5\" x2=\"2519.5\" y1=\"623.7266\" y2=\"623.7266\"/><text fill=\"#000000\" font-family=\"sans-serif\" font-size=\"14\" lengthAdjust=\"spacing\" textLength=\"53\" x=\"2444.5\" y=\"641.2617\">MEUBLE</text><line style=\"stroke:#181818;stroke-width:1.0;stroke-dasharray:1.0,2.0;\" x1=\"2439.5\" x2=\"2519.5\" y1=\"648.2148\" y2=\"648.2148\"/></g><!--class access_ame--><g id=\"elem_access_ame\"><rect codeLine=\"193\" fill=\"#F1F1F1\" height=\"137.9531\" id=\"access_ame\" rx=\"2.5\" ry=\"2.5\" style=\"stroke:#181818;stroke-width:0.5;\" width=\"120\" x=\"2555.5\" y=\"530.5\"/><ellipse cx=\"2574.1\" cy=\"546.5\" fill=\"#EB937F\" rx=\"11\" ry=\"11\" style=\"stroke:#181818;stroke-width:1.0;\"/><path d=\"M2577.7143,553 L2569.9945,553 L2569.9945,540.6069 L2577.7143,540.6069 L2577.7143,542.7651 L2572.4433,542.7651 L2572.4433,545.438 L2577.2162,545.438 L2577.2162,547.5962 L2572.4433,547.5962 L2572.4433,550.8418 L2577.7143,550.8418 Z \" fill=\"#000000\"/><text fill=\"#000000\" font-family=\"sans-serif\" font-size=\"14\" lengthAdjust=\"spacing\" textLength=\"80\" x=\"2588.9\" y=\"551.791\">access_ame</text><line style=\"stroke:#181818;stroke-width:0.5;\" x1=\"2556.5\" x2=\"2674.5\" y1=\"562.5\" y2=\"562.5\"/><text fill=\"#000000\" font-family=\"sans-serif\" font-size=\"14\" lengthAdjust=\"spacing\" textLength=\"51\" x=\"2561.5\" y=\"580.0352\">ROLLER</text><line style=\"stroke:#181818;stroke-width:1.0;stroke-dasharray:1.0,2.0;\" x1=\"2556.5\" x2=\"2674.5\" y1=\"586.9883\" y2=\"586.9883\"/><text fill=\"#000000\" font-family=\"sans-serif\" font-size=\"14\" lengthAdjust=\"spacing\" textLength=\"108\" x=\"2561.5\" y=\"604.5234\">VELO DE ROUTE</text><line style=\"stroke:#181818;stroke-width:1.0;stroke-dasharray:1.0,2.0;\" x1=\"2556.5\" x2=\"2674.5\" y1=\"611.4766\" y2=\"611.4766\"/><text fill=\"#000000\" font-family=\"sans-serif\" font-size=\"14\" lengthAdjust=\"spacing\" textLength=\"28\" x=\"2561.5\" y=\"629.0117\">VTC</text><line style=\"stroke:#181818;stroke-width:1.0;stroke-dasharray:1.0,2.0;\" x1=\"2556.5\" x2=\"2674.5\" y1=\"635.9648\" y2=\"635.9648\"/><text fill=\"#000000\" font-family=\"sans-serif\" font-size=\"14\" lengthAdjust=\"spacing\" textLength=\"27\" x=\"2561.5\" y=\"653.5\">VTT</text><line style=\"stroke:#181818;stroke-width:1.0;stroke-dasharray:1.0,2.0;\" x1=\"2556.5\" x2=\"2674.5\" y1=\"660.4531\" y2=\"660.4531\"/></g><!--link CyclingFacility to reseau_loc--><g id=\"link_CyclingFacility_reseau_loc\"><path codeLine=\"19\" d=\"M1343.87,167.18 C1110.59,180.24 316.02,235.89 129.5,395.82 C88.75,430.76 71.69,490.65 64.57,536.29 \" fill=\"none\" id=\"CyclingFacility-to-reseau_loc\" style=\"stroke:#181818;stroke-width:1.0;\"/><polygon fill=\"#181818\" points=\"63.85,541.13,69.1197,532.8095,64.5791,536.1834,61.2052,531.6429,63.85,541.13\" style=\"stroke:#181818;stroke-width:1.0;\"/><text fill=\"#000000\" font-family=\"sans-serif\" font-size=\"13\" lengthAdjust=\"spacing\" textLength=\"67\" x=\"198.5\" y=\"362.3884\">reseau_loc</text></g><!--link CyclingFacility to ame_d--><g id=\"link_CyclingFacility_ame_d\"><path codeLine=\"28\" d=\"M1343.54,170.17 C1194.07,186.89 817.89,242.23 547.5,395.82 C543.57,398.05 539.66,400.37 535.78,402.77 \" fill=\"none\" id=\"CyclingFacility-to-ame_d\" style=\"stroke:#181818;stroke-width:1.0;\"/><polygon fill=\"#181818\" points=\"531.78,405.3,541.5252,403.8748,536.0071,402.6295,537.2524,397.1114,531.78,405.3\" style=\"stroke:#181818;stroke-width:1.0;\"/><text fill=\"#000000\" font-family=\"sans-serif\" font-size=\"13\" lengthAdjust=\"spacing\" textLength=\"41\" x=\"634.5\" y=\"362.3884\">ame_d</text></g><!--link CyclingFacility to regime_d--><g id=\"link_CyclingFacility_regime_d\"><path codeLine=\"61\" d=\"M1343.79,171.13 C1217.03,188.37 933.1,242.58 757.5,395.82 C725.83,423.45 702.38,462.98 685.77,499.8 \" fill=\"none\" id=\"CyclingFacility-to-regime_d\" style=\"stroke:#181818;stroke-width:1.0;\"/><polygon fill=\"#181818\" points=\"683.78,504.3,691.0867,497.696,685.808,499.7298,683.7743,494.4511,683.78,504.3\" style=\"stroke:#181818;stroke-width:1.0;\"/><text fill=\"#000000\" font-family=\"sans-serif\" font-size=\"13\" lengthAdjust=\"spacing\" textLength=\"58\" x=\"817.5\" y=\"362.3884\">regime_d</text></g><!--link CyclingFacility to sens_d--><g id=\"link_CyclingFacility_sens_d\"><path codeLine=\"76\" d=\"M1343.54,179.51 C1242.34,206.92 1046.54,272.83 929.5,395.82 C888.73,438.66 865.83,503.74 854.09,548.53 \" fill=\"none\" id=\"CyclingFacility-to-sens_d\" style=\"stroke:#181818;stroke-width:1.0;\"/><polygon fill=\"#181818\" points=\"852.88,553.25,858.9917,545.5268,854.1229,548.4069,851.2428,543.5382,852.88,553.25\" style=\"stroke:#181818;stroke-width:1.0;\"/><text fill=\"#000000\" font-family=\"sans-serif\" font-size=\"13\" lengthAdjust=\"spacing\" textLength=\"44\" x=\"972.5\" y=\"362.3884\">sens_d</text></g><!--link CyclingFacility to local_d--><g id=\"link_CyclingFacility_local_d\"><path codeLine=\"83\" d=\"M1343.79,194.78 C1270.68,232.68 1152.64,303.46 1081.5,395.82 C1049.59,437.24 1029.92,493.51 1018.6,536.25 \" fill=\"none\" id=\"CyclingFacility-to-local_d\" style=\"stroke:#181818;stroke-width:1.0;\"/><polygon fill=\"#181818\" points=\"1017.37,540.99,1023.503,533.2838,1018.6263,536.1504,1015.7597,531.2737,1017.37,540.99\" style=\"stroke:#181818;stroke-width:1.0;\"/><text fill=\"#000000\" font-family=\"sans-serif\" font-size=\"13\" lengthAdjust=\"spacing\" textLength=\"45\" x=\"1118.5\" y=\"362.3884\">local_d</text></g><!--link CyclingFacility to statut_d--><g id=\"link_CyclingFacility_statut_d\"><path codeLine=\"92\" d=\"M1343.72,228.49 C1302.57,272.51 1250.79,333.85 1216.5,395.82 C1192.01,440.07 1174.59,494.75 1163.66,536.15 \" fill=\"none\" id=\"CyclingFacility-to-statut_d\" style=\"stroke:#181818;stroke-width:1.0;\"/><polygon fill=\"#181818\" points=\"1162.41,540.95,1168.5486,533.2482,1163.6698,536.1113,1160.8066,531.2325,1162.41,540.95\" style=\"stroke:#181818;stroke-width:1.0;\"/><text fill=\"#000000\" font-family=\"sans-serif\" font-size=\"13\" lengthAdjust=\"spacing\" textLength=\"52\" x=\"1243.5\" y=\"362.3884\">statut_d</text></g><!--link CyclingFacility to revet_d--><g id=\"link_CyclingFacility_revet_d\"><path codeLine=\"101\" d=\"M1357.44,319.3 C1349.29,344.82 1341.05,371.02 1333.5,395.82 C1319.16,442.86 1303.9,496.37 1292.63,536.58 \" fill=\"none\" id=\"CyclingFacility-to-revet_d\" style=\"stroke:#181818;stroke-width:1.0;\"/><polygon fill=\"#181818\" points=\"1291.4,540.96,1297.671,533.3656,1292.7434,536.1438,1289.9652,531.2162,1291.4,540.96\" style=\"stroke:#181818;stroke-width:1.0;\"/><text fill=\"#000000\" font-family=\"sans-serif\" font-size=\"13\" lengthAdjust=\"spacing\" textLength=\"46\" x=\"1348.5\" y=\"362.3884\">revet_d</text></g><!--link CyclingFacility to ame_g--><g id=\"link_CyclingFacility_ame_g\"><path codeLine=\"110\" d=\"M1456.4,319.26 C1463.43,342.06 1470.77,365.85 1478.07,389.51 \" fill=\"none\" id=\"CyclingFacility-to-ame_g\" style=\"stroke:#181818;stroke-width:1.0;\"/><polygon fill=\"#181818\" points=\"1479.47,394.08,1480.6135,384.2977,1477.9835,389.3061,1472.9752,386.6761,1479.47,394.08\" style=\"stroke:#181818;stroke-width:1.0;\"/><text fill=\"#000000\" font-family=\"sans-serif\" font-size=\"13\" lengthAdjust=\"spacing\" textLength=\"41\" x=\"1468.5\" y=\"362.3884\">ame_g</text></g><!--link CyclingFacility to regime_g--><g id=\"link_CyclingFacility_regime_g\"><path codeLine=\"143\" d=\"M1473.44,195.13 C1548.23,233.7 1671.1,305.46 1751.5,395.82 C1778.5,426.16 1800.72,464.71 1817.65,500.01 \" fill=\"none\" id=\"CyclingFacility-to-regime_g\" style=\"stroke:#181818;stroke-width:1.0;\"/><polygon fill=\"#181818\" points=\"1819.67,504.28,1819.4241,494.4342,1817.5259,499.7631,1812.197,497.8648,1819.67,504.28\" style=\"stroke:#181818;stroke-width:1.0;\"/><text fill=\"#000000\" font-family=\"sans-serif\" font-size=\"13\" lengthAdjust=\"spacing\" textLength=\"58\" x=\"1721.5\" y=\"362.3884\">regime_g</text></g><!--link CyclingFacility to sens_g--><g id=\"link_CyclingFacility_sens_g\"><path codeLine=\"158\" d=\"M1473.21,174.63 C1586.48,196.58 1821.89,256.79 1961.5,395.82 C2003.53,437.67 2026.21,503.26 2037.55,548.43 \" fill=\"none\" id=\"CyclingFacility-to-sens_g\" style=\"stroke:#181818;stroke-width:1.0;\"/><polygon fill=\"#181818\" points=\"2038.72,553.19,2040.4715,543.4981,2037.5342,548.3326,2032.6997,545.3954,2038.72,553.19\" style=\"stroke:#181818;stroke-width:1.0;\"/><text fill=\"#000000\" font-family=\"sans-serif\" font-size=\"13\" lengthAdjust=\"spacing\" textLength=\"44\" x=\"1927.5\" y=\"362.3884\">sens_g</text></g><!--link CyclingFacility to local_g--><g id=\"link_CyclingFacility_local_g\"><path codeLine=\"165\" d=\"M1473.3,166.39 C1612.68,175.19 1943.63,215.06 2133.5,395.82 C2172.36,432.81 2191.51,491.58 2200.86,536.33 \" fill=\"none\" id=\"CyclingFacility-to-local_g\" style=\"stroke:#181818;stroke-width:1.0;\"/><polygon fill=\"#181818\" points=\"2201.81,541.07,2203.9565,531.4579,2200.8239,536.1682,2196.1136,533.0356,2201.81,541.07\" style=\"stroke:#181818;stroke-width:1.0;\"/><text fill=\"#000000\" font-family=\"sans-serif\" font-size=\"13\" lengthAdjust=\"spacing\" textLength=\"45\" x=\"2088.5\" y=\"362.3884\">local_g</text></g><!--link CyclingFacility to statut_g--><g id=\"link_CyclingFacility_statut_g\"><path codeLine=\"174\" d=\"M1473.21,172.57 C1655.65,198.26 2168.49,279.52 2285.5,395.82 C2322.96,433.04 2339.79,491.51 2347.34,536.09 \" fill=\"none\" id=\"CyclingFacility-to-statut_g\" style=\"stroke:#181818;stroke-width:1.0;\"/><polygon fill=\"#181818\" points=\"2348.11,540.8,2350.6163,531.2754,2347.3089,535.8646,2342.7197,532.5572,2348.11,540.8\" style=\"stroke:#181818;stroke-width:1.0;\"/><text fill=\"#000000\" font-family=\"sans-serif\" font-size=\"13\" lengthAdjust=\"spacing\" textLength=\"52\" x=\"2242.5\" y=\"362.3884\">statut_g</text></g><!--link CyclingFacility to revet_g--><g id=\"link_CyclingFacility_revet_g\"><path codeLine=\"183\" d=\"M1473.49,173.33 C1622.38,195.77 1998.79,257.43 2303.5,348.82 C2357.57,365.03 2383.63,353.95 2421.5,395.82 C2456.25,434.23 2470.3,492.12 2475.92,536.2 \" fill=\"none\" id=\"CyclingFacility-to-revet_g\" style=\"stroke:#181818;stroke-width:1.0;\"/><polygon fill=\"#181818\" points=\"2476.51,541.1,2479.3996,531.6846,2475.9092,536.1362,2471.4575,532.6459,2476.51,541.1\" style=\"stroke:#181818;stroke-width:1.0;\"/><text fill=\"#000000\" font-family=\"sans-serif\" font-size=\"13\" lengthAdjust=\"spacing\" textLength=\"46\" x=\"2378.5\" y=\"362.3884\">revet_g</text></g><!--link CyclingFacility to access_ame--><g id=\"link_CyclingFacility_access_ame\"><path codeLine=\"192\" d=\"M1473.36,170.09 C1637.27,186.9 2080.2,239.65 2433.5,348.82 C2482.35,363.91 2503.41,358.63 2538.5,395.82 C2571.74,431.04 2591.02,482.05 2601.97,524.08 \" fill=\"none\" id=\"CyclingFacility-to-access_ame\" style=\"stroke:#181818;stroke-width:1.0;\"/><polygon fill=\"#181818\" points=\"2603.16,528.75,2604.8241,519.0427,2601.9305,523.9035,2597.0697,521.0099,2603.16,528.75\" style=\"stroke:#181818;stroke-width:1.0;\"/><text fill=\"#000000\" font-family=\"sans-serif\" font-size=\"13\" lengthAdjust=\"spacing\" textLength=\"75\" x=\"2496.5\" y=\"362.3884\">access_ame</text></g><!--SRC=[xLLDRvmm53p3h_2zIbIfjnugURtknXBOaS6exGKXhsCHBKi59b8KvR_tOPlTpSUcXqPg3xqipszWtfZni7hNZ2CYzthNxktNHhUxrjsZXpHv65tZMls8scszwtMpIvDztyrbca2h7pjeJ5tTkZPDTByrjGPucoQxPh1c6kRoqBR7DfJRnfcwQsxJn0tDJQlhkzR13LFNci40N8zck6krcGaw63Fsqp2lVWxzhT6k1WM3kQcjwTF7zBdqYuilQ32ZQQPPA_fyiaWD23u5OPkILkdbPPeKRfYqcuPcx_mQJmwqGFNwXAOpzHR8_JNmXXPGNhEYf8Xy9nbUPTIphJ1VFskjXO8I5PGN1m3vHy_3dkOyp0L7EIwfP3XZHRYn4eoYYif8Mz5C8Ad2WWYL2IRHIXKVPi0t9Swl0xoPuJ8-Y7FAyOR2RubozgsSjT8I1dh6Ao4Bz6mKkSAgA2X5E2047fKuxCBhYyI4Y3BmWXUqL86CL6GLS4KKZrKfwNbB1cFRwCfIBeP70Bpv8JX5dpu6FYQNNV2WnQDWbAIS21wd9PGZlDba8gSIbqm4CLxao_PlD8vcFtg5eGZwOXFKASxM88hCT9ncuUYyQBrExJFgkMCLo9Ssi9SIt0I_FItZS4vokcRpMtZYrnlguOimkQ0_bd472_3WtnRON67rRNbv1PKL8s78jHGLAmHxsyWxuwAFlbfi36sO0QSd7c-fDeh6KJbLCLpdCsjZPkqni_P_PlzsPkqni_P9Pks_abcxPDQUPDQ-JsRj8RFsDBFsFJDhZvcrJp9htpEpzf1PUvfP-mUPrTgCOmqvdODxMCJq7i7vdrna6PN7nCndGgWbGoM9rz8F-mK0]--></g></svg>"
      ],
      "text/plain": [
       "<IPython.core.display.SVG object>"
      ]
     },
     "execution_count": 117,
     "metadata": {},
     "output_type": "execute_result"
    }
   ],
   "source": [
    "b0.show_semantic_model(True)"
   ]
  },
  {
   "cell_type": "markdown",
   "id": "1aa7abac-89fa-4a0b-95f3-d3dd1d975d39",
   "metadata": {},
   "source": [
    "#### Simplification of the diagram for the demo"
   ]
  },
  {
   "cell_type": "markdown",
   "id": "27464cb3-322b-4b12-a457-d100130fe603",
   "metadata": {},
   "source": [
    "Here is a function to simplify the diagram into 3 enumeration bundles instead of 14.\n",
    "For instance, we keep the `reseau_loc`, `revet_d` and `sens_d` enumeration bundles."
   ]
  },
  {
   "cell_type": "code",
   "execution_count": 118,
   "id": "8aa23e43-2e1b-43fe-8790-c3dab0ebb212",
   "metadata": {},
   "outputs": [
    {
     "data": {
      "image/svg+xml": [
       "<svg xmlns=\"http://www.w3.org/2000/svg\" xmlns:xlink=\"http://www.w3.org/1999/xlink\" contentStyleType=\"text/css\" height=\"516px\" preserveAspectRatio=\"none\" style=\"width:406px;height:516px;background:#FFFFFF;\" version=\"1.1\" viewBox=\"0 0 406 516\" width=\"406px\" zoomAndPan=\"magnify\"><defs/><g><!--class CyclingFacility--><g id=\"elem_CyclingFacility\"><rect codeLine=\"1\" fill=\"#F1F1F1\" height=\"311.8125\" id=\"CyclingFacility\" rx=\"2.5\" ry=\"2.5\" style=\"stroke:#181818;stroke-width:0.5;\" width=\"129\" x=\"150\" y=\"7\"/><ellipse cx=\"165\" cy=\"23\" fill=\"#ADD1B2\" rx=\"11\" ry=\"11\" style=\"stroke:#181818;stroke-width:1.0;\"/><path d=\"M167.4731,29.1431 Q166.8921,29.4419 166.2529,29.5913 Q165.6138,29.7407 164.9082,29.7407 Q162.4014,29.7407 161.0815,28.0889 Q159.7617,26.437 159.7617,23.3159 Q159.7617,20.1865 161.0815,18.5347 Q162.4014,16.8828 164.9082,16.8828 Q165.6138,16.8828 166.2612,17.0322 Q166.9087,17.1816 167.4731,17.4805 L167.4731,20.2031 Q166.8423,19.6221 166.2488,19.3523 Q165.6553,19.0825 165.0244,19.0825 Q163.6797,19.0825 162.9949,20.1492 Q162.3101,21.2158 162.3101,23.3159 Q162.3101,25.4077 162.9949,26.4744 Q163.6797,27.541 165.0244,27.541 Q165.6553,27.541 166.2488,27.2712 Q166.8423,27.0015 167.4731,26.4204 Z \" fill=\"#000000\"/><text fill=\"#000000\" font-family=\"sans-serif\" font-size=\"14\" lengthAdjust=\"spacing\" textLength=\"97\" x=\"179\" y=\"28.291\">CyclingFacility</text><line style=\"stroke:#181818;stroke-width:0.5;\" x1=\"151\" x2=\"278\" y1=\"39\" y2=\"39\"/><text fill=\"#000000\" font-family=\"sans-serif\" font-size=\"14\" lengthAdjust=\"spacing\" text-decoration=\"underline\" textLength=\"52\" x=\"156\" y=\"56.5352\">id_local</text><text fill=\"#000000\" font-family=\"sans-serif\" font-size=\"14\" lengthAdjust=\"spacing\" textLength=\"58\" x=\"156\" y=\"73.0234\">nom_loc</text><text fill=\"#000000\" font-family=\"sans-serif\" font-size=\"14\" lengthAdjust=\"spacing\" textLength=\"49\" x=\"156\" y=\"89.5117\">id_osm</text><text fill=\"#000000\" font-family=\"sans-serif\" font-size=\"14\" lengthAdjust=\"spacing\" textLength=\"51\" x=\"156\" y=\"106\">num_iti</text><text fill=\"#000000\" font-family=\"sans-serif\" font-size=\"14\" lengthAdjust=\"spacing\" textLength=\"85\" x=\"156\" y=\"122.4883\">code_com_d</text><text fill=\"#000000\" font-family=\"sans-serif\" font-size=\"14\" lengthAdjust=\"spacing\" textLength=\"66\" x=\"156\" y=\"138.9766\">largeur_d</text><text fill=\"#000000\" font-family=\"sans-serif\" font-size=\"14\" lengthAdjust=\"spacing\" textLength=\"85\" x=\"156\" y=\"155.4648\">code_com_g</text><text fill=\"#000000\" font-family=\"sans-serif\" font-size=\"14\" lengthAdjust=\"spacing\" textLength=\"66\" x=\"156\" y=\"171.9531\">largeur_g</text><text fill=\"#000000\" font-family=\"sans-serif\" font-size=\"14\" lengthAdjust=\"spacing\" textLength=\"62\" x=\"156\" y=\"188.4414\">date_maj</text><text fill=\"#000000\" font-family=\"sans-serif\" font-size=\"14\" lengthAdjust=\"spacing\" textLength=\"58\" x=\"156\" y=\"204.9297\">trafic_vit</text><text fill=\"#000000\" font-family=\"sans-serif\" font-size=\"14\" lengthAdjust=\"spacing\" textLength=\"52\" x=\"156\" y=\"221.418\">lumiere</text><text fill=\"#000000\" font-family=\"sans-serif\" font-size=\"14\" lengthAdjust=\"spacing\" textLength=\"63\" x=\"156\" y=\"237.9063\">d_service</text><text fill=\"#000000\" font-family=\"sans-serif\" font-size=\"14\" lengthAdjust=\"spacing\" textLength=\"42\" x=\"156\" y=\"254.3945\">comm</text><text fill=\"#000000\" font-family=\"sans-serif\" font-size=\"14\" lengthAdjust=\"spacing\" textLength=\"46\" x=\"156\" y=\"270.8828\">source</text><text fill=\"#000000\" font-family=\"sans-serif\" font-size=\"14\" lengthAdjust=\"spacing\" textLength=\"62\" x=\"156\" y=\"287.3711\">project_c</text><text fill=\"#000000\" font-family=\"sans-serif\" font-size=\"14\" lengthAdjust=\"spacing\" textLength=\"52\" x=\"156\" y=\"303.8594\">ref_geo</text><line style=\"stroke:#181818;stroke-width:0.5;\" x1=\"151\" x2=\"278\" y1=\"310.8125\" y2=\"310.8125\"/></g><!--class reseau_loc--><g id=\"elem_reseau_loc\"><rect codeLine=\"20\" fill=\"#F1F1F1\" height=\"113.4648\" id=\"reseau_loc\" rx=\"2.5\" ry=\"2.5\" style=\"stroke:#181818;stroke-width:0.5;\" width=\"105\" x=\"7\" y=\"395.82\"/><ellipse cx=\"22\" cy=\"411.82\" fill=\"#EB937F\" rx=\"11\" ry=\"11\" style=\"stroke:#181818;stroke-width:1.0;\"/><path d=\"M25.6143,418.32 L17.8945,418.32 L17.8945,405.9269 L25.6143,405.9269 L25.6143,408.0851 L20.3433,408.0851 L20.3433,410.758 L25.1162,410.758 L25.1162,412.9162 L20.3433,412.9162 L20.3433,416.1618 L25.6143,416.1618 Z \" fill=\"#000000\"/><text fill=\"#000000\" font-family=\"sans-serif\" font-size=\"14\" lengthAdjust=\"spacing\" textLength=\"73\" x=\"36\" y=\"417.111\">reseau_loc</text><line style=\"stroke:#181818;stroke-width:0.5;\" x1=\"8\" x2=\"111\" y1=\"427.82\" y2=\"427.82\"/><text fill=\"#000000\" font-family=\"sans-serif\" font-size=\"14\" lengthAdjust=\"spacing\" textLength=\"26\" x=\"13\" y=\"445.3552\">REV</text><line style=\"stroke:#181818;stroke-width:1.0;stroke-dasharray:1.0,2.0;\" x1=\"8\" x2=\"111\" y1=\"452.3083\" y2=\"452.3083\"/><text fill=\"#000000\" font-family=\"sans-serif\" font-size=\"14\" lengthAdjust=\"spacing\" textLength=\"77\" x=\"13\" y=\"469.8434\">Structurant</text><line style=\"stroke:#181818;stroke-width:1.0;stroke-dasharray:1.0,2.0;\" x1=\"8\" x2=\"111\" y1=\"476.7966\" y2=\"476.7966\"/><text fill=\"#000000\" font-family=\"sans-serif\" font-size=\"14\" lengthAdjust=\"spacing\" textLength=\"38\" x=\"13\" y=\"494.3317\">Autre</text><line style=\"stroke:#181818;stroke-width:1.0;stroke-dasharray:1.0,2.0;\" x1=\"8\" x2=\"111\" y1=\"501.2848\" y2=\"501.2848\"/></g><!--class sens_d--><g id=\"elem_sens_d\"><rect codeLine=\"29\" fill=\"#F1F1F1\" height=\"88.9766\" id=\"sens_d\" rx=\"2.5\" ry=\"2.5\" style=\"stroke:#181818;stroke-width:0.5;\" width=\"136\" x=\"146.5\" y=\"408.06\"/><ellipse cx=\"187.15\" cy=\"424.06\" fill=\"#EB937F\" rx=\"11\" ry=\"11\" style=\"stroke:#181818;stroke-width:1.0;\"/><path d=\"M190.7643,430.56 L183.0445,430.56 L183.0445,418.1669 L190.7643,418.1669 L190.7643,420.3251 L185.4933,420.3251 L185.4933,422.998 L190.2662,422.998 L190.2662,425.1562 L185.4933,425.1562 L185.4933,428.4018 L190.7643,428.4018 Z \" fill=\"#000000\"/><text fill=\"#000000\" font-family=\"sans-serif\" font-size=\"14\" lengthAdjust=\"spacing\" textLength=\"47\" x=\"206.85\" y=\"429.351\">sens_d</text><line style=\"stroke:#181818;stroke-width:0.5;\" x1=\"147.5\" x2=\"281.5\" y1=\"440.06\" y2=\"440.06\"/><text fill=\"#000000\" font-family=\"sans-serif\" font-size=\"14\" lengthAdjust=\"spacing\" textLength=\"124\" x=\"152.5\" y=\"457.5952\">UNIDIRECTIONNEL</text><line style=\"stroke:#181818;stroke-width:1.0;stroke-dasharray:1.0,2.0;\" x1=\"147.5\" x2=\"281.5\" y1=\"464.5483\" y2=\"464.5483\"/><text fill=\"#000000\" font-family=\"sans-serif\" font-size=\"14\" lengthAdjust=\"spacing\" textLength=\"112\" x=\"152.5\" y=\"482.0834\">BIDIRECTIONNEL</text><line style=\"stroke:#181818;stroke-width:1.0;stroke-dasharray:1.0,2.0;\" x1=\"147.5\" x2=\"281.5\" y1=\"489.0366\" y2=\"489.0366\"/></g><!--class revet_d--><g id=\"elem_revet_d\"><rect codeLine=\"36\" fill=\"#F1F1F1\" height=\"113.4648\" id=\"revet_d\" rx=\"2.5\" ry=\"2.5\" style=\"stroke:#181818;stroke-width:0.5;\" width=\"82\" x=\"317.5\" y=\"395.82\"/><ellipse cx=\"332.5\" cy=\"411.82\" fill=\"#EB937F\" rx=\"11\" ry=\"11\" style=\"stroke:#181818;stroke-width:1.0;\"/><path d=\"M336.1143,418.32 L328.3945,418.32 L328.3945,405.9269 L336.1143,405.9269 L336.1143,408.0851 L330.8433,408.0851 L330.8433,410.758 L335.6162,410.758 L335.6162,412.9162 L330.8433,412.9162 L330.8433,416.1618 L336.1143,416.1618 Z \" fill=\"#000000\"/><text fill=\"#000000\" font-family=\"sans-serif\" font-size=\"14\" lengthAdjust=\"spacing\" textLength=\"50\" x=\"346.5\" y=\"417.111\">revet_d</text><line style=\"stroke:#181818;stroke-width:0.5;\" x1=\"318.5\" x2=\"398.5\" y1=\"427.82\" y2=\"427.82\"/><text fill=\"#000000\" font-family=\"sans-serif\" font-size=\"14\" lengthAdjust=\"spacing\" textLength=\"35\" x=\"323.5\" y=\"445.3552\">LISSE</text><line style=\"stroke:#181818;stroke-width:1.0;stroke-dasharray:1.0,2.0;\" x1=\"318.5\" x2=\"398.5\" y1=\"452.3083\" y2=\"452.3083\"/><text fill=\"#000000\" font-family=\"sans-serif\" font-size=\"14\" lengthAdjust=\"spacing\" textLength=\"66\" x=\"323.5\" y=\"469.8434\">RUGUEUX</text><line style=\"stroke:#181818;stroke-width:1.0;stroke-dasharray:1.0,2.0;\" x1=\"318.5\" x2=\"398.5\" y1=\"476.7966\" y2=\"476.7966\"/><text fill=\"#000000\" font-family=\"sans-serif\" font-size=\"14\" lengthAdjust=\"spacing\" textLength=\"53\" x=\"323.5\" y=\"494.3317\">MEUBLE</text><line style=\"stroke:#181818;stroke-width:1.0;stroke-dasharray:1.0,2.0;\" x1=\"318.5\" x2=\"398.5\" y1=\"501.2848\" y2=\"501.2848\"/></g><!--link CyclingFacility to reseau_loc--><g id=\"link_CyclingFacility_reseau_loc\"><path codeLine=\"19\" d=\"M149.66,284.23 C130.06,320.6 109.35,359.04 92.73,389.89 \" fill=\"none\" id=\"CyclingFacility-to-reseau_loc\" style=\"stroke:#181818;stroke-width:1.0;\"/><polygon fill=\"#181818\" points=\"90.39,394.23,98.1811,388.2052,92.7622,389.8286,91.1388,384.4096,90.39,394.23\" style=\"stroke:#181818;stroke-width:1.0;\"/><text fill=\"#000000\" font-family=\"sans-serif\" font-size=\"13\" lengthAdjust=\"spacing\" textLength=\"67\" x=\"115.5\" y=\"362.3884\">reseau_loc</text></g><!--link CyclingFacility to sens_d--><g id=\"link_CyclingFacility_sens_d\"><path codeLine=\"28\" d=\"M214.5,319.09 C214.5,348.81 214.5,377.87 214.5,401.16 \" fill=\"none\" id=\"CyclingFacility-to-sens_d\" style=\"stroke:#181818;stroke-width:1.0;\"/><polygon fill=\"#181818\" points=\"214.5,406.06,218.5,397.06,214.5,401.06,210.5,397.06,214.5,406.06\" style=\"stroke:#181818;stroke-width:1.0;\"/><text fill=\"#000000\" font-family=\"sans-serif\" font-size=\"13\" lengthAdjust=\"spacing\" textLength=\"44\" x=\"215.5\" y=\"362.3884\">sens_d</text></g><!--link CyclingFacility to revet_d--><g id=\"link_CyclingFacility_revet_d\"><path codeLine=\"35\" d=\"M279.34,293.42 C296.14,326.97 313.46,361.57 327.6,389.82 \" fill=\"none\" id=\"CyclingFacility-to-revet_d\" style=\"stroke:#181818;stroke-width:1.0;\"/><polygon fill=\"#181818\" points=\"329.71,394.03,329.2754,384.1907,327.4797,389.555,322.1154,387.7593,329.71,394.03\" style=\"stroke:#181818;stroke-width:1.0;\"/><text fill=\"#000000\" font-family=\"sans-serif\" font-size=\"13\" lengthAdjust=\"spacing\" textLength=\"46\" x=\"312.5\" y=\"362.3884\">revet_d</text></g><!--SRC=[TOzDQiCm44RNqYbyWUG0NHIQL2q6rmMxBjq98K-CWcGLQMG8mNVlM4xRq9_TDs_4cq_QgXYB_KbRCmuFIXjhy5ISEJj7L6ZqN9XUMg-LvMpqRecS4VBH4KXE6ZISQT-3rBJkERCg39324h_my8qfzWf1EdNa38Cw62qdW_GWEGC1Q2qZXCbeM0IEpaIVmZAz1ty4ZP8Q13Z80JoV-S_gcyrj4I22IalNukPgu425hvVqpKQyyksMinP3qfY26Z7FTmcf2wM_BqGOe-p9leRLV85axUholcp4_gLyhcjHPUFk5_gl_0IOtPVqMNl5PA_AjXNPsNIFdUZUSduItQxAUFu0]--></g></svg>"
      ],
      "text/plain": [
       "<IPython.core.display.SVG object>"
      ]
     },
     "execution_count": 118,
     "metadata": {},
     "output_type": "execute_result"
    }
   ],
   "source": [
    "from BundleEnum import BundleEnum\n",
    "from Bundle import Bundle\n",
    "\n",
    "def reduce_BundleEnum_objects_for_demo(bundle: Bundle, to_keep: list):\n",
    "    \"\"\"\n",
    "    simplify the bundle by decreasing the number of BundleEnums to only those mentionned in to_keep list\n",
    "    \"\"\"\n",
    "    bundle.linked_to = [\n",
    "        lkd for lkd in bundle.linked_to if lkd[\"destination\"].name in to_keep\n",
    "    ]\n",
    "\n",
    "    # dataset update\n",
    "    rest_of_enums = [\n",
    "        lkd[\"destination\"].source\n",
    "        for lkd in bundle.linked_to\n",
    "        if (\n",
    "            lkd[\"destination\"].name not in to_keep\n",
    "            and type(lkd[\"destination\"]) == BundleEnum\n",
    "        )\n",
    "    ]\n",
    "    bundle.dataset.drop(columns=rest_of_enums, inplace=True)\n",
    "    return bundle\n",
    "\n",
    "b0 = reduce_BundleEnum_objects_for_demo(\n",
    "    bundle=b0, to_keep=[\"reseau_loc\", \"revet_d\", \"sens_d\"]\n",
    ")\n",
    "b0.show_semantic_model(True)"
   ]
  },
  {
   "cell_type": "markdown",
   "id": "08421091-a6e4-4f75-8943-efd2ae351640",
   "metadata": {},
   "source": [
    "### 2. Transformers"
   ]
  },
  {
   "cell_type": "markdown",
   "id": "8d0d30cc-56fc-49af-b953-31152ff8facd",
   "metadata": {},
   "source": [
    "In this example, we apply three transformers:\n",
    "1. annotate\n",
    "2. rename\n",
    "3. split\n",
    "4. document"
   ]
  },
  {
   "cell_type": "markdown",
   "id": "54c8c25f-7fcb-4cdb-890b-b655ecfe4d47",
   "metadata": {},
   "source": [
    "#### 2.1 Annotate transformer"
   ]
  },
  {
   "cell_type": "code",
   "execution_count": 119,
   "id": "9e0a8b4c-8a92-431c-ab74-783ef2fac04c",
   "metadata": {},
   "outputs": [
    {
     "name": "stdout",
     "output_type": "stream",
     "text": [
      "------- Class -------\n",
      "name : CyclingFacility\n",
      "IRI : http://schema.org/Thing\n",
      "definition : None\n",
      "\t ------- attributes -------\n",
      "\t name : id_local\n",
      "\t IRI : None\n",
      "\t definition : Identifiant unique pérenne défini par la collectivité\n",
      "\t type : string\n",
      "\t id : oui\n",
      "\t required : oui\n",
      "\t --------------\n",
      "\t name : nom_loc\n",
      "\t IRI : http://schema.org/name\n",
      "\t definition : Nom et numéro des itinéraires locaux\n",
      "\t type : array\n",
      "\t id : non\n",
      "\t required : non\n",
      "\t --------------\n",
      "\t name : id_osm\n",
      "\t IRI : None\n",
      "\t definition : Identifiant de l'aménagement sur OSM\n",
      "\t type : string\n",
      "\t id : non\n",
      "\t required : non\n",
      "\t --------------\n",
      "\t name : num_iti\n",
      "\t IRI : None\n",
      "\t definition : Numéro des itinéraires, des EuroVelo au schéma départementaux, auxquels le segment appartient. Séparé par « : »\n",
      "\t type : string\n",
      "\t id : non\n",
      "\t required : non\n",
      "\t --------------\n",
      "\t name : code_com_d\n",
      "\t IRI : None\n",
      "\t definition : Code INSEE de la commune (5 caractères alphanumériques) sur la voie de droite\n",
      "\t type : string\n",
      "\t id : non\n",
      "\t required : oui\n",
      "\t --------------\n",
      "\t name : largeur_d\n",
      "\t IRI : None\n",
      "\t definition : Largeur hors marquage minimale utile de la voie de droite réservée au cycliste, en mètre. La largeur du marquage est exclue\n",
      "\t type : number\n",
      "\t id : non\n",
      "\t required : non\n",
      "\t --------------\n",
      "\t name : code_com_g\n",
      "\t IRI : None\n",
      "\t definition : Code INSEE de la commune (5 caractères alphanumériques) sur la voie de gauche\n",
      "\t type : string\n",
      "\t id : non\n",
      "\t required : oui\n",
      "\t --------------\n",
      "\t name : largeur_g\n",
      "\t IRI : None\n",
      "\t definition : Largeur hors marquage minimale utile de la voie de gauche réservée au cycliste, en mètre. La largeur du marquage est exclue\n",
      "\t type : number\n",
      "\t id : non\n",
      "\t required : non\n",
      "\t --------------\n",
      "\t name : date_maj\n",
      "\t IRI : None\n",
      "\t definition : Date de dernière mise à jour des données du segment. Notation ISO 8601, format AAAA-MM-JJ\n",
      "\t type : string\n",
      "\t id : non\n",
      "\t required : non\n",
      "\t --------------\n",
      "\t name : trafic_vit\n",
      "\t IRI : None\n",
      "\t definition : Vitesse maximale autorisée pour le trafic adjacent à l'aménagement, en km/h. La vitesse 5 km/h correspond à une vitesse à l'allure du pas\n",
      "\t type : integer\n",
      "\t id : non\n",
      "\t required : non\n",
      "\t --------------\n",
      "\t name : lumiere\n",
      "\t IRI : None\n",
      "\t definition : Aménagement éclairé\n",
      "\t type : boolean\n",
      "\t id : non\n",
      "\t required : non\n",
      "\t --------------\n",
      "\t name : d_service\n",
      "\t IRI : None\n",
      "\t definition : Date de mise en oeuvre de l'aménagement (AAAA)\n",
      "\t type : number\n",
      "\t id : non\n",
      "\t required : non\n",
      "\t --------------\n",
      "\t name : comm\n",
      "\t IRI : None\n",
      "\t definition : Remarques éventuelles au sujet de l'aménagement\n",
      "\t type : string\n",
      "\t id : non\n",
      "\t required : non\n",
      "\t --------------\n",
      "\t name : source\n",
      "\t IRI : None\n",
      "\t definition : Entité ayant fourni les données\n",
      "\t type : string\n",
      "\t id : non\n",
      "\t required : non\n",
      "\t --------------\n",
      "\t name : project_c\n",
      "\t IRI : None\n",
      "\t definition : Projection cartographique de la donnée source\n",
      "\t type : string\n",
      "\t id : non\n",
      "\t required : non\n",
      "\t --------------\n",
      "\t name : ref_geo\n",
      "\t IRI : None\n",
      "\t definition : Référentiel géographique utilisé \n",
      "\t type : string\n",
      "\t id : non\n",
      "\t required : non\n",
      "\t --------------\n",
      "------- Links -------\n",
      "name : reseau_loc\n",
      "IRI : None\n",
      "definition : Type de réseau structurant local auquel l'aménagement appartient\n",
      "destination : reseau_loc\n",
      "--------------\n",
      "name : sens_d\n",
      "IRI : None\n",
      "definition : Sens de circulation pour les cyclistes sur la voie de droite\n",
      "destination : sens_d\n",
      "--------------\n",
      "name : revet_d\n",
      "IRI : None\n",
      "definition : Type de revêtement de l'aménagement sur la voie de droite\n",
      "destination : revet_d\n",
      "--------------\n"
     ]
    }
   ],
   "source": [
    "b0.annotate(\"http://schema.org/Thing\", attributes={\"nom_loc\": \"http://schema.org/name\"})\n",
    "b0.show()"
   ]
  },
  {
   "cell_type": "markdown",
   "id": "8c247aa5-17ed-4a09-84b5-19e4bf258800",
   "metadata": {},
   "source": [
    "#### 2.2 Rename transformer"
   ]
  },
  {
   "cell_type": "code",
   "execution_count": 120,
   "id": "445997f1-b73d-4c4e-aa8c-d29bbfde5d72",
   "metadata": {},
   "outputs": [
    {
     "name": "stdout",
     "output_type": "stream",
     "text": [
      "------- Class -------\n",
      "name : CyclingInfrastructure\n",
      "IRI : http://schema.org/Thing\n",
      "definition : None\n",
      "\t ------- attributes -------\n",
      "\t name : local_identifier\n",
      "\t IRI : None\n",
      "\t definition : Identifiant unique pérenne défini par la collectivité\n",
      "\t type : string\n",
      "\t id : oui\n",
      "\t required : oui\n",
      "\t --------------\n",
      "\t name : nom_loc\n",
      "\t IRI : http://schema.org/name\n",
      "\t definition : Nom et numéro des itinéraires locaux\n",
      "\t type : array\n",
      "\t id : non\n",
      "\t required : non\n",
      "\t --------------\n",
      "\t name : id_osm\n",
      "\t IRI : None\n",
      "\t definition : Identifiant de l'aménagement sur OSM\n",
      "\t type : string\n",
      "\t id : non\n",
      "\t required : non\n",
      "\t --------------\n",
      "\t name : num_iti\n",
      "\t IRI : None\n",
      "\t definition : Numéro des itinéraires, des EuroVelo au schéma départementaux, auxquels le segment appartient. Séparé par « : »\n",
      "\t type : string\n",
      "\t id : non\n",
      "\t required : non\n",
      "\t --------------\n",
      "\t name : code_com_d\n",
      "\t IRI : None\n",
      "\t definition : Code INSEE de la commune (5 caractères alphanumériques) sur la voie de droite\n",
      "\t type : string\n",
      "\t id : non\n",
      "\t required : oui\n",
      "\t --------------\n",
      "\t name : largeur_d\n",
      "\t IRI : None\n",
      "\t definition : Largeur hors marquage minimale utile de la voie de droite réservée au cycliste, en mètre. La largeur du marquage est exclue\n",
      "\t type : number\n",
      "\t id : non\n",
      "\t required : non\n",
      "\t --------------\n",
      "\t name : code_com_g\n",
      "\t IRI : None\n",
      "\t definition : Code INSEE de la commune (5 caractères alphanumériques) sur la voie de gauche\n",
      "\t type : string\n",
      "\t id : non\n",
      "\t required : oui\n",
      "\t --------------\n",
      "\t name : largeur_g\n",
      "\t IRI : None\n",
      "\t definition : Largeur hors marquage minimale utile de la voie de gauche réservée au cycliste, en mètre. La largeur du marquage est exclue\n",
      "\t type : number\n",
      "\t id : non\n",
      "\t required : non\n",
      "\t --------------\n",
      "\t name : date_maj\n",
      "\t IRI : None\n",
      "\t definition : Date de dernière mise à jour des données du segment. Notation ISO 8601, format AAAA-MM-JJ\n",
      "\t type : string\n",
      "\t id : non\n",
      "\t required : non\n",
      "\t --------------\n",
      "\t name : trafic_vit\n",
      "\t IRI : None\n",
      "\t definition : Vitesse maximale autorisée pour le trafic adjacent à l'aménagement, en km/h. La vitesse 5 km/h correspond à une vitesse à l'allure du pas\n",
      "\t type : integer\n",
      "\t id : non\n",
      "\t required : non\n",
      "\t --------------\n",
      "\t name : lumiere\n",
      "\t IRI : None\n",
      "\t definition : Aménagement éclairé\n",
      "\t type : boolean\n",
      "\t id : non\n",
      "\t required : non\n",
      "\t --------------\n",
      "\t name : d_service\n",
      "\t IRI : None\n",
      "\t definition : Date de mise en oeuvre de l'aménagement (AAAA)\n",
      "\t type : number\n",
      "\t id : non\n",
      "\t required : non\n",
      "\t --------------\n",
      "\t name : comm\n",
      "\t IRI : None\n",
      "\t definition : Remarques éventuelles au sujet de l'aménagement\n",
      "\t type : string\n",
      "\t id : non\n",
      "\t required : non\n",
      "\t --------------\n",
      "\t name : source\n",
      "\t IRI : None\n",
      "\t definition : Entité ayant fourni les données\n",
      "\t type : string\n",
      "\t id : non\n",
      "\t required : non\n",
      "\t --------------\n",
      "\t name : project_c\n",
      "\t IRI : None\n",
      "\t definition : Projection cartographique de la donnée source\n",
      "\t type : string\n",
      "\t id : non\n",
      "\t required : non\n",
      "\t --------------\n",
      "\t name : ref_geo\n",
      "\t IRI : None\n",
      "\t definition : Référentiel géographique utilisé \n",
      "\t type : string\n",
      "\t id : non\n",
      "\t required : non\n",
      "\t --------------\n",
      "------- Links -------\n",
      "name : haveReseau_loc\n",
      "IRI : None\n",
      "definition : Type de réseau structurant local auquel l'aménagement appartient\n",
      "destination : reseau_loc\n",
      "--------------\n",
      "name : sens_d\n",
      "IRI : None\n",
      "definition : Sens de circulation pour les cyclistes sur la voie de droite\n",
      "destination : sens_d\n",
      "--------------\n",
      "name : revet_d\n",
      "IRI : None\n",
      "definition : Type de revêtement de l'aménagement sur la voie de droite\n",
      "destination : revet_d\n",
      "--------------\n"
     ]
    }
   ],
   "source": [
    "b0.rename(\n",
    "     \"CyclingInfrastructure\",\n",
    "     attributes={\"id_local\": \"local_identifier\"},\n",
    "     associations={\"reseau_loc\": \"haveReseau_loc\"},\n",
    " )\n",
    "b0.show()"
   ]
  },
  {
   "cell_type": "code",
   "execution_count": 121,
   "id": "aaaba413-ce61-470a-844b-f18a9bc92cb4",
   "metadata": {},
   "outputs": [
    {
     "data": {
      "text/plain": [
       "Index(['local_identifier', 'reseau_loc', 'nom_loc', 'id_osm', 'num_iti',\n",
       "       'code_com_d', 'ame_d', 'regime_d', 'sens_d', 'largeur_d', 'local_d',\n",
       "       'statut_d', 'revet_d', 'code_com_g', 'ame_g', 'regime_g', 'sens_g',\n",
       "       'largeur_g', 'local_g', 'statut_g', 'revet_g', 'access_ame', 'date_maj',\n",
       "       'trafic_vit', 'lumiere', 'd_service', 'comm', 'source', 'project_c',\n",
       "       'ref_geo', 'geometry'],\n",
       "      dtype='object')"
      ]
     },
     "execution_count": 121,
     "metadata": {},
     "output_type": "execute_result"
    }
   ],
   "source": [
    "b0.dataset.columns"
   ]
  },
  {
   "cell_type": "code",
   "execution_count": 122,
   "id": "ddf64820-0e0c-494b-9721-295e801ff9b6",
   "metadata": {},
   "outputs": [
    {
     "name": "stdout",
     "output_type": "stream",
     "text": [
      "------- Enumeration -------\n",
      "name : revet_d_options\n",
      "IRI : None\n",
      "definition : Type de revêtement de l'aménagement sur la voie de droite\n",
      "type : string\n",
      "required : non\n",
      "\t ------- Values -------\n",
      "\t name : LISSE\n",
      "\t definition : None\n",
      "\t IRI : None\n",
      "\t --------------\n",
      "\t name : RUGUEUX\n",
      "\t definition : None\n",
      "\t IRI : None\n",
      "\t --------------\n",
      "\t name : MEUBLE\n",
      "\t definition : None\n",
      "\t IRI : None\n",
      "\t --------------\n"
     ]
    }
   ],
   "source": [
    "dangling_bundles = b0.children()\n",
    "dangling_bundles[\"revet_d\"].rename(enumeration_name = \"revet_d_options\")\n",
    "dangling_bundles = b0.children()\n",
    "dangling_bundles[\"revet_d_options\"].show()"
   ]
  },
  {
   "cell_type": "code",
   "execution_count": 123,
   "id": "3e2c1c69-ecfe-485c-8c04-0d89d3e65801",
   "metadata": {},
   "outputs": [
    {
     "data": {
      "image/svg+xml": [
       "<svg xmlns=\"http://www.w3.org/2000/svg\" xmlns:xlink=\"http://www.w3.org/1999/xlink\" contentStyleType=\"text/css\" height=\"516px\" preserveAspectRatio=\"none\" style=\"width:465px;height:516px;background:#FFFFFF;\" version=\"1.1\" viewBox=\"0 0 465 516\" width=\"465px\" zoomAndPan=\"magnify\"><defs/><g><!--class CyclingInfrastructure--><g id=\"elem_CyclingInfrastructure\"><rect codeLine=\"1\" fill=\"#F1F1F1\" height=\"311.8125\" id=\"CyclingInfrastructure\" rx=\"2.5\" ry=\"2.5\" style=\"stroke:#181818;stroke-width:0.5;\" width=\"176\" x=\"126.5\" y=\"7\"/><ellipse cx=\"141.5\" cy=\"23\" fill=\"#ADD1B2\" rx=\"11\" ry=\"11\" style=\"stroke:#181818;stroke-width:1.0;\"/><path d=\"M143.9731,29.1431 Q143.3921,29.4419 142.7529,29.5913 Q142.1138,29.7407 141.4082,29.7407 Q138.9014,29.7407 137.5815,28.0889 Q136.2617,26.437 136.2617,23.3159 Q136.2617,20.1865 137.5815,18.5347 Q138.9014,16.8828 141.4082,16.8828 Q142.1138,16.8828 142.7612,17.0322 Q143.4087,17.1816 143.9731,17.4805 L143.9731,20.2031 Q143.3423,19.6221 142.7488,19.3523 Q142.1553,19.0825 141.5244,19.0825 Q140.1797,19.0825 139.4949,20.1492 Q138.8101,21.2158 138.8101,23.3159 Q138.8101,25.4077 139.4949,26.4744 Q140.1797,27.541 141.5244,27.541 Q142.1553,27.541 142.7488,27.2712 Q143.3423,27.0015 143.9731,26.4204 Z \" fill=\"#000000\"/><text fill=\"#000000\" font-family=\"sans-serif\" font-size=\"14\" lengthAdjust=\"spacing\" textLength=\"144\" x=\"155.5\" y=\"28.291\">CyclingInfrastructure</text><line style=\"stroke:#181818;stroke-width:0.5;\" x1=\"127.5\" x2=\"301.5\" y1=\"39\" y2=\"39\"/><text fill=\"#000000\" font-family=\"sans-serif\" font-size=\"14\" lengthAdjust=\"spacing\" text-decoration=\"underline\" textLength=\"101\" x=\"132.5\" y=\"56.5352\">local_identifier</text><text fill=\"#000000\" font-family=\"sans-serif\" font-size=\"14\" lengthAdjust=\"spacing\" textLength=\"58\" x=\"132.5\" y=\"73.0234\">nom_loc</text><text fill=\"#000000\" font-family=\"sans-serif\" font-size=\"14\" lengthAdjust=\"spacing\" textLength=\"49\" x=\"132.5\" y=\"89.5117\">id_osm</text><text fill=\"#000000\" font-family=\"sans-serif\" font-size=\"14\" lengthAdjust=\"spacing\" textLength=\"51\" x=\"132.5\" y=\"106\">num_iti</text><text fill=\"#000000\" font-family=\"sans-serif\" font-size=\"14\" lengthAdjust=\"spacing\" textLength=\"85\" x=\"132.5\" y=\"122.4883\">code_com_d</text><text fill=\"#000000\" font-family=\"sans-serif\" font-size=\"14\" lengthAdjust=\"spacing\" textLength=\"66\" x=\"132.5\" y=\"138.9766\">largeur_d</text><text fill=\"#000000\" font-family=\"sans-serif\" font-size=\"14\" lengthAdjust=\"spacing\" textLength=\"85\" x=\"132.5\" y=\"155.4648\">code_com_g</text><text fill=\"#000000\" font-family=\"sans-serif\" font-size=\"14\" lengthAdjust=\"spacing\" textLength=\"66\" x=\"132.5\" y=\"171.9531\">largeur_g</text><text fill=\"#000000\" font-family=\"sans-serif\" font-size=\"14\" lengthAdjust=\"spacing\" textLength=\"62\" x=\"132.5\" y=\"188.4414\">date_maj</text><text fill=\"#000000\" font-family=\"sans-serif\" font-size=\"14\" lengthAdjust=\"spacing\" textLength=\"58\" x=\"132.5\" y=\"204.9297\">trafic_vit</text><text fill=\"#000000\" font-family=\"sans-serif\" font-size=\"14\" lengthAdjust=\"spacing\" textLength=\"52\" x=\"132.5\" y=\"221.418\">lumiere</text><text fill=\"#000000\" font-family=\"sans-serif\" font-size=\"14\" lengthAdjust=\"spacing\" textLength=\"63\" x=\"132.5\" y=\"237.9063\">d_service</text><text fill=\"#000000\" font-family=\"sans-serif\" font-size=\"14\" lengthAdjust=\"spacing\" textLength=\"42\" x=\"132.5\" y=\"254.3945\">comm</text><text fill=\"#000000\" font-family=\"sans-serif\" font-size=\"14\" lengthAdjust=\"spacing\" textLength=\"46\" x=\"132.5\" y=\"270.8828\">source</text><text fill=\"#000000\" font-family=\"sans-serif\" font-size=\"14\" lengthAdjust=\"spacing\" textLength=\"62\" x=\"132.5\" y=\"287.3711\">project_c</text><text fill=\"#000000\" font-family=\"sans-serif\" font-size=\"14\" lengthAdjust=\"spacing\" textLength=\"52\" x=\"132.5\" y=\"303.8594\">ref_geo</text><line style=\"stroke:#181818;stroke-width:0.5;\" x1=\"127.5\" x2=\"301.5\" y1=\"310.8125\" y2=\"310.8125\"/></g><!--class reseau_loc--><g id=\"elem_reseau_loc\"><rect codeLine=\"20\" fill=\"#F1F1F1\" height=\"113.4648\" id=\"reseau_loc\" rx=\"2.5\" ry=\"2.5\" style=\"stroke:#181818;stroke-width:0.5;\" width=\"105\" x=\"7\" y=\"395.82\"/><ellipse cx=\"22\" cy=\"411.82\" fill=\"#EB937F\" rx=\"11\" ry=\"11\" style=\"stroke:#181818;stroke-width:1.0;\"/><path d=\"M25.6143,418.32 L17.8945,418.32 L17.8945,405.9269 L25.6143,405.9269 L25.6143,408.0851 L20.3433,408.0851 L20.3433,410.758 L25.1162,410.758 L25.1162,412.9162 L20.3433,412.9162 L20.3433,416.1618 L25.6143,416.1618 Z \" fill=\"#000000\"/><text fill=\"#000000\" font-family=\"sans-serif\" font-size=\"14\" lengthAdjust=\"spacing\" textLength=\"73\" x=\"36\" y=\"417.111\">reseau_loc</text><line style=\"stroke:#181818;stroke-width:0.5;\" x1=\"8\" x2=\"111\" y1=\"427.82\" y2=\"427.82\"/><text fill=\"#000000\" font-family=\"sans-serif\" font-size=\"14\" lengthAdjust=\"spacing\" textLength=\"26\" x=\"13\" y=\"445.3552\">REV</text><line style=\"stroke:#181818;stroke-width:1.0;stroke-dasharray:1.0,2.0;\" x1=\"8\" x2=\"111\" y1=\"452.3083\" y2=\"452.3083\"/><text fill=\"#000000\" font-family=\"sans-serif\" font-size=\"14\" lengthAdjust=\"spacing\" textLength=\"77\" x=\"13\" y=\"469.8434\">Structurant</text><line style=\"stroke:#181818;stroke-width:1.0;stroke-dasharray:1.0,2.0;\" x1=\"8\" x2=\"111\" y1=\"476.7966\" y2=\"476.7966\"/><text fill=\"#000000\" font-family=\"sans-serif\" font-size=\"14\" lengthAdjust=\"spacing\" textLength=\"38\" x=\"13\" y=\"494.3317\">Autre</text><line style=\"stroke:#181818;stroke-width:1.0;stroke-dasharray:1.0,2.0;\" x1=\"8\" x2=\"111\" y1=\"501.2848\" y2=\"501.2848\"/></g><!--class sens_d--><g id=\"elem_sens_d\"><rect codeLine=\"29\" fill=\"#F1F1F1\" height=\"88.9766\" id=\"sens_d\" rx=\"2.5\" ry=\"2.5\" style=\"stroke:#181818;stroke-width:0.5;\" width=\"136\" x=\"146.5\" y=\"408.06\"/><ellipse cx=\"187.15\" cy=\"424.06\" fill=\"#EB937F\" rx=\"11\" ry=\"11\" style=\"stroke:#181818;stroke-width:1.0;\"/><path d=\"M190.7643,430.56 L183.0445,430.56 L183.0445,418.1669 L190.7643,418.1669 L190.7643,420.3251 L185.4933,420.3251 L185.4933,422.998 L190.2662,422.998 L190.2662,425.1562 L185.4933,425.1562 L185.4933,428.4018 L190.7643,428.4018 Z \" fill=\"#000000\"/><text fill=\"#000000\" font-family=\"sans-serif\" font-size=\"14\" lengthAdjust=\"spacing\" textLength=\"47\" x=\"206.85\" y=\"429.351\">sens_d</text><line style=\"stroke:#181818;stroke-width:0.5;\" x1=\"147.5\" x2=\"281.5\" y1=\"440.06\" y2=\"440.06\"/><text fill=\"#000000\" font-family=\"sans-serif\" font-size=\"14\" lengthAdjust=\"spacing\" textLength=\"124\" x=\"152.5\" y=\"457.5952\">UNIDIRECTIONNEL</text><line style=\"stroke:#181818;stroke-width:1.0;stroke-dasharray:1.0,2.0;\" x1=\"147.5\" x2=\"281.5\" y1=\"464.5483\" y2=\"464.5483\"/><text fill=\"#000000\" font-family=\"sans-serif\" font-size=\"14\" lengthAdjust=\"spacing\" textLength=\"112\" x=\"152.5\" y=\"482.0834\">BIDIRECTIONNEL</text><line style=\"stroke:#181818;stroke-width:1.0;stroke-dasharray:1.0,2.0;\" x1=\"147.5\" x2=\"281.5\" y1=\"489.0366\" y2=\"489.0366\"/></g><!--class revet_d_options--><g id=\"elem_revet_d_options\"><rect codeLine=\"36\" fill=\"#F1F1F1\" height=\"113.4648\" id=\"revet_d_options\" rx=\"2.5\" ry=\"2.5\" style=\"stroke:#181818;stroke-width:0.5;\" width=\"141\" x=\"317\" y=\"395.82\"/><ellipse cx=\"332\" cy=\"411.82\" fill=\"#EB937F\" rx=\"11\" ry=\"11\" style=\"stroke:#181818;stroke-width:1.0;\"/><path d=\"M335.6143,418.32 L327.8945,418.32 L327.8945,405.9269 L335.6143,405.9269 L335.6143,408.0851 L330.3433,408.0851 L330.3433,410.758 L335.1162,410.758 L335.1162,412.9162 L330.3433,412.9162 L330.3433,416.1618 L335.6143,416.1618 Z \" fill=\"#000000\"/><text fill=\"#000000\" font-family=\"sans-serif\" font-size=\"14\" lengthAdjust=\"spacing\" textLength=\"109\" x=\"346\" y=\"417.111\">revet_d_options</text><line style=\"stroke:#181818;stroke-width:0.5;\" x1=\"318\" x2=\"457\" y1=\"427.82\" y2=\"427.82\"/><text fill=\"#000000\" font-family=\"sans-serif\" font-size=\"14\" lengthAdjust=\"spacing\" textLength=\"35\" x=\"323\" y=\"445.3552\">LISSE</text><line style=\"stroke:#181818;stroke-width:1.0;stroke-dasharray:1.0,2.0;\" x1=\"318\" x2=\"457\" y1=\"452.3083\" y2=\"452.3083\"/><text fill=\"#000000\" font-family=\"sans-serif\" font-size=\"14\" lengthAdjust=\"spacing\" textLength=\"66\" x=\"323\" y=\"469.8434\">RUGUEUX</text><line style=\"stroke:#181818;stroke-width:1.0;stroke-dasharray:1.0,2.0;\" x1=\"318\" x2=\"457\" y1=\"476.7966\" y2=\"476.7966\"/><text fill=\"#000000\" font-family=\"sans-serif\" font-size=\"14\" lengthAdjust=\"spacing\" textLength=\"53\" x=\"323\" y=\"494.3317\">MEUBLE</text><line style=\"stroke:#181818;stroke-width:1.0;stroke-dasharray:1.0,2.0;\" x1=\"318\" x2=\"457\" y1=\"501.2848\" y2=\"501.2848\"/></g><!--link CyclingInfrastructure to reseau_loc--><g id=\"link_CyclingInfrastructure_reseau_loc\"><path codeLine=\"19\" d=\"M126.13,310.43 C118.97,323.31 112,336.23 105.5,348.82 C98.75,361.88 91.99,376.14 85.82,389.77 \" fill=\"none\" id=\"CyclingInfrastructure-to-reseau_loc\" style=\"stroke:#181818;stroke-width:1.0;\"/><polygon fill=\"#181818\" points=\"83.83,394.18,91.1787,387.6228,85.8872,389.6228,83.8871,384.3313,83.83,394.18\" style=\"stroke:#181818;stroke-width:1.0;\"/><text fill=\"#000000\" font-family=\"sans-serif\" font-size=\"13\" lengthAdjust=\"spacing\" textLength=\"99\" x=\"106.5\" y=\"362.3884\">haveReseau_loc</text></g><!--link CyclingInfrastructure to sens_d--><g id=\"link_CyclingInfrastructure_sens_d\"><path codeLine=\"28\" d=\"M214.5,319.09 C214.5,348.81 214.5,377.87 214.5,401.16 \" fill=\"none\" id=\"CyclingInfrastructure-to-sens_d\" style=\"stroke:#181818;stroke-width:1.0;\"/><polygon fill=\"#181818\" points=\"214.5,406.06,218.5,397.06,214.5,401.06,210.5,397.06,214.5,406.06\" style=\"stroke:#181818;stroke-width:1.0;\"/><text fill=\"#000000\" font-family=\"sans-serif\" font-size=\"13\" lengthAdjust=\"spacing\" textLength=\"44\" x=\"215.5\" y=\"362.3884\">sens_d</text></g><!--link CyclingInfrastructure to revet_d_options--><g id=\"link_CyclingInfrastructure_revet_d_options\"><path codeLine=\"35\" d=\"M302.77,310.68 C319.59,338.63 336.31,366.43 350.4,389.86 \" fill=\"none\" id=\"CyclingInfrastructure-to-revet_d_options\" style=\"stroke:#181818;stroke-width:1.0;\"/><polygon fill=\"#181818\" points=\"352.96,394.11,351.7595,384.3346,350.3875,389.8225,344.8996,388.4505,352.96,394.11\" style=\"stroke:#181818;stroke-width:1.0;\"/><text fill=\"#000000\" font-family=\"sans-serif\" font-size=\"13\" lengthAdjust=\"spacing\" textLength=\"46\" x=\"332.5\" y=\"362.3884\">revet_d</text></g><!--SRC=[VP11QiCm44NNqYbqWUG0NHIQL1I3wu9Tb-w4aCUEWYq5QMGemNVls77JbfRiljuC__-HwNMCOlzXUkkwpBL1Hmp9O0eWpfoT8sgqPXAzDxfNjW67jhKGE7D-K4GviutoSI2G1cNHScPy0yhGkE6irw6356PvnTqt9jbe13Ne8sSOT6kD6YtIGXee1MYi8eJH6fWD1eg9FeNvTGh-20OLDGZGgWuyd_Z_Xsmszo9019tcnk9E7FG8vHLmeEe_5-ZmKhxnxPQpQZNH3fVtGq9gHUfMLWGNLKCv5t7nNo5vrqNsc9Lo_vgz58NC5z_T7tJxc15GqR-Vq7eNAMabNwVy7bDcdbMLN9BA-gcMzVkYdsMzonSyVG80]--></g></svg>"
      ],
      "text/plain": [
       "<IPython.core.display.SVG object>"
      ]
     },
     "execution_count": 123,
     "metadata": {},
     "output_type": "execute_result"
    }
   ],
   "source": [
    "b0.show_semantic_model(True)"
   ]
  },
  {
   "cell_type": "code",
   "execution_count": 124,
   "id": "bffe998f-a8be-4f62-91c4-0556618c99cd",
   "metadata": {},
   "outputs": [
    {
     "name": "stdout",
     "output_type": "stream",
     "text": [
      "------- Enumeration -------\n",
      "name : revet_d_options\n",
      "IRI : None\n",
      "definition : Type de revêtement de l'aménagement sur la voie de droite\n",
      "type : string\n",
      "required : non\n",
      "\t ------- Values -------\n",
      "\t name : LISSE\n",
      "\t definition : None\n",
      "\t IRI : http://example/LISSE\n",
      "\t --------------\n",
      "\t name : RUGUEUX\n",
      "\t definition : None\n",
      "\t IRI : http://example/RUGUEUX\n",
      "\t --------------\n",
      "\t name : MEUBLE\n",
      "\t definition : None\n",
      "\t IRI : http://example/MEUBLE\n",
      "\t --------------\n"
     ]
    }
   ],
   "source": [
    "dangling_bundles[\"revet_d_options\"].annotate(enum_values={\n",
    "         \"LISSE\": \"http://example/LISSE\",\n",
    "         \"RUGUEUX\": \"http://example/RUGUEUX\",\n",
    "         \"MEUBLE\": \"http://example/MEUBLE\"\n",
    "     })\n",
    "dangling_bundles[\"revet_d_options\"].show()"
   ]
  },
  {
   "cell_type": "code",
   "execution_count": 125,
   "id": "d71bde28-a7bb-447d-bce7-0ad5c8161a53",
   "metadata": {},
   "outputs": [
    {
     "data": {
      "text/html": [
       "<div>\n",
       "<style scoped>\n",
       "    .dataframe tbody tr th:only-of-type {\n",
       "        vertical-align: middle;\n",
       "    }\n",
       "\n",
       "    .dataframe tbody tr th {\n",
       "        vertical-align: top;\n",
       "    }\n",
       "\n",
       "    .dataframe thead th {\n",
       "        text-align: right;\n",
       "    }\n",
       "</style>\n",
       "<table border=\"1\" class=\"dataframe\">\n",
       "  <thead>\n",
       "    <tr style=\"text-align: right;\">\n",
       "      <th></th>\n",
       "      <th>revet_d_options</th>\n",
       "    </tr>\n",
       "  </thead>\n",
       "  <tbody>\n",
       "    <tr>\n",
       "      <th>0</th>\n",
       "      <td>MEUBLE</td>\n",
       "    </tr>\n",
       "    <tr>\n",
       "      <th>1</th>\n",
       "      <td>NaN</td>\n",
       "    </tr>\n",
       "    <tr>\n",
       "      <th>2</th>\n",
       "      <td>LISSE</td>\n",
       "    </tr>\n",
       "  </tbody>\n",
       "</table>\n",
       "</div>"
      ],
      "text/plain": [
       "  revet_d_options\n",
       "0          MEUBLE\n",
       "1             NaN\n",
       "2           LISSE"
      ]
     },
     "execution_count": 125,
     "metadata": {},
     "output_type": "execute_result"
    }
   ],
   "source": [
    "dangling_bundles[\"revet_d_options\"].dataset"
   ]
  },
  {
   "cell_type": "markdown",
   "id": "09467308-c3a9-476b-9471-550720747152",
   "metadata": {},
   "source": [
    "#### 2.3 Split transformer"
   ]
  },
  {
   "cell_type": "markdown",
   "id": "2e18f0d1-a607-4bbc-9bbf-3be9f5d62f07",
   "metadata": {},
   "source": [
    "We apply the `split` transformer on the *CyclingFacility* class bundle with:\n",
    "- instances class identifier: *code_com_g*\n",
    "- name of the new bundle [optional]: *Commune* "
   ]
  },
  {
   "cell_type": "code",
   "execution_count": 126,
   "id": "24cea03c-517e-41ab-bb0a-2937b533b040",
   "metadata": {},
   "outputs": [],
   "source": [
    "b1 = b0.split(class_id = \"code_com_g\", new_class_name = \"Commune\")"
   ]
  },
  {
   "cell_type": "markdown",
   "id": "ee971924-4a23-4603-a591-c428f8547de5",
   "metadata": {},
   "source": [
    "##### Overview of the Semantic Model after `split` transformer"
   ]
  },
  {
   "cell_type": "markdown",
   "id": "36aa9635-114f-4ab9-abab-1ac9829cf2a1",
   "metadata": {},
   "source": [
    "We apply `show_semantic_model` on the root bundle with `deep = True` to show the entire model"
   ]
  },
  {
   "cell_type": "code",
   "execution_count": 127,
   "id": "9ab51e9f-a2b9-4aa5-8ba8-502b6bdd9494",
   "metadata": {},
   "outputs": [
    {
     "data": {
      "image/svg+xml": [
       "<svg xmlns=\"http://www.w3.org/2000/svg\" xmlns:xlink=\"http://www.w3.org/1999/xlink\" contentStyleType=\"text/css\" height=\"516px\" preserveAspectRatio=\"none\" style=\"width:603px;height:516px;background:#FFFFFF;\" version=\"1.1\" viewBox=\"0 0 603 516\" width=\"603px\" zoomAndPan=\"magnify\"><defs/><g><!--class CyclingInfrastructure--><g id=\"elem_CyclingInfrastructure\"><rect codeLine=\"1\" fill=\"#F1F1F1\" height=\"311.8125\" id=\"CyclingInfrastructure\" rx=\"2.5\" ry=\"2.5\" style=\"stroke:#181818;stroke-width:0.5;\" width=\"176\" x=\"212.5\" y=\"7\"/><ellipse cx=\"227.5\" cy=\"23\" fill=\"#ADD1B2\" rx=\"11\" ry=\"11\" style=\"stroke:#181818;stroke-width:1.0;\"/><path d=\"M229.9731,29.1431 Q229.3921,29.4419 228.7529,29.5913 Q228.1138,29.7407 227.4082,29.7407 Q224.9014,29.7407 223.5815,28.0889 Q222.2617,26.437 222.2617,23.3159 Q222.2617,20.1865 223.5815,18.5347 Q224.9014,16.8828 227.4082,16.8828 Q228.1138,16.8828 228.7612,17.0322 Q229.4087,17.1816 229.9731,17.4805 L229.9731,20.2031 Q229.3423,19.6221 228.7488,19.3523 Q228.1553,19.0825 227.5244,19.0825 Q226.1797,19.0825 225.4949,20.1492 Q224.8101,21.2158 224.8101,23.3159 Q224.8101,25.4077 225.4949,26.4744 Q226.1797,27.541 227.5244,27.541 Q228.1553,27.541 228.7488,27.2712 Q229.3423,27.0015 229.9731,26.4204 Z \" fill=\"#000000\"/><text fill=\"#000000\" font-family=\"sans-serif\" font-size=\"14\" lengthAdjust=\"spacing\" textLength=\"144\" x=\"241.5\" y=\"28.291\">CyclingInfrastructure</text><line style=\"stroke:#181818;stroke-width:0.5;\" x1=\"213.5\" x2=\"387.5\" y1=\"39\" y2=\"39\"/><text fill=\"#000000\" font-family=\"sans-serif\" font-size=\"14\" lengthAdjust=\"spacing\" text-decoration=\"underline\" textLength=\"101\" x=\"218.5\" y=\"56.5352\">local_identifier</text><text fill=\"#000000\" font-family=\"sans-serif\" font-size=\"14\" lengthAdjust=\"spacing\" textLength=\"58\" x=\"218.5\" y=\"73.0234\">nom_loc</text><text fill=\"#000000\" font-family=\"sans-serif\" font-size=\"14\" lengthAdjust=\"spacing\" textLength=\"49\" x=\"218.5\" y=\"89.5117\">id_osm</text><text fill=\"#000000\" font-family=\"sans-serif\" font-size=\"14\" lengthAdjust=\"spacing\" textLength=\"51\" x=\"218.5\" y=\"106\">num_iti</text><text fill=\"#000000\" font-family=\"sans-serif\" font-size=\"14\" lengthAdjust=\"spacing\" textLength=\"85\" x=\"218.5\" y=\"122.4883\">code_com_d</text><text fill=\"#000000\" font-family=\"sans-serif\" font-size=\"14\" lengthAdjust=\"spacing\" textLength=\"66\" x=\"218.5\" y=\"138.9766\">largeur_d</text><text fill=\"#000000\" font-family=\"sans-serif\" font-size=\"14\" lengthAdjust=\"spacing\" textLength=\"85\" x=\"218.5\" y=\"155.4648\">code_com_g</text><text fill=\"#000000\" font-family=\"sans-serif\" font-size=\"14\" lengthAdjust=\"spacing\" textLength=\"66\" x=\"218.5\" y=\"171.9531\">largeur_g</text><text fill=\"#000000\" font-family=\"sans-serif\" font-size=\"14\" lengthAdjust=\"spacing\" textLength=\"62\" x=\"218.5\" y=\"188.4414\">date_maj</text><text fill=\"#000000\" font-family=\"sans-serif\" font-size=\"14\" lengthAdjust=\"spacing\" textLength=\"58\" x=\"218.5\" y=\"204.9297\">trafic_vit</text><text fill=\"#000000\" font-family=\"sans-serif\" font-size=\"14\" lengthAdjust=\"spacing\" textLength=\"52\" x=\"218.5\" y=\"221.418\">lumiere</text><text fill=\"#000000\" font-family=\"sans-serif\" font-size=\"14\" lengthAdjust=\"spacing\" textLength=\"63\" x=\"218.5\" y=\"237.9063\">d_service</text><text fill=\"#000000\" font-family=\"sans-serif\" font-size=\"14\" lengthAdjust=\"spacing\" textLength=\"42\" x=\"218.5\" y=\"254.3945\">comm</text><text fill=\"#000000\" font-family=\"sans-serif\" font-size=\"14\" lengthAdjust=\"spacing\" textLength=\"46\" x=\"218.5\" y=\"270.8828\">source</text><text fill=\"#000000\" font-family=\"sans-serif\" font-size=\"14\" lengthAdjust=\"spacing\" textLength=\"62\" x=\"218.5\" y=\"287.3711\">project_c</text><text fill=\"#000000\" font-family=\"sans-serif\" font-size=\"14\" lengthAdjust=\"spacing\" textLength=\"52\" x=\"218.5\" y=\"303.8594\">ref_geo</text><line style=\"stroke:#181818;stroke-width:0.5;\" x1=\"213.5\" x2=\"387.5\" y1=\"310.8125\" y2=\"310.8125\"/></g><!--class reseau_loc--><g id=\"elem_reseau_loc\"><rect codeLine=\"20\" fill=\"#F1F1F1\" height=\"113.4648\" id=\"reseau_loc\" rx=\"2.5\" ry=\"2.5\" style=\"stroke:#181818;stroke-width:0.5;\" width=\"105\" x=\"7\" y=\"395.82\"/><ellipse cx=\"22\" cy=\"411.82\" fill=\"#EB937F\" rx=\"11\" ry=\"11\" style=\"stroke:#181818;stroke-width:1.0;\"/><path d=\"M25.6143,418.32 L17.8945,418.32 L17.8945,405.9269 L25.6143,405.9269 L25.6143,408.0851 L20.3433,408.0851 L20.3433,410.758 L25.1162,410.758 L25.1162,412.9162 L20.3433,412.9162 L20.3433,416.1618 L25.6143,416.1618 Z \" fill=\"#000000\"/><text fill=\"#000000\" font-family=\"sans-serif\" font-size=\"14\" lengthAdjust=\"spacing\" textLength=\"73\" x=\"36\" y=\"417.111\">reseau_loc</text><line style=\"stroke:#181818;stroke-width:0.5;\" x1=\"8\" x2=\"111\" y1=\"427.82\" y2=\"427.82\"/><text fill=\"#000000\" font-family=\"sans-serif\" font-size=\"14\" lengthAdjust=\"spacing\" textLength=\"26\" x=\"13\" y=\"445.3552\">REV</text><line style=\"stroke:#181818;stroke-width:1.0;stroke-dasharray:1.0,2.0;\" x1=\"8\" x2=\"111\" y1=\"452.3083\" y2=\"452.3083\"/><text fill=\"#000000\" font-family=\"sans-serif\" font-size=\"14\" lengthAdjust=\"spacing\" textLength=\"77\" x=\"13\" y=\"469.8434\">Structurant</text><line style=\"stroke:#181818;stroke-width:1.0;stroke-dasharray:1.0,2.0;\" x1=\"8\" x2=\"111\" y1=\"476.7966\" y2=\"476.7966\"/><text fill=\"#000000\" font-family=\"sans-serif\" font-size=\"14\" lengthAdjust=\"spacing\" textLength=\"38\" x=\"13\" y=\"494.3317\">Autre</text><line style=\"stroke:#181818;stroke-width:1.0;stroke-dasharray:1.0,2.0;\" x1=\"8\" x2=\"111\" y1=\"501.2848\" y2=\"501.2848\"/></g><!--class sens_d--><g id=\"elem_sens_d\"><rect codeLine=\"29\" fill=\"#F1F1F1\" height=\"88.9766\" id=\"sens_d\" rx=\"2.5\" ry=\"2.5\" style=\"stroke:#181818;stroke-width:0.5;\" width=\"136\" x=\"146.5\" y=\"408.06\"/><ellipse cx=\"187.15\" cy=\"424.06\" fill=\"#EB937F\" rx=\"11\" ry=\"11\" style=\"stroke:#181818;stroke-width:1.0;\"/><path d=\"M190.7643,430.56 L183.0445,430.56 L183.0445,418.1669 L190.7643,418.1669 L190.7643,420.3251 L185.4933,420.3251 L185.4933,422.998 L190.2662,422.998 L190.2662,425.1562 L185.4933,425.1562 L185.4933,428.4018 L190.7643,428.4018 Z \" fill=\"#000000\"/><text fill=\"#000000\" font-family=\"sans-serif\" font-size=\"14\" lengthAdjust=\"spacing\" textLength=\"47\" x=\"206.85\" y=\"429.351\">sens_d</text><line style=\"stroke:#181818;stroke-width:0.5;\" x1=\"147.5\" x2=\"281.5\" y1=\"440.06\" y2=\"440.06\"/><text fill=\"#000000\" font-family=\"sans-serif\" font-size=\"14\" lengthAdjust=\"spacing\" textLength=\"124\" x=\"152.5\" y=\"457.5952\">UNIDIRECTIONNEL</text><line style=\"stroke:#181818;stroke-width:1.0;stroke-dasharray:1.0,2.0;\" x1=\"147.5\" x2=\"281.5\" y1=\"464.5483\" y2=\"464.5483\"/><text fill=\"#000000\" font-family=\"sans-serif\" font-size=\"14\" lengthAdjust=\"spacing\" textLength=\"112\" x=\"152.5\" y=\"482.0834\">BIDIRECTIONNEL</text><line style=\"stroke:#181818;stroke-width:1.0;stroke-dasharray:1.0,2.0;\" x1=\"147.5\" x2=\"281.5\" y1=\"489.0366\" y2=\"489.0366\"/></g><!--class revet_d_options--><g id=\"elem_revet_d_options\"><rect codeLine=\"36\" fill=\"#F1F1F1\" height=\"113.4648\" id=\"revet_d_options\" rx=\"2.5\" ry=\"2.5\" style=\"stroke:#181818;stroke-width:0.5;\" width=\"141\" x=\"317\" y=\"395.82\"/><ellipse cx=\"332\" cy=\"411.82\" fill=\"#EB937F\" rx=\"11\" ry=\"11\" style=\"stroke:#181818;stroke-width:1.0;\"/><path d=\"M335.6143,418.32 L327.8945,418.32 L327.8945,405.9269 L335.6143,405.9269 L335.6143,408.0851 L330.3433,408.0851 L330.3433,410.758 L335.1162,410.758 L335.1162,412.9162 L330.3433,412.9162 L330.3433,416.1618 L335.6143,416.1618 Z \" fill=\"#000000\"/><text fill=\"#000000\" font-family=\"sans-serif\" font-size=\"14\" lengthAdjust=\"spacing\" textLength=\"109\" x=\"346\" y=\"417.111\">revet_d_options</text><line style=\"stroke:#181818;stroke-width:0.5;\" x1=\"318\" x2=\"457\" y1=\"427.82\" y2=\"427.82\"/><text fill=\"#000000\" font-family=\"sans-serif\" font-size=\"14\" lengthAdjust=\"spacing\" textLength=\"35\" x=\"323\" y=\"445.3552\">LISSE</text><line style=\"stroke:#181818;stroke-width:1.0;stroke-dasharray:1.0,2.0;\" x1=\"318\" x2=\"457\" y1=\"452.3083\" y2=\"452.3083\"/><text fill=\"#000000\" font-family=\"sans-serif\" font-size=\"14\" lengthAdjust=\"spacing\" textLength=\"66\" x=\"323\" y=\"469.8434\">RUGUEUX</text><line style=\"stroke:#181818;stroke-width:1.0;stroke-dasharray:1.0,2.0;\" x1=\"318\" x2=\"457\" y1=\"476.7966\" y2=\"476.7966\"/><text fill=\"#000000\" font-family=\"sans-serif\" font-size=\"14\" lengthAdjust=\"spacing\" textLength=\"53\" x=\"323\" y=\"494.3317\">MEUBLE</text><line style=\"stroke:#181818;stroke-width:1.0;stroke-dasharray:1.0,2.0;\" x1=\"318\" x2=\"457\" y1=\"501.2848\" y2=\"501.2848\"/></g><!--class Commune--><g id=\"elem_Commune\"><rect codeLine=\"45\" fill=\"#F1F1F1\" height=\"64.4883\" id=\"Commune\" rx=\"2.5\" ry=\"2.5\" style=\"stroke:#181818;stroke-width:0.5;\" width=\"103\" x=\"493\" y=\"420.3\"/><ellipse cx=\"508\" cy=\"436.3\" fill=\"#ADD1B2\" rx=\"11\" ry=\"11\" style=\"stroke:#181818;stroke-width:1.0;\"/><path d=\"M510.4731,442.4431 Q509.8921,442.7419 509.2529,442.8913 Q508.6138,443.0407 507.9082,443.0407 Q505.4014,443.0407 504.0815,441.3889 Q502.7617,439.737 502.7617,436.6159 Q502.7617,433.4865 504.0815,431.8347 Q505.4014,430.1828 507.9082,430.1828 Q508.6138,430.1828 509.2612,430.3322 Q509.9087,430.4816 510.4731,430.7805 L510.4731,433.5031 Q509.8423,432.9221 509.2488,432.6523 Q508.6553,432.3825 508.0244,432.3825 Q506.6797,432.3825 505.9949,433.4492 Q505.3101,434.5158 505.3101,436.6159 Q505.3101,438.7077 505.9949,439.7744 Q506.6797,440.841 508.0244,440.841 Q508.6553,440.841 509.2488,440.5712 Q509.8423,440.3015 510.4731,439.7204 Z \" fill=\"#000000\"/><text fill=\"#000000\" font-family=\"sans-serif\" font-size=\"14\" lengthAdjust=\"spacing\" textLength=\"71\" x=\"522\" y=\"441.591\">Commune</text><line style=\"stroke:#181818;stroke-width:0.5;\" x1=\"494\" x2=\"595\" y1=\"452.3\" y2=\"452.3\"/><text fill=\"#000000\" font-family=\"sans-serif\" font-size=\"14\" lengthAdjust=\"spacing\" text-decoration=\"underline\" textLength=\"85\" x=\"499\" y=\"469.8352\">code_com_g</text><line style=\"stroke:#181818;stroke-width:0.5;\" x1=\"494\" x2=\"595\" y1=\"476.7883\" y2=\"476.7883\"/></g><!--link CyclingInfrastructure to reseau_loc--><g id=\"link_CyclingInfrastructure_reseau_loc\"><path codeLine=\"19\" d=\"M212.37,256.54 C185.94,285.46 157.38,317.9 132.5,348.82 C121.93,361.95 111.11,376.48 101.15,390.38 \" fill=\"none\" id=\"CyclingInfrastructure-to-reseau_loc\" style=\"stroke:#181818;stroke-width:1.0;\"/><polygon fill=\"#181818\" points=\"98.4,394.23,106.8794,389.2201,101.3008,390.1575,100.3634,384.5788,98.4,394.23\" style=\"stroke:#181818;stroke-width:1.0;\"/><text fill=\"#000000\" font-family=\"sans-serif\" font-size=\"13\" lengthAdjust=\"spacing\" textLength=\"99\" x=\"133.5\" y=\"362.3884\">haveReseau_loc</text></g><!--link CyclingInfrastructure to sens_d--><g id=\"link_CyclingInfrastructure_sens_d\"><path codeLine=\"28\" d=\"M254.1,319.09 C245.18,348.93 236.46,378.11 229.48,401.46 \" fill=\"none\" id=\"CyclingInfrastructure-to-sens_d\" style=\"stroke:#181818;stroke-width:1.0;\"/><polygon fill=\"#181818\" points=\"228.08,406.12,234.4872,398.6402,229.5102,401.3289,226.8214,396.3519,228.08,406.12\" style=\"stroke:#181818;stroke-width:1.0;\"/><text fill=\"#000000\" font-family=\"sans-serif\" font-size=\"13\" lengthAdjust=\"spacing\" textLength=\"44\" x=\"245.5\" y=\"362.3884\">sens_d</text></g><!--link CyclingInfrastructure to revet_d_options--><g id=\"link_CyclingInfrastructure_revet_d_options\"><path codeLine=\"35\" d=\"M347.44,319.09 C354.96,343.97 362.35,368.39 368.69,389.35 \" fill=\"none\" id=\"CyclingInfrastructure-to-revet_d_options\" style=\"stroke:#181818;stroke-width:1.0;\"/><polygon fill=\"#181818\" points=\"370.09,394,371.3218,384.2285,368.6467,389.2128,363.6623,386.5377,370.09,394\" style=\"stroke:#181818;stroke-width:1.0;\"/><text fill=\"#000000\" font-family=\"sans-serif\" font-size=\"13\" lengthAdjust=\"spacing\" textLength=\"46\" x=\"359.5\" y=\"362.3884\">revet_d</text></g><!--link CyclingInfrastructure to Commune--><g id=\"link_CyclingInfrastructure_Commune\"><path codeLine=\"44\" d=\"M388.93,268.16 C432.53,319.55 482.32,378.25 513.59,415.11 \" fill=\"none\" id=\"CyclingInfrastructure-to-Commune\" style=\"stroke:#181818;stroke-width:1.0;\"/><polygon fill=\"#181818\" points=\"516.7,418.78,513.921,409.3313,513.4626,414.9696,507.8243,414.5112,516.7,418.78\" style=\"stroke:#181818;stroke-width:1.0;\"/><text fill=\"#000000\" font-family=\"sans-serif\" font-size=\"13\" lengthAdjust=\"spacing\" textLength=\"79\" x=\"466.5\" y=\"362.3884\">code_com_g</text></g><!--SRC=[XP91QiCm44NNqYbqWUG0NHIQL1H3we9Tb-w4aCUEWYq5QMGe8NVls75JbvPqz_Ld-6z6akbqZ6BxOJhhsimrGKSCoM0A84wSdI9gjEOiEczqfsmD3crZ8N3cVA_8vSpMoiUUZDGhYvOpusjGXierPvqEBQGmoglTVjiaQusWUdtW38Dkh563HMf8FL60oYf26Ao1CQ0dJFGfZATZy0Smg6Y208rgmVCp_tkHrUfU18YWqpYnk1DxFK1nDJZGwCi6MhoGRtozvgoSGxJ3wVoGaAOYTOiLmKLL4-SYBlcpITbLdZrcXTo-PYzvBdTJxkQNTNkP0L3HlH_HUXU9D3jVg_mi4tENbQMSI4NrLCdgVTBFijhiv7-qBTrxSa2KnHEQoyUPIyklicWwVm80]--></g></svg>"
      ],
      "text/plain": [
       "<IPython.core.display.SVG object>"
      ]
     },
     "execution_count": 127,
     "metadata": {},
     "output_type": "execute_result"
    }
   ],
   "source": [
    "b0.show_semantic_model(True)"
   ]
  },
  {
   "cell_type": "markdown",
   "id": "ffc9dcf9-5f98-4742-b93c-2f3fd7686776",
   "metadata": {},
   "source": [
    "##### Overview of the *Commune* Semantic Model"
   ]
  },
  {
   "cell_type": "code",
   "execution_count": 128,
   "id": "103de352-d360-482b-8afd-c4e47312b8a8",
   "metadata": {},
   "outputs": [
    {
     "data": {
      "image/svg+xml": [
       "<svg xmlns=\"http://www.w3.org/2000/svg\" xmlns:xlink=\"http://www.w3.org/1999/xlink\" contentStyleType=\"text/css\" height=\"85px\" preserveAspectRatio=\"none\" style=\"width:124px;height:85px;background:#FFFFFF;\" version=\"1.1\" viewBox=\"0 0 124 85\" width=\"124px\" zoomAndPan=\"magnify\"><defs/><g><!--class Commune--><g id=\"elem_Commune\"><rect codeLine=\"1\" fill=\"#F1F1F1\" height=\"64.4883\" id=\"Commune\" rx=\"2.5\" ry=\"2.5\" style=\"stroke:#181818;stroke-width:0.5;\" width=\"103\" x=\"7\" y=\"7\"/><ellipse cx=\"22\" cy=\"23\" fill=\"#ADD1B2\" rx=\"11\" ry=\"11\" style=\"stroke:#181818;stroke-width:1.0;\"/><path d=\"M24.4731,29.1431 Q23.8921,29.4419 23.2529,29.5913 Q22.6138,29.7407 21.9082,29.7407 Q19.4014,29.7407 18.0815,28.0889 Q16.7617,26.437 16.7617,23.3159 Q16.7617,20.1865 18.0815,18.5347 Q19.4014,16.8828 21.9082,16.8828 Q22.6138,16.8828 23.2612,17.0322 Q23.9087,17.1816 24.4731,17.4805 L24.4731,20.2031 Q23.8423,19.6221 23.2488,19.3523 Q22.6553,19.0825 22.0244,19.0825 Q20.6797,19.0825 19.9949,20.1492 Q19.3101,21.2158 19.3101,23.3159 Q19.3101,25.4077 19.9949,26.4744 Q20.6797,27.541 22.0244,27.541 Q22.6553,27.541 23.2488,27.2712 Q23.8423,27.0015 24.4731,26.4204 Z \" fill=\"#000000\"/><text fill=\"#000000\" font-family=\"sans-serif\" font-size=\"14\" lengthAdjust=\"spacing\" textLength=\"71\" x=\"36\" y=\"28.291\">Commune</text><line style=\"stroke:#181818;stroke-width:0.5;\" x1=\"8\" x2=\"109\" y1=\"39\" y2=\"39\"/><text fill=\"#000000\" font-family=\"sans-serif\" font-size=\"14\" lengthAdjust=\"spacing\" text-decoration=\"underline\" textLength=\"85\" x=\"13\" y=\"56.5352\">code_com_g</text><line style=\"stroke:#181818;stroke-width:0.5;\" x1=\"8\" x2=\"109\" y1=\"63.4883\" y2=\"63.4883\"/></g><!--SRC=[Iyv9B2vMSCxFpItDIrMevkAiBYv9BCbChbL8paz9ZK_EpurFvwe50000]--></g></svg>"
      ],
      "text/plain": [
       "<IPython.core.display.SVG object>"
      ]
     },
     "execution_count": 128,
     "metadata": {},
     "output_type": "execute_result"
    }
   ],
   "source": [
    "b1.show_semantic_model(True) # deep = True or deep = False has no impact here "
   ]
  },
  {
   "cell_type": "markdown",
   "id": "0eb32b6b-91ce-42f1-89b8-b6d64f9903e5",
   "metadata": {},
   "source": [
    "##### Overview of the *Commune* dataset"
   ]
  },
  {
   "cell_type": "code",
   "execution_count": 129,
   "id": "871228f0-76b9-4afc-9760-eb2f9fc7a085",
   "metadata": {},
   "outputs": [
    {
     "data": {
      "text/html": [
       "<div>\n",
       "<style scoped>\n",
       "    .dataframe tbody tr th:only-of-type {\n",
       "        vertical-align: middle;\n",
       "    }\n",
       "\n",
       "    .dataframe tbody tr th {\n",
       "        vertical-align: top;\n",
       "    }\n",
       "\n",
       "    .dataframe thead th {\n",
       "        text-align: right;\n",
       "    }\n",
       "</style>\n",
       "<table border=\"1\" class=\"dataframe\">\n",
       "  <thead>\n",
       "    <tr style=\"text-align: right;\">\n",
       "      <th></th>\n",
       "      <th>code_com_g</th>\n",
       "    </tr>\n",
       "  </thead>\n",
       "  <tbody>\n",
       "    <tr>\n",
       "      <th>0</th>\n",
       "      <td>34058</td>\n",
       "    </tr>\n",
       "    <tr>\n",
       "      <th>1</th>\n",
       "      <td>34058</td>\n",
       "    </tr>\n",
       "    <tr>\n",
       "      <th>2</th>\n",
       "      <td>34058</td>\n",
       "    </tr>\n",
       "    <tr>\n",
       "      <th>3</th>\n",
       "      <td>34327</td>\n",
       "    </tr>\n",
       "    <tr>\n",
       "      <th>4</th>\n",
       "      <td>34057</td>\n",
       "    </tr>\n",
       "    <tr>\n",
       "      <th>...</th>\n",
       "      <td>...</td>\n",
       "    </tr>\n",
       "    <tr>\n",
       "      <th>95</th>\n",
       "      <td>34077</td>\n",
       "    </tr>\n",
       "    <tr>\n",
       "      <th>96</th>\n",
       "      <td>34077</td>\n",
       "    </tr>\n",
       "    <tr>\n",
       "      <th>97</th>\n",
       "      <td>34077</td>\n",
       "    </tr>\n",
       "    <tr>\n",
       "      <th>98</th>\n",
       "      <td>34077</td>\n",
       "    </tr>\n",
       "    <tr>\n",
       "      <th>99</th>\n",
       "      <td>34077</td>\n",
       "    </tr>\n",
       "  </tbody>\n",
       "</table>\n",
       "<p>100 rows × 1 columns</p>\n",
       "</div>"
      ],
      "text/plain": [
       "   code_com_g\n",
       "0       34058\n",
       "1       34058\n",
       "2       34058\n",
       "3       34327\n",
       "4       34057\n",
       "..        ...\n",
       "95      34077\n",
       "96      34077\n",
       "97      34077\n",
       "98      34077\n",
       "99      34077\n",
       "\n",
       "[100 rows x 1 columns]"
      ]
     },
     "execution_count": 129,
     "metadata": {},
     "output_type": "execute_result"
    }
   ],
   "source": [
    "b1.dataset"
   ]
  },
  {
   "cell_type": "markdown",
   "id": "7934015d-e205-4ece-867f-0d06da1afa8a",
   "metadata": {},
   "source": [
    "#### 2.4 Document transformer"
   ]
  },
  {
   "cell_type": "code",
   "execution_count": 133,
   "id": "3c4992ae-7692-4db9-a8e9-433e7d7b1807",
   "metadata": {},
   "outputs": [
    {
     "name": "stdout",
     "output_type": "stream",
     "text": [
      "------- Class -------\n",
      "name : CyclingInfrastructure\n",
      "IRI : http://schema.org/Thing\n",
      "definition : None\n",
      "\t ------- attributes -------\n",
      "\t name : local_identifier\n",
      "\t IRI : None\n",
      "\t definition : Identifiant unique pérenne défini par la collectivité\n",
      "\t type : string\n",
      "\t id : oui\n",
      "\t required : oui\n",
      "\t --------------\n",
      "\t name : nom_loc\n",
      "\t IRI : http://schema.org/name\n",
      "\t definition : Nom et numéro des itinéraires locaux\n",
      "\t type : array\n",
      "\t id : non\n",
      "\t required : non\n",
      "\t --------------\n",
      "\t name : id_osm\n",
      "\t IRI : None\n",
      "\t definition : Identifiant de l'aménagement sur OSM\n",
      "\t type : string\n",
      "\t id : non\n",
      "\t required : non\n",
      "\t --------------\n",
      "\t name : num_iti\n",
      "\t IRI : None\n",
      "\t definition : Numéro des itinéraires, des EuroVelo au schéma départementaux, auxquels le segment appartient. Séparé par « : »\n",
      "\t type : string\n",
      "\t id : non\n",
      "\t required : non\n",
      "\t --------------\n",
      "\t name : code_com_d\n",
      "\t IRI : None\n",
      "\t definition : Code INSEE de la commune (5 caractères alphanumériques) sur la voie de droite\n",
      "\t type : string\n",
      "\t id : non\n",
      "\t required : oui\n",
      "\t --------------\n",
      "\t name : largeur_d\n",
      "\t IRI : None\n",
      "\t definition : Largeur hors marquage minimale utile de la voie de droite réservée au cycliste, en mètre. La largeur du marquage est exclue\n",
      "\t type : number\n",
      "\t id : non\n",
      "\t required : non\n",
      "\t --------------\n",
      "\t name : code_com_g\n",
      "\t IRI : None\n",
      "\t definition : Code INSEE de la commune (5 caractères alphanumériques) sur la voie de gauche\n",
      "\t type : string\n",
      "\t id : non\n",
      "\t required : oui\n",
      "\t --------------\n",
      "\t name : largeur_g\n",
      "\t IRI : None\n",
      "\t definition : Largeur hors marquage minimale utile de la voie de gauche réservée au cycliste, en mètre. La largeur du marquage est exclue\n",
      "\t type : number\n",
      "\t id : non\n",
      "\t required : non\n",
      "\t --------------\n",
      "\t name : date_maj\n",
      "\t IRI : None\n",
      "\t definition : Date de dernière mise à jour des données du segment. Notation ISO 8601, format AAAA-MM-JJ\n",
      "\t type : string\n",
      "\t id : non\n",
      "\t required : non\n",
      "\t --------------\n",
      "\t name : trafic_vit\n",
      "\t IRI : None\n",
      "\t definition : Vitesse maximale autorisée pour le trafic adjacent à l'aménagement, en km/h. La vitesse 5 km/h correspond à une vitesse à l'allure du pas\n",
      "\t type : integer\n",
      "\t id : non\n",
      "\t required : non\n",
      "\t --------------\n",
      "\t name : lumiere\n",
      "\t IRI : None\n",
      "\t definition : Aménagement éclairé\n",
      "\t type : boolean\n",
      "\t id : non\n",
      "\t required : non\n",
      "\t --------------\n",
      "\t name : d_service\n",
      "\t IRI : None\n",
      "\t definition : Date de mise en oeuvre de l'aménagement (AAAA)\n",
      "\t type : number\n",
      "\t id : non\n",
      "\t required : non\n",
      "\t --------------\n",
      "\t name : comm\n",
      "\t IRI : None\n",
      "\t definition : Remarques éventuelles au sujet de l'aménagement\n",
      "\t type : string\n",
      "\t id : non\n",
      "\t required : non\n",
      "\t --------------\n",
      "\t name : source\n",
      "\t IRI : None\n",
      "\t definition : Entité ayant fourni les données\n",
      "\t type : string\n",
      "\t id : non\n",
      "\t required : non\n",
      "\t --------------\n",
      "\t name : project_c\n",
      "\t IRI : None\n",
      "\t definition : Projection cartographique de la donnée source\n",
      "\t type : string\n",
      "\t id : non\n",
      "\t required : non\n",
      "\t --------------\n",
      "\t name : ref_geo\n",
      "\t IRI : None\n",
      "\t definition : Référentiel géographique utilisé \n",
      "\t type : string\n",
      "\t id : non\n",
      "\t required : non\n",
      "\t --------------\n",
      "------- Links -------\n",
      "name : haveReseau_loc\n",
      "IRI : None\n",
      "definition : Type de réseau structurant local auquel l'aménagement appartient\n",
      "------- Enumeration -------\n",
      "name : reseau_loc\n",
      "IRI : None\n",
      "definition : Type de réseau structurant local auquel l'aménagement appartient\n",
      "type : string\n",
      "required : non\n",
      "\t ------- Values -------\n",
      "\t name : REV\n",
      "\t definition : REseau Vélo\n",
      "\t IRI : None\n",
      "\t --------------\n",
      "\t name : Structurant\n",
      "\t definition : un sous maillage du REV\n",
      "\t IRI : None\n",
      "\t --------------\n",
      "\t name : Autre\n",
      "\t definition : None\n",
      "\t IRI : None\n",
      "\t --------------\n",
      "name : sens_d\n",
      "IRI : None\n",
      "definition : Sens de circulation pour les cyclistes sur la voie de droite\n",
      "------- Enumeration -------\n",
      "name : sens_d\n",
      "IRI : None\n",
      "definition : Sens de circulation pour les cyclistes sur la voie de droite\n",
      "type : string\n",
      "required : non\n",
      "\t ------- Values -------\n",
      "\t name : UNIDIRECTIONNEL\n",
      "\t definition : Une seule direction\n",
      "\t IRI : None\n",
      "\t --------------\n",
      "\t name : BIDIRECTIONNEL\n",
      "\t definition : Deux direction\n",
      "\t IRI : None\n",
      "\t --------------\n",
      "name : revet_d\n",
      "IRI : None\n",
      "definition : Type de revêtement de l'aménagement sur la voie de droite\n",
      "------- Enumeration -------\n",
      "name : revet_d_options\n",
      "IRI : None\n",
      "definition : Type de revêtement de l'aménagement sur la voie de droite\n",
      "type : string\n",
      "required : non\n",
      "\t ------- Values -------\n",
      "\t name : LISSE\n",
      "\t definition : Dont la surface est unie, polie, sans aspérités\n",
      "\t IRI : http://example/LISSE\n",
      "\t --------------\n",
      "\t name : RUGUEUX\n",
      "\t definition : Dont la surface présente des aspérités, des irrégularités et qui est rude au toucher\n",
      "\t IRI : http://example/RUGUEUX\n",
      "\t --------------\n",
      "\t name : MEUBLE\n",
      "\t definition : Dont la surface a peu de cohésion\n",
      "\t IRI : http://example/MEUBLE\n",
      "\t --------------\n",
      "name : code_com_g\n",
      "IRI : None\n",
      "definition : None\n",
      "------- Class -------\n",
      "name : Commune\n",
      "IRI : http://data.ign.fr/def/geofla#Commune\n",
      "definition : None\n",
      "\t ------- attributes -------\n",
      "\t name : code_com_g\n",
      "\t IRI : None\n",
      "\t definition : Code INSEE de la commune (5 caractères alphanumériques) sur la voie de gauche\n",
      "\t type : string\n",
      "\t id : oui\n",
      "\t required : oui\n",
      "\t --------------\n"
     ]
    }
   ],
   "source": [
    "b1.annotate(class_IRI = \"http://data.ign.fr/def/geofla#Commune\")\n",
    "dangling_bundles[\"reseau_loc\"].document(enum_values={\"REV\":\"REseau Vélo\",\n",
    "                                                    \"Structurant\" :\"un sous maillage du REV\"})\n",
    "dangling_bundles[\"sens_d\"].document(enum_values={\"UNIDIRECTIONNEL\":\"Une seule direction\",\n",
    "                                                \"BIDIRECTIONNEL\": \"Deux direction\"})\n",
    "dangling_bundles[\"revet_d_options\"].document(enum_values={\"LISSE\":\"Dont la surface est unie, polie, sans aspérités\",\n",
    "                                                          \"RUGUEUX\":\"Dont la surface présente des aspérités, des irrégularités et qui est rude au toucher\",\n",
    "                                                          \"MEUBLE\":\"Dont la surface a peu de cohésion\"\n",
    "                                                         })\n",
    "b0.show(True)"
   ]
  },
  {
   "cell_type": "markdown",
   "id": "5f5d718a-3281-488a-8418-3b1d31709e1f",
   "metadata": {},
   "source": [
    "### 3. Loaders"
   ]
  },
  {
   "cell_type": "markdown",
   "id": "fce9aa53-7ded-40da-9a74-e4966d621dc6",
   "metadata": {},
   "source": [
    "Presently, we propose two loaders:\n",
    "1. generateOntology\n",
    "2. generateRDF"
   ]
  },
  {
   "cell_type": "markdown",
   "id": "2adfc9ed-c38f-4219-8c9a-0f56455194f3",
   "metadata": {},
   "source": [
    "#### 3.1 Generate the ontology"
   ]
  },
  {
   "cell_type": "code",
   "execution_count": 134,
   "id": "9a3de26c-10ab-41bb-b043-f8a59e887dbd",
   "metadata": {},
   "outputs": [],
   "source": [
    "g, kpi_results = b0.generateOntology(True)"
   ]
  },
  {
   "cell_type": "markdown",
   "id": "b05a47c9-77b4-4dd9-961b-118c7c4dfd32",
   "metadata": {},
   "source": [
    "##### Overview of the generated ontology"
   ]
  },
  {
   "cell_type": "code",
   "execution_count": 135,
   "id": "d6222eff-0736-4791-b579-47576fc1b55d",
   "metadata": {},
   "outputs": [
    {
     "data": {
      "text/html": [
       "<div>\n",
       "<style scoped>\n",
       "    .dataframe tbody tr th:only-of-type {\n",
       "        vertical-align: middle;\n",
       "    }\n",
       "\n",
       "    .dataframe tbody tr th {\n",
       "        vertical-align: top;\n",
       "    }\n",
       "\n",
       "    .dataframe thead th {\n",
       "        text-align: right;\n",
       "    }\n",
       "</style>\n",
       "<table border=\"1\" class=\"dataframe\">\n",
       "  <thead>\n",
       "    <tr style=\"text-align: right;\">\n",
       "      <th></th>\n",
       "      <th>IRI</th>\n",
       "      <th>type</th>\n",
       "      <th>related</th>\n",
       "    </tr>\n",
       "  </thead>\n",
       "  <tbody>\n",
       "    <tr>\n",
       "      <th>0</th>\n",
       "      <td>https://data.grandlyon.com/onto/localIdentifier</td>\n",
       "      <td>DatatypeProperty</td>\n",
       "      <td>CyclingInfrastructure</td>\n",
       "    </tr>\n",
       "    <tr>\n",
       "      <th>1</th>\n",
       "      <td>https://data.grandlyon.com/onto/idOsm</td>\n",
       "      <td>DatatypeProperty</td>\n",
       "      <td>CyclingInfrastructure</td>\n",
       "    </tr>\n",
       "    <tr>\n",
       "      <th>2</th>\n",
       "      <td>https://data.grandlyon.com/onto/numIti</td>\n",
       "      <td>DatatypeProperty</td>\n",
       "      <td>CyclingInfrastructure</td>\n",
       "    </tr>\n",
       "    <tr>\n",
       "      <th>3</th>\n",
       "      <td>https://data.grandlyon.com/onto/codeComD</td>\n",
       "      <td>DatatypeProperty</td>\n",
       "      <td>CyclingInfrastructure</td>\n",
       "    </tr>\n",
       "    <tr>\n",
       "      <th>4</th>\n",
       "      <td>https://data.grandlyon.com/onto/largeurD</td>\n",
       "      <td>DatatypeProperty</td>\n",
       "      <td>CyclingInfrastructure</td>\n",
       "    </tr>\n",
       "    <tr>\n",
       "      <th>5</th>\n",
       "      <td>https://data.grandlyon.com/onto/codeComG</td>\n",
       "      <td>DatatypeProperty</td>\n",
       "      <td>CyclingInfrastructure</td>\n",
       "    </tr>\n",
       "    <tr>\n",
       "      <th>6</th>\n",
       "      <td>https://data.grandlyon.com/onto/largeurG</td>\n",
       "      <td>DatatypeProperty</td>\n",
       "      <td>CyclingInfrastructure</td>\n",
       "    </tr>\n",
       "    <tr>\n",
       "      <th>7</th>\n",
       "      <td>https://data.grandlyon.com/onto/dateMaj</td>\n",
       "      <td>DatatypeProperty</td>\n",
       "      <td>CyclingInfrastructure</td>\n",
       "    </tr>\n",
       "    <tr>\n",
       "      <th>8</th>\n",
       "      <td>https://data.grandlyon.com/onto/traficVit</td>\n",
       "      <td>DatatypeProperty</td>\n",
       "      <td>CyclingInfrastructure</td>\n",
       "    </tr>\n",
       "    <tr>\n",
       "      <th>9</th>\n",
       "      <td>https://data.grandlyon.com/onto/lumiere</td>\n",
       "      <td>DatatypeProperty</td>\n",
       "      <td>CyclingInfrastructure</td>\n",
       "    </tr>\n",
       "    <tr>\n",
       "      <th>10</th>\n",
       "      <td>https://data.grandlyon.com/onto/dService</td>\n",
       "      <td>DatatypeProperty</td>\n",
       "      <td>CyclingInfrastructure</td>\n",
       "    </tr>\n",
       "    <tr>\n",
       "      <th>11</th>\n",
       "      <td>https://data.grandlyon.com/onto/comm</td>\n",
       "      <td>DatatypeProperty</td>\n",
       "      <td>CyclingInfrastructure</td>\n",
       "    </tr>\n",
       "    <tr>\n",
       "      <th>12</th>\n",
       "      <td>https://data.grandlyon.com/onto/source</td>\n",
       "      <td>DatatypeProperty</td>\n",
       "      <td>CyclingInfrastructure</td>\n",
       "    </tr>\n",
       "    <tr>\n",
       "      <th>13</th>\n",
       "      <td>https://data.grandlyon.com/onto/projectC</td>\n",
       "      <td>DatatypeProperty</td>\n",
       "      <td>CyclingInfrastructure</td>\n",
       "    </tr>\n",
       "    <tr>\n",
       "      <th>14</th>\n",
       "      <td>https://data.grandlyon.com/onto/refGeo</td>\n",
       "      <td>DatatypeProperty</td>\n",
       "      <td>CyclingInfrastructure</td>\n",
       "    </tr>\n",
       "    <tr>\n",
       "      <th>15</th>\n",
       "      <td>https://data.grandlyon.com/onto/havereseauLoc</td>\n",
       "      <td>ObjectProperty</td>\n",
       "      <td>CyclingInfrastructure</td>\n",
       "    </tr>\n",
       "    <tr>\n",
       "      <th>16</th>\n",
       "      <td>https://data.grandlyon.com/vocab/Reseau_loc</td>\n",
       "      <td>ConceptScheme</td>\n",
       "      <td>NA</td>\n",
       "    </tr>\n",
       "    <tr>\n",
       "      <th>17</th>\n",
       "      <td>https://data.grandlyon.com/vocab/rev</td>\n",
       "      <td>Concept</td>\n",
       "      <td>reseau_loc</td>\n",
       "    </tr>\n",
       "    <tr>\n",
       "      <th>18</th>\n",
       "      <td>https://data.grandlyon.com/vocab/structurant</td>\n",
       "      <td>Concept</td>\n",
       "      <td>reseau_loc</td>\n",
       "    </tr>\n",
       "    <tr>\n",
       "      <th>19</th>\n",
       "      <td>https://data.grandlyon.com/vocab/autre</td>\n",
       "      <td>Concept</td>\n",
       "      <td>reseau_loc</td>\n",
       "    </tr>\n",
       "    <tr>\n",
       "      <th>20</th>\n",
       "      <td>https://data.grandlyon.com/onto/sensD</td>\n",
       "      <td>ObjectProperty</td>\n",
       "      <td>CyclingInfrastructure</td>\n",
       "    </tr>\n",
       "    <tr>\n",
       "      <th>21</th>\n",
       "      <td>https://data.grandlyon.com/vocab/Sens_d</td>\n",
       "      <td>ConceptScheme</td>\n",
       "      <td>NA</td>\n",
       "    </tr>\n",
       "    <tr>\n",
       "      <th>22</th>\n",
       "      <td>https://data.grandlyon.com/vocab/unidirectionnel</td>\n",
       "      <td>Concept</td>\n",
       "      <td>sens_d</td>\n",
       "    </tr>\n",
       "    <tr>\n",
       "      <th>23</th>\n",
       "      <td>https://data.grandlyon.com/vocab/bidirectionnel</td>\n",
       "      <td>Concept</td>\n",
       "      <td>sens_d</td>\n",
       "    </tr>\n",
       "    <tr>\n",
       "      <th>24</th>\n",
       "      <td>https://data.grandlyon.com/onto/revetD</td>\n",
       "      <td>ObjectProperty</td>\n",
       "      <td>CyclingInfrastructure</td>\n",
       "    </tr>\n",
       "    <tr>\n",
       "      <th>25</th>\n",
       "      <td>https://data.grandlyon.com/vocab/Revet_d_options</td>\n",
       "      <td>ConceptScheme</td>\n",
       "      <td>NA</td>\n",
       "    </tr>\n",
       "    <tr>\n",
       "      <th>26</th>\n",
       "      <td>https://data.grandlyon.com/onto/codeComG</td>\n",
       "      <td>ObjectProperty</td>\n",
       "      <td>CyclingInfrastructure</td>\n",
       "    </tr>\n",
       "    <tr>\n",
       "      <th>27</th>\n",
       "      <td>https://data.grandlyon.com/onto/codeComG</td>\n",
       "      <td>DatatypeProperty</td>\n",
       "      <td>Commune</td>\n",
       "    </tr>\n",
       "  </tbody>\n",
       "</table>\n",
       "</div>"
      ],
      "text/plain": [
       "                                                 IRI              type  \\\n",
       "0    https://data.grandlyon.com/onto/localIdentifier  DatatypeProperty   \n",
       "1              https://data.grandlyon.com/onto/idOsm  DatatypeProperty   \n",
       "2             https://data.grandlyon.com/onto/numIti  DatatypeProperty   \n",
       "3           https://data.grandlyon.com/onto/codeComD  DatatypeProperty   \n",
       "4           https://data.grandlyon.com/onto/largeurD  DatatypeProperty   \n",
       "5           https://data.grandlyon.com/onto/codeComG  DatatypeProperty   \n",
       "6           https://data.grandlyon.com/onto/largeurG  DatatypeProperty   \n",
       "7            https://data.grandlyon.com/onto/dateMaj  DatatypeProperty   \n",
       "8          https://data.grandlyon.com/onto/traficVit  DatatypeProperty   \n",
       "9            https://data.grandlyon.com/onto/lumiere  DatatypeProperty   \n",
       "10          https://data.grandlyon.com/onto/dService  DatatypeProperty   \n",
       "11              https://data.grandlyon.com/onto/comm  DatatypeProperty   \n",
       "12            https://data.grandlyon.com/onto/source  DatatypeProperty   \n",
       "13          https://data.grandlyon.com/onto/projectC  DatatypeProperty   \n",
       "14            https://data.grandlyon.com/onto/refGeo  DatatypeProperty   \n",
       "15     https://data.grandlyon.com/onto/havereseauLoc    ObjectProperty   \n",
       "16       https://data.grandlyon.com/vocab/Reseau_loc     ConceptScheme   \n",
       "17              https://data.grandlyon.com/vocab/rev           Concept   \n",
       "18      https://data.grandlyon.com/vocab/structurant           Concept   \n",
       "19            https://data.grandlyon.com/vocab/autre           Concept   \n",
       "20             https://data.grandlyon.com/onto/sensD    ObjectProperty   \n",
       "21           https://data.grandlyon.com/vocab/Sens_d     ConceptScheme   \n",
       "22  https://data.grandlyon.com/vocab/unidirectionnel           Concept   \n",
       "23   https://data.grandlyon.com/vocab/bidirectionnel           Concept   \n",
       "24            https://data.grandlyon.com/onto/revetD    ObjectProperty   \n",
       "25  https://data.grandlyon.com/vocab/Revet_d_options     ConceptScheme   \n",
       "26          https://data.grandlyon.com/onto/codeComG    ObjectProperty   \n",
       "27          https://data.grandlyon.com/onto/codeComG  DatatypeProperty   \n",
       "\n",
       "                  related  \n",
       "0   CyclingInfrastructure  \n",
       "1   CyclingInfrastructure  \n",
       "2   CyclingInfrastructure  \n",
       "3   CyclingInfrastructure  \n",
       "4   CyclingInfrastructure  \n",
       "5   CyclingInfrastructure  \n",
       "6   CyclingInfrastructure  \n",
       "7   CyclingInfrastructure  \n",
       "8   CyclingInfrastructure  \n",
       "9   CyclingInfrastructure  \n",
       "10  CyclingInfrastructure  \n",
       "11  CyclingInfrastructure  \n",
       "12  CyclingInfrastructure  \n",
       "13  CyclingInfrastructure  \n",
       "14  CyclingInfrastructure  \n",
       "15  CyclingInfrastructure  \n",
       "16                     NA  \n",
       "17             reseau_loc  \n",
       "18             reseau_loc  \n",
       "19             reseau_loc  \n",
       "20  CyclingInfrastructure  \n",
       "21                     NA  \n",
       "22                 sens_d  \n",
       "23                 sens_d  \n",
       "24  CyclingInfrastructure  \n",
       "25                     NA  \n",
       "26  CyclingInfrastructure  \n",
       "27                Commune  "
      ]
     },
     "execution_count": 135,
     "metadata": {},
     "output_type": "execute_result"
    }
   ],
   "source": [
    "kpi_results"
   ]
  },
  {
   "cell_type": "markdown",
   "id": "1f5e8b97-dc3b-4400-88fb-79570b836c16",
   "metadata": {},
   "source": [
    "##### Save the ontology in a file"
   ]
  },
  {
   "cell_type": "code",
   "execution_count": 136,
   "id": "0c4d572d-5ae5-4f63-9f7f-29bcbba9adcb",
   "metadata": {},
   "outputs": [],
   "source": [
    "with open(\"./results/onto.ttl\", \"w\") as f:\n",
    "    f.write(g.serialize(format=\"turtle\"))"
   ]
  },
  {
   "cell_type": "markdown",
   "id": "fc070d78-3073-419f-bab6-a10b737bb3c2",
   "metadata": {},
   "source": [
    "#### 3.2 Generate the RDF data"
   ]
  },
  {
   "cell_type": "code",
   "execution_count": 137,
   "id": "afb398e1-e114-431c-88d3-d1aa23e386c6",
   "metadata": {},
   "outputs": [],
   "source": [
    "g_rdf = b0.generateRDF(True)"
   ]
  },
  {
   "cell_type": "markdown",
   "id": "767e9291-10a7-418a-bd7f-162a3763f8d3",
   "metadata": {},
   "source": [
    "##### Save the RDf data in a file"
   ]
  },
  {
   "cell_type": "code",
   "execution_count": 138,
   "id": "70c4737d-1be7-47ca-8d25-d5e0cdf29883",
   "metadata": {},
   "outputs": [],
   "source": [
    "with open(\"./results/instances.ttl\", \"w\") as f:\n",
    "    f.write(g_rdf.serialize(format=\"turtle\"))"
   ]
  },
  {
   "cell_type": "code",
   "execution_count": null,
   "id": "db29ed83-8dd0-4a61-8c84-ea802a6d04b7",
   "metadata": {},
   "outputs": [],
   "source": []
  }
 ],
 "metadata": {
  "kernelspec": {
   "display_name": "Python 3 (ipykernel)",
   "language": "python",
   "name": "python3"
  },
  "language_info": {
   "codemirror_mode": {
    "name": "ipython",
    "version": 3
   },
   "file_extension": ".py",
   "mimetype": "text/x-python",
   "name": "python",
   "nbconvert_exporter": "python",
   "pygments_lexer": "ipython3",
   "version": "3.11.5"
  }
 },
 "nbformat": 4,
 "nbformat_minor": 5
}
