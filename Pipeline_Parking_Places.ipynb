{
 "cells": [
  {
   "cell_type": "markdown",
   "id": "f04029fe-c1c5-44c4-92df-4e1057ae112c",
   "metadata": {},
   "source": [
    "### Provide required inputs"
   ]
  },
  {
   "cell_type": "markdown",
   "id": "5e09f2aa-b59d-49ca-b025-ea07eaa5b7d3",
   "metadata": {},
   "source": [
    "1. the schema\n",
    "2. its compling dataset"
   ]
  },
  {
   "cell_type": "code",
   "execution_count": 1,
   "id": "01ba68e2-a3f3-4d04-9f8c-1182e9e89812",
   "metadata": {},
   "outputs": [],
   "source": [
    "schema = \"./Examples/Parking_Places/schema.json\"\n",
    "dataset = \"./Examples/Parking_Places/data.csv\""
   ]
  },
  {
   "cell_type": "markdown",
   "id": "0fe5c85e-2e96-4f78-8e53-527cb28ef6f0",
   "metadata": {},
   "source": [
    "### Import the right extractor according to provided inputs"
   ]
  },
  {
   "cell_type": "markdown",
   "id": "c7759c1b-b78a-4aa1-9369-261a7d92668c",
   "metadata": {},
   "source": [
    "Presently, we propose two extractors:\n",
    "1. read_jsonSchema_geojsonData\n",
    "2. read_tableSchema_csvData"
   ]
  },
  {
   "cell_type": "code",
   "execution_count": 2,
   "id": "4c378ef8-8cd8-49e9-a2ca-76c5cfd98101",
   "metadata": {
    "slideshow": {
     "slide_type": ""
    },
    "tags": []
   },
   "outputs": [],
   "source": [
    "from library.read import read_tableSchema_csvData"
   ]
  },
  {
   "cell_type": "markdown",
   "id": "040df5cd-b81c-47cd-aa6c-e657ffbf933c",
   "metadata": {},
   "source": [
    "From here, we start the **ETL** process:\n",
    "1. **E**xtract\n",
    "2. **T**ransform\n",
    "3. **L**oad"
   ]
  },
  {
   "cell_type": "markdown",
   "id": "08819fca-7484-4a78-9dea-dbb29dcf6a1a",
   "metadata": {},
   "source": [
    "### 1. Extractor: Bundle graph initialisation"
   ]
  },
  {
   "cell_type": "code",
   "execution_count": 3,
   "id": "8d3e0caf-6a95-44b6-8efe-6f951bfd9f41",
   "metadata": {},
   "outputs": [],
   "source": [
    "b0 = read_tableSchema_csvData(schema, dataset)"
   ]
  },
  {
   "cell_type": "markdown",
   "id": "fc85259a-5e79-4d80-8235-647c9d2de4ad",
   "metadata": {},
   "source": [
    "##### Overview of the Global Semantic Model"
   ]
  },
  {
   "cell_type": "code",
   "execution_count": 4,
   "id": "2a8a04ac-ed38-4ba9-aaff-ecc958f39ab7",
   "metadata": {
    "output_type": "string"
   },
   "outputs": [
    {
     "data": {
      "image/svg+xml": [
       "<svg xmlns=\"http://www.w3.org/2000/svg\" xmlns:xlink=\"http://www.w3.org/1999/xlink\" contentStyleType=\"text/css\" height=\"697px\" preserveAspectRatio=\"none\" style=\"width:456px;height:697px;background:#FFFFFF;\" version=\"1.1\" viewBox=\"0 0 456 697\" width=\"456px\" zoomAndPan=\"magnify\"><defs/><g><!--class LieuxDeStationnement--><g id=\"elem_LieuxDeStationnement\"><rect codeLine=\"1\" fill=\"#F1F1F1\" height=\"493.1836\" id=\"LieuxDeStationnement\" rx=\"2.5\" ry=\"2.5\" style=\"stroke:#181818;stroke-width:0.5;\" width=\"187\" x=\"127.5\" y=\"7\"/><ellipse cx=\"142.5\" cy=\"23\" fill=\"#ADD1B2\" rx=\"11\" ry=\"11\" style=\"stroke:#181818;stroke-width:1.0;\"/><path d=\"M144.9731,29.1431 Q144.3921,29.4419 143.7529,29.5913 Q143.1138,29.7407 142.4082,29.7407 Q139.9014,29.7407 138.5815,28.0889 Q137.2617,26.437 137.2617,23.3159 Q137.2617,20.1865 138.5815,18.5347 Q139.9014,16.8828 142.4082,16.8828 Q143.1138,16.8828 143.7612,17.0322 Q144.4087,17.1816 144.9731,17.4805 L144.9731,20.2031 Q144.3423,19.6221 143.7488,19.3523 Q143.1553,19.0825 142.5244,19.0825 Q141.1797,19.0825 140.4949,20.1492 Q139.8101,21.2158 139.8101,23.3159 Q139.8101,25.4077 140.4949,26.4744 Q141.1797,27.541 142.5244,27.541 Q143.1553,27.541 143.7488,27.2712 Q144.3423,27.0015 144.9731,26.4204 Z \" fill=\"#000000\"/><text fill=\"#000000\" font-family=\"sans-serif\" font-size=\"14\" lengthAdjust=\"spacing\" textLength=\"155\" x=\"156.5\" y=\"28.291\">LieuxDeStationnement</text><line style=\"stroke:#181818;stroke-width:0.5;\" x1=\"128.5\" x2=\"313.5\" y1=\"39\" y2=\"39\"/><text fill=\"#000000\" font-family=\"sans-serif\" font-size=\"14\" lengthAdjust=\"spacing\" text-decoration=\"underline\" textLength=\"13\" x=\"133.5\" y=\"56.5352\">id</text><text fill=\"#000000\" font-family=\"sans-serif\" font-size=\"14\" lengthAdjust=\"spacing\" textLength=\"31\" x=\"133.5\" y=\"73.0234\">nom</text><text fill=\"#000000\" font-family=\"sans-serif\" font-size=\"14\" lengthAdjust=\"spacing\" textLength=\"36\" x=\"133.5\" y=\"89.5117\">insee</text><text fill=\"#000000\" font-family=\"sans-serif\" font-size=\"14\" lengthAdjust=\"spacing\" textLength=\"53\" x=\"133.5\" y=\"106\">adresse</text><text fill=\"#000000\" font-family=\"sans-serif\" font-size=\"14\" lengthAdjust=\"spacing\" textLength=\"19\" x=\"133.5\" y=\"122.4883\">url</text><text fill=\"#000000\" font-family=\"sans-serif\" font-size=\"14\" lengthAdjust=\"spacing\" textLength=\"46\" x=\"133.5\" y=\"138.9766\">gratuit</text><text fill=\"#000000\" font-family=\"sans-serif\" font-size=\"14\" lengthAdjust=\"spacing\" textLength=\"68\" x=\"133.5\" y=\"155.4648\">nb_places</text><text fill=\"#000000\" font-family=\"sans-serif\" font-size=\"14\" lengthAdjust=\"spacing\" textLength=\"40\" x=\"133.5\" y=\"171.9531\">nb_pr</text><text fill=\"#000000\" font-family=\"sans-serif\" font-size=\"14\" lengthAdjust=\"spacing\" textLength=\"53\" x=\"133.5\" y=\"188.4414\">nb_pmr</text><text fill=\"#000000\" font-family=\"sans-serif\" font-size=\"14\" lengthAdjust=\"spacing\" textLength=\"162\" x=\"133.5\" y=\"204.9297\">nb_voitures_electriques</text><text fill=\"#000000\" font-family=\"sans-serif\" font-size=\"14\" lengthAdjust=\"spacing\" textLength=\"53\" x=\"133.5\" y=\"221.418\">nb_velo</text><text fill=\"#000000\" font-family=\"sans-serif\" font-size=\"14\" lengthAdjust=\"spacing\" textLength=\"59\" x=\"133.5\" y=\"237.9063\">nb_2r_el</text><text fill=\"#000000\" font-family=\"sans-serif\" font-size=\"14\" lengthAdjust=\"spacing\" textLength=\"109\" x=\"133.5\" y=\"254.3945\">nb_autopartage</text><text fill=\"#000000\" font-family=\"sans-serif\" font-size=\"14\" lengthAdjust=\"spacing\" textLength=\"60\" x=\"133.5\" y=\"270.8828\">nb_2_rm</text><text fill=\"#000000\" font-family=\"sans-serif\" font-size=\"14\" lengthAdjust=\"spacing\" textLength=\"66\" x=\"133.5\" y=\"287.3711\">nb_covoit</text><text fill=\"#000000\" font-family=\"sans-serif\" font-size=\"14\" lengthAdjust=\"spacing\" textLength=\"91\" x=\"133.5\" y=\"303.8594\">hauteur_max</text><text fill=\"#000000\" font-family=\"sans-serif\" font-size=\"14\" lengthAdjust=\"spacing\" textLength=\"68\" x=\"133.5\" y=\"320.3477\">num_siret</text><text fill=\"#000000\" font-family=\"sans-serif\" font-size=\"14\" lengthAdjust=\"spacing\" textLength=\"40\" x=\"133.5\" y=\"336.8359\">Xlong</text><text fill=\"#000000\" font-family=\"sans-serif\" font-size=\"14\" lengthAdjust=\"spacing\" textLength=\"26\" x=\"133.5\" y=\"353.3242\">Ylat</text><text fill=\"#000000\" font-family=\"sans-serif\" font-size=\"14\" lengthAdjust=\"spacing\" textLength=\"53\" x=\"133.5\" y=\"369.8125\">tarif_1h</text><text fill=\"#000000\" font-family=\"sans-serif\" font-size=\"14\" lengthAdjust=\"spacing\" textLength=\"53\" x=\"133.5\" y=\"386.3008\">tarif_2h</text><text fill=\"#000000\" font-family=\"sans-serif\" font-size=\"14\" lengthAdjust=\"spacing\" textLength=\"53\" x=\"133.5\" y=\"402.7891\">tarif_3h</text><text fill=\"#000000\" font-family=\"sans-serif\" font-size=\"14\" lengthAdjust=\"spacing\" textLength=\"53\" x=\"133.5\" y=\"419.2773\">tarif_4h</text><text fill=\"#000000\" font-family=\"sans-serif\" font-size=\"14\" lengthAdjust=\"spacing\" textLength=\"62\" x=\"133.5\" y=\"435.7656\">tarif_24h</text><text fill=\"#000000\" font-family=\"sans-serif\" font-size=\"14\" lengthAdjust=\"spacing\" textLength=\"89\" x=\"133.5\" y=\"452.2539\">abo_resident</text><text fill=\"#000000\" font-family=\"sans-serif\" font-size=\"14\" lengthAdjust=\"spacing\" textLength=\"123\" x=\"133.5\" y=\"468.7422\">abo_non_resident</text><text fill=\"#000000\" font-family=\"sans-serif\" font-size=\"14\" lengthAdjust=\"spacing\" textLength=\"27\" x=\"133.5\" y=\"485.2305\">info</text><line style=\"stroke:#181818;stroke-width:0.5;\" x1=\"128.5\" x2=\"313.5\" y1=\"492.1836\" y2=\"492.1836\"/></g><!--class type_usagers--><g id=\"elem_type_usagers\"><rect codeLine=\"31\" fill=\"#F1F1F1\" height=\"88.9766\" id=\"type_usagers\" rx=\"2.5\" ry=\"2.5\" style=\"stroke:#181818;stroke-width:0.5;\" width=\"122\" x=\"7\" y=\"589.43\"/><ellipse cx=\"22\" cy=\"605.43\" fill=\"#EB937F\" rx=\"11\" ry=\"11\" style=\"stroke:#181818;stroke-width:1.0;\"/><path d=\"M25.6143,611.93 L17.8945,611.93 L17.8945,599.5369 L25.6143,599.5369 L25.6143,601.6951 L20.3433,601.6951 L20.3433,604.368 L25.1162,604.368 L25.1162,606.5262 L20.3433,606.5262 L20.3433,609.7718 L25.6143,609.7718 Z \" fill=\"#000000\"/><text fill=\"#000000\" font-family=\"sans-serif\" font-size=\"14\" lengthAdjust=\"spacing\" textLength=\"90\" x=\"36\" y=\"610.721\">type_usagers</text><line style=\"stroke:#181818;stroke-width:0.5;\" x1=\"8\" x2=\"128\" y1=\"621.43\" y2=\"621.43\"/><text fill=\"#000000\" font-family=\"sans-serif\" font-size=\"14\" lengthAdjust=\"spacing\" textLength=\"30\" x=\"13\" y=\"638.9652\">tous</text><line style=\"stroke:#181818;stroke-width:1.0;stroke-dasharray:1.0,2.0;\" x1=\"8\" x2=\"128\" y1=\"645.9183\" y2=\"645.9183\"/><text fill=\"#000000\" font-family=\"sans-serif\" font-size=\"14\" lengthAdjust=\"spacing\" textLength=\"59\" x=\"13\" y=\"663.4534\">abonnés</text><line style=\"stroke:#181818;stroke-width:1.0;stroke-dasharray:1.0,2.0;\" x1=\"8\" x2=\"128\" y1=\"670.4066\" y2=\"670.4066\"/></g><!--class tarif_pmr--><g id=\"elem_tarif_pmr\"><rect codeLine=\"38\" fill=\"#F1F1F1\" height=\"113.4648\" id=\"tarif_pmr\" rx=\"2.5\" ry=\"2.5\" style=\"stroke:#181818;stroke-width:0.5;\" width=\"114\" x=\"164\" y=\"577.19\"/><ellipse cx=\"187.55\" cy=\"593.19\" fill=\"#EB937F\" rx=\"11\" ry=\"11\" style=\"stroke:#181818;stroke-width:1.0;\"/><path d=\"M191.1643,599.69 L183.4445,599.69 L183.4445,587.2969 L191.1643,587.2969 L191.1643,589.4551 L185.8933,589.4551 L185.8933,592.128 L190.6662,592.128 L190.6662,594.2862 L185.8933,594.2862 L185.8933,597.5318 L191.1643,597.5318 Z \" fill=\"#000000\"/><text fill=\"#000000\" font-family=\"sans-serif\" font-size=\"14\" lengthAdjust=\"spacing\" textLength=\"63\" x=\"203.45\" y=\"598.481\">tarif_pmr</text><line style=\"stroke:#181818;stroke-width:0.5;\" x1=\"165\" x2=\"277\" y1=\"609.19\" y2=\"609.19\"/><text fill=\"#000000\" font-family=\"sans-serif\" font-size=\"14\" lengthAdjust=\"spacing\" textLength=\"46\" x=\"170\" y=\"626.7252\">gratuit</text><line style=\"stroke:#181818;stroke-width:1.0;stroke-dasharray:1.0,2.0;\" x1=\"165\" x2=\"277\" y1=\"633.6783\" y2=\"633.6783\"/><text fill=\"#000000\" font-family=\"sans-serif\" font-size=\"14\" lengthAdjust=\"spacing\" textLength=\"102\" x=\"170\" y=\"651.2134\">normal_payant</text><line style=\"stroke:#181818;stroke-width:1.0;stroke-dasharray:1.0,2.0;\" x1=\"165\" x2=\"277\" y1=\"658.1666\" y2=\"658.1666\"/><text fill=\"#000000\" font-family=\"sans-serif\" font-size=\"14\" lengthAdjust=\"spacing\" textLength=\"82\" x=\"170\" y=\"675.7017\">tarif_special</text><line style=\"stroke:#181818;stroke-width:1.0;stroke-dasharray:1.0,2.0;\" x1=\"165\" x2=\"277\" y1=\"682.6548\" y2=\"682.6548\"/></g><!--class type_ouvrage--><g id=\"elem_type_ouvrage\"><rect codeLine=\"47\" fill=\"#F1F1F1\" height=\"88.9766\" id=\"type_ouvrage\" rx=\"2.5\" ry=\"2.5\" style=\"stroke:#181818;stroke-width:0.5;\" width=\"137\" x=\"312.5\" y=\"589.43\"/><ellipse cx=\"333.35\" cy=\"605.43\" fill=\"#EB937F\" rx=\"11\" ry=\"11\" style=\"stroke:#181818;stroke-width:1.0;\"/><path d=\"M336.9643,611.93 L329.2445,611.93 L329.2445,599.5369 L336.9643,599.5369 L336.9643,601.6951 L331.6933,601.6951 L331.6933,604.368 L336.4662,604.368 L336.4662,606.5262 L331.6933,606.5262 L331.6933,609.7718 L336.9643,609.7718 Z \" fill=\"#000000\"/><text fill=\"#000000\" font-family=\"sans-serif\" font-size=\"14\" lengthAdjust=\"spacing\" textLength=\"92\" x=\"348.65\" y=\"610.721\">type_ouvrage</text><line style=\"stroke:#181818;stroke-width:0.5;\" x1=\"313.5\" x2=\"448.5\" y1=\"621.43\" y2=\"621.43\"/><text fill=\"#000000\" font-family=\"sans-serif\" font-size=\"14\" lengthAdjust=\"spacing\" textLength=\"125\" x=\"318.5\" y=\"638.9652\">enclos_en_surface</text><line style=\"stroke:#181818;stroke-width:1.0;stroke-dasharray:1.0,2.0;\" x1=\"313.5\" x2=\"448.5\" y1=\"645.9183\" y2=\"645.9183\"/><text fill=\"#000000\" font-family=\"sans-serif\" font-size=\"14\" lengthAdjust=\"spacing\" textLength=\"56\" x=\"318.5\" y=\"663.4534\">ouvrage</text><line style=\"stroke:#181818;stroke-width:1.0;stroke-dasharray:1.0,2.0;\" x1=\"313.5\" x2=\"448.5\" y1=\"670.4066\" y2=\"670.4066\"/></g><!--link LieuxDeStationnement to type_usagers--><g id=\"link_LieuxDeStationnement_type_usagers\"><path codeLine=\"30\" d=\"M127.04,486.92 C112.34,523.27 98.55,557.37 88,583.46 \" fill=\"none\" id=\"LieuxDeStationnement-to-type_usagers\" style=\"stroke:#181818;stroke-width:1.0;\"/><polygon fill=\"#181818\" points=\"86.23,587.84,93.3046,580.988,88.0992,583.2026,85.8847,577.9972,86.23,587.84\" style=\"stroke:#181818;stroke-width:1.0;\"/><text fill=\"#000000\" font-family=\"sans-serif\" font-size=\"13\" lengthAdjust=\"spacing\" textLength=\"83\" x=\"111\" y=\"543.7584\">type_usagers</text></g><!--link LieuxDeStationnement to tarif_pmr--><g id=\"link_LieuxDeStationnement_tarif_pmr\"><path codeLine=\"37\" d=\"M221,500.6 C221,526.07 221,550.02 221,570.36 \" fill=\"none\" id=\"LieuxDeStationnement-to-tarif_pmr\" style=\"stroke:#181818;stroke-width:1.0;\"/><polygon fill=\"#181818\" points=\"221,575.33,225,566.33,221,570.33,217,566.33,221,575.33\" style=\"stroke:#181818;stroke-width:1.0;\"/><text fill=\"#000000\" font-family=\"sans-serif\" font-size=\"13\" lengthAdjust=\"spacing\" textLength=\"58\" x=\"222\" y=\"543.7584\">tarif_pmr</text></g><!--link LieuxDeStationnement to type_ouvrage--><g id=\"link_LieuxDeStationnement_type_ouvrage\"><path codeLine=\"46\" d=\"M315,476.85 C331.89,516.8 347.92,554.71 359.96,583.16 \" fill=\"none\" id=\"LieuxDeStationnement-to-type_ouvrage\" style=\"stroke:#181818;stroke-width:1.0;\"/><polygon fill=\"#181818\" points=\"361.87,587.69,362.0382,577.8426,359.9176,583.0869,354.6733,580.9664,361.87,587.69\" style=\"stroke:#181818;stroke-width:1.0;\"/><text fill=\"#000000\" font-family=\"sans-serif\" font-size=\"13\" lengthAdjust=\"spacing\" textLength=\"84\" x=\"343\" y=\"543.7584\">type_ouvrage</text></g><!--SRC=[XL9BRaCX35p3ATu54gcVLHTTTTbTD-qAESH9aC2y6eWIHJbGpz6BrK1UFbBLhXZRWsTii1vI6buTbjqBlcN8BX9XGCh3GQj3gXbx7DnIAuf1AqS9KIjOCgOaeB3NQisGYyj2MPZHWyNK8VSZz7CRNIvopQ17czbzbXDlYpusSCzIQmXAZYDmXZNsYk7GW8srZLOROM1X4s0d-H9CSeoIV_UHrbfzU90W0xkLkTjCwFwC7ixeyLAj41RHY4Utb0tqY29TPHojeZxgNnSscpqFUJ-YAKbySngURaADulEM82lEiIGzdpSjek-l5lmbqBpAJclt2PzQdqk7ovlKrXGvW3SZx85wfbFJYDQ1_q-nEevbo-9v6kaKNeqq4KGQoVeepqmc5Lx9TsYIqvKgzWC0]--></g></svg>"
      ],
      "text/plain": [
       "<IPython.core.display.SVG object>"
      ]
     },
     "execution_count": 4,
     "metadata": {},
     "output_type": "execute_result"
    }
   ],
   "source": [
    "b0.show_semantic_model(True)"
   ]
  },
  {
   "cell_type": "markdown",
   "id": "08421091-a6e4-4f75-8943-efd2ae351640",
   "metadata": {},
   "source": [
    "### 2. Transformers"
   ]
  },
  {
   "cell_type": "markdown",
   "id": "cd91fbae-59c8-4458-b37c-f194c0570a95",
   "metadata": {},
   "source": [
    "In this example, we apply the `document` transformer on type_usagers, tarif_pmr and type_ouvrage enumeration bundles."
   ]
  },
  {
   "cell_type": "code",
   "execution_count": 5,
   "id": "7ed3799b-e4b5-4c8d-b585-2f9125dd362a",
   "metadata": {},
   "outputs": [
    {
     "name": "stdout",
     "output_type": "stream",
     "text": [
      "------- Enumeration -------\n",
      "name : type_ouvrage\n",
      "IRI : None\n",
      "definition : Précision sur le type de construction de l'équipement.\n",
      "type : string\n",
      "required : False\n",
      "\t ------- Values -------\n",
      "\t name : enclos_en_surface\n",
      "\t definition : à barrière en surface\n",
      "\t IRI : None\n",
      "\t --------------\n",
      "\t name : ouvrage\n",
      "\t definition : comprend les parkings souterrains et les parkings en élévation\n",
      "\t IRI : None\n",
      "\t --------------\n"
     ]
    }
   ],
   "source": [
    "dangling_bundles = b0.children()\n",
    "dangling_bundles[\"type_usagers\"].document(enum_values = {\"tous\":\"tout usager\",\n",
    "                                                         \"abonnés\": \"uniquement abonné\"\n",
    "    \n",
    "})\n",
    "dangling_bundles[\"tarif_pmr\"].document(enum_values = {\"gratuit\":\"ne coûte rien\",\n",
    "                                                      \"normal_payant\": \"paiement normal\",\n",
    "                                                      \"tarif_special\": \"paiement spécial\"\n",
    "    \n",
    "})\n",
    "dangling_bundles[\"type_ouvrage\"].document(enum_values = {\"enclos_en_surface\":\"à barrière en surface\",\n",
    "                                                         \"ouvrage\":\"comprend les parkings souterrains et les parkings en élévation\"\n",
    "    \n",
    "})\n",
    "dangling_bundles[\"type_ouvrage\"].show()"
   ]
  },
  {
   "cell_type": "markdown",
   "id": "5f5d718a-3281-488a-8418-3b1d31709e1f",
   "metadata": {},
   "source": [
    "### 3. Loaders"
   ]
  },
  {
   "cell_type": "markdown",
   "id": "fce9aa53-7ded-40da-9a74-e4966d621dc6",
   "metadata": {},
   "source": [
    "Presently, we propose two loaders:\n",
    "1. generateOntology\n",
    "2. generateRDF"
   ]
  },
  {
   "cell_type": "markdown",
   "id": "2adfc9ed-c38f-4219-8c9a-0f56455194f3",
   "metadata": {},
   "source": [
    "#### 3.1 Generate the ontology"
   ]
  },
  {
   "cell_type": "code",
   "execution_count": 5,
   "id": "9a3de26c-10ab-41bb-b043-f8a59e887dbd",
   "metadata": {},
   "outputs": [],
   "source": [
    "g, kpi_results = b0.generateOntology(True)"
   ]
  },
  {
   "cell_type": "markdown",
   "id": "b05a47c9-77b4-4dd9-961b-118c7c4dfd32",
   "metadata": {},
   "source": [
    "##### Overview of the generated ontology"
   ]
  },
  {
   "cell_type": "code",
   "execution_count": 8,
   "id": "d6222eff-0736-4791-b579-47576fc1b55d",
   "metadata": {},
   "outputs": [
    {
     "data": {
      "text/html": [
       "<div>\n",
       "<style scoped>\n",
       "    .dataframe tbody tr th:only-of-type {\n",
       "        vertical-align: middle;\n",
       "    }\n",
       "\n",
       "    .dataframe tbody tr th {\n",
       "        vertical-align: top;\n",
       "    }\n",
       "\n",
       "    .dataframe thead th {\n",
       "        text-align: right;\n",
       "    }\n",
       "</style>\n",
       "<table border=\"1\" class=\"dataframe\">\n",
       "  <thead>\n",
       "    <tr style=\"text-align: right;\">\n",
       "      <th></th>\n",
       "      <th>IRI</th>\n",
       "      <th>type</th>\n",
       "      <th>related</th>\n",
       "    </tr>\n",
       "  </thead>\n",
       "  <tbody>\n",
       "    <tr>\n",
       "      <th>0</th>\n",
       "      <td>https://data.grandlyon.com/onto/Lieuxdestation...</td>\n",
       "      <td>Class</td>\n",
       "      <td>NA</td>\n",
       "    </tr>\n",
       "    <tr>\n",
       "      <th>1</th>\n",
       "      <td>https://data.grandlyon.com/onto/id</td>\n",
       "      <td>DatatypeProperty</td>\n",
       "      <td>LieuxDeStationnement</td>\n",
       "    </tr>\n",
       "    <tr>\n",
       "      <th>2</th>\n",
       "      <td>https://data.grandlyon.com/onto/nom</td>\n",
       "      <td>DatatypeProperty</td>\n",
       "      <td>LieuxDeStationnement</td>\n",
       "    </tr>\n",
       "    <tr>\n",
       "      <th>3</th>\n",
       "      <td>https://data.grandlyon.com/onto/insee</td>\n",
       "      <td>DatatypeProperty</td>\n",
       "      <td>LieuxDeStationnement</td>\n",
       "    </tr>\n",
       "    <tr>\n",
       "      <th>4</th>\n",
       "      <td>https://data.grandlyon.com/onto/adresse</td>\n",
       "      <td>DatatypeProperty</td>\n",
       "      <td>LieuxDeStationnement</td>\n",
       "    </tr>\n",
       "    <tr>\n",
       "      <th>5</th>\n",
       "      <td>https://data.grandlyon.com/onto/url</td>\n",
       "      <td>DatatypeProperty</td>\n",
       "      <td>LieuxDeStationnement</td>\n",
       "    </tr>\n",
       "    <tr>\n",
       "      <th>6</th>\n",
       "      <td>https://data.grandlyon.com/onto/gratuit</td>\n",
       "      <td>DatatypeProperty</td>\n",
       "      <td>LieuxDeStationnement</td>\n",
       "    </tr>\n",
       "    <tr>\n",
       "      <th>7</th>\n",
       "      <td>https://data.grandlyon.com/onto/nbPlaces</td>\n",
       "      <td>DatatypeProperty</td>\n",
       "      <td>LieuxDeStationnement</td>\n",
       "    </tr>\n",
       "    <tr>\n",
       "      <th>8</th>\n",
       "      <td>https://data.grandlyon.com/onto/nbPr</td>\n",
       "      <td>DatatypeProperty</td>\n",
       "      <td>LieuxDeStationnement</td>\n",
       "    </tr>\n",
       "    <tr>\n",
       "      <th>9</th>\n",
       "      <td>https://data.grandlyon.com/onto/nbPmr</td>\n",
       "      <td>DatatypeProperty</td>\n",
       "      <td>LieuxDeStationnement</td>\n",
       "    </tr>\n",
       "    <tr>\n",
       "      <th>10</th>\n",
       "      <td>https://data.grandlyon.com/onto/nbVoituresElec...</td>\n",
       "      <td>DatatypeProperty</td>\n",
       "      <td>LieuxDeStationnement</td>\n",
       "    </tr>\n",
       "    <tr>\n",
       "      <th>11</th>\n",
       "      <td>https://data.grandlyon.com/onto/nbVelo</td>\n",
       "      <td>DatatypeProperty</td>\n",
       "      <td>LieuxDeStationnement</td>\n",
       "    </tr>\n",
       "    <tr>\n",
       "      <th>12</th>\n",
       "      <td>https://data.grandlyon.com/onto/nb2REl</td>\n",
       "      <td>DatatypeProperty</td>\n",
       "      <td>LieuxDeStationnement</td>\n",
       "    </tr>\n",
       "    <tr>\n",
       "      <th>13</th>\n",
       "      <td>https://data.grandlyon.com/onto/nbAutopartage</td>\n",
       "      <td>DatatypeProperty</td>\n",
       "      <td>LieuxDeStationnement</td>\n",
       "    </tr>\n",
       "    <tr>\n",
       "      <th>14</th>\n",
       "      <td>https://data.grandlyon.com/onto/nb2Rm</td>\n",
       "      <td>DatatypeProperty</td>\n",
       "      <td>LieuxDeStationnement</td>\n",
       "    </tr>\n",
       "    <tr>\n",
       "      <th>15</th>\n",
       "      <td>https://data.grandlyon.com/onto/nbCovoit</td>\n",
       "      <td>DatatypeProperty</td>\n",
       "      <td>LieuxDeStationnement</td>\n",
       "    </tr>\n",
       "    <tr>\n",
       "      <th>16</th>\n",
       "      <td>https://data.grandlyon.com/onto/hauteurMax</td>\n",
       "      <td>DatatypeProperty</td>\n",
       "      <td>LieuxDeStationnement</td>\n",
       "    </tr>\n",
       "    <tr>\n",
       "      <th>17</th>\n",
       "      <td>https://data.grandlyon.com/onto/numSiret</td>\n",
       "      <td>DatatypeProperty</td>\n",
       "      <td>LieuxDeStationnement</td>\n",
       "    </tr>\n",
       "    <tr>\n",
       "      <th>18</th>\n",
       "      <td>https://data.grandlyon.com/onto/xlong</td>\n",
       "      <td>DatatypeProperty</td>\n",
       "      <td>LieuxDeStationnement</td>\n",
       "    </tr>\n",
       "    <tr>\n",
       "      <th>19</th>\n",
       "      <td>https://data.grandlyon.com/onto/ylat</td>\n",
       "      <td>DatatypeProperty</td>\n",
       "      <td>LieuxDeStationnement</td>\n",
       "    </tr>\n",
       "    <tr>\n",
       "      <th>20</th>\n",
       "      <td>https://data.grandlyon.com/onto/tarif1H</td>\n",
       "      <td>DatatypeProperty</td>\n",
       "      <td>LieuxDeStationnement</td>\n",
       "    </tr>\n",
       "    <tr>\n",
       "      <th>21</th>\n",
       "      <td>https://data.grandlyon.com/onto/tarif2H</td>\n",
       "      <td>DatatypeProperty</td>\n",
       "      <td>LieuxDeStationnement</td>\n",
       "    </tr>\n",
       "    <tr>\n",
       "      <th>22</th>\n",
       "      <td>https://data.grandlyon.com/onto/tarif3H</td>\n",
       "      <td>DatatypeProperty</td>\n",
       "      <td>LieuxDeStationnement</td>\n",
       "    </tr>\n",
       "    <tr>\n",
       "      <th>23</th>\n",
       "      <td>https://data.grandlyon.com/onto/tarif4H</td>\n",
       "      <td>DatatypeProperty</td>\n",
       "      <td>LieuxDeStationnement</td>\n",
       "    </tr>\n",
       "    <tr>\n",
       "      <th>24</th>\n",
       "      <td>https://data.grandlyon.com/onto/tarif24H</td>\n",
       "      <td>DatatypeProperty</td>\n",
       "      <td>LieuxDeStationnement</td>\n",
       "    </tr>\n",
       "    <tr>\n",
       "      <th>25</th>\n",
       "      <td>https://data.grandlyon.com/onto/aboResident</td>\n",
       "      <td>DatatypeProperty</td>\n",
       "      <td>LieuxDeStationnement</td>\n",
       "    </tr>\n",
       "    <tr>\n",
       "      <th>26</th>\n",
       "      <td>https://data.grandlyon.com/onto/aboNonResident</td>\n",
       "      <td>DatatypeProperty</td>\n",
       "      <td>LieuxDeStationnement</td>\n",
       "    </tr>\n",
       "    <tr>\n",
       "      <th>27</th>\n",
       "      <td>https://data.grandlyon.com/onto/info</td>\n",
       "      <td>DatatypeProperty</td>\n",
       "      <td>LieuxDeStationnement</td>\n",
       "    </tr>\n",
       "    <tr>\n",
       "      <th>28</th>\n",
       "      <td>https://data.grandlyon.com/onto/typeUsagers</td>\n",
       "      <td>ObjectProperty</td>\n",
       "      <td>LieuxDeStationnement</td>\n",
       "    </tr>\n",
       "    <tr>\n",
       "      <th>29</th>\n",
       "      <td>https://data.grandlyon.com/vocab/Type_usagers</td>\n",
       "      <td>ConceptScheme</td>\n",
       "      <td>NA</td>\n",
       "    </tr>\n",
       "    <tr>\n",
       "      <th>30</th>\n",
       "      <td>https://data.grandlyon.com/vocab/tous</td>\n",
       "      <td>Concept</td>\n",
       "      <td>type_usagers</td>\n",
       "    </tr>\n",
       "    <tr>\n",
       "      <th>31</th>\n",
       "      <td>https://data.grandlyon.com/vocab/abonnés</td>\n",
       "      <td>Concept</td>\n",
       "      <td>type_usagers</td>\n",
       "    </tr>\n",
       "    <tr>\n",
       "      <th>32</th>\n",
       "      <td>https://data.grandlyon.com/onto/tarifPmr</td>\n",
       "      <td>ObjectProperty</td>\n",
       "      <td>LieuxDeStationnement</td>\n",
       "    </tr>\n",
       "    <tr>\n",
       "      <th>33</th>\n",
       "      <td>https://data.grandlyon.com/vocab/Tarif_pmr</td>\n",
       "      <td>ConceptScheme</td>\n",
       "      <td>NA</td>\n",
       "    </tr>\n",
       "    <tr>\n",
       "      <th>34</th>\n",
       "      <td>https://data.grandlyon.com/vocab/gratuit</td>\n",
       "      <td>Concept</td>\n",
       "      <td>tarif_pmr</td>\n",
       "    </tr>\n",
       "    <tr>\n",
       "      <th>35</th>\n",
       "      <td>https://data.grandlyon.com/vocab/normal_payant</td>\n",
       "      <td>Concept</td>\n",
       "      <td>tarif_pmr</td>\n",
       "    </tr>\n",
       "    <tr>\n",
       "      <th>36</th>\n",
       "      <td>https://data.grandlyon.com/vocab/tarif_special</td>\n",
       "      <td>Concept</td>\n",
       "      <td>tarif_pmr</td>\n",
       "    </tr>\n",
       "    <tr>\n",
       "      <th>37</th>\n",
       "      <td>https://data.grandlyon.com/onto/typeOuvrage</td>\n",
       "      <td>ObjectProperty</td>\n",
       "      <td>LieuxDeStationnement</td>\n",
       "    </tr>\n",
       "    <tr>\n",
       "      <th>38</th>\n",
       "      <td>https://data.grandlyon.com/vocab/Type_ouvrage</td>\n",
       "      <td>ConceptScheme</td>\n",
       "      <td>NA</td>\n",
       "    </tr>\n",
       "    <tr>\n",
       "      <th>39</th>\n",
       "      <td>https://data.grandlyon.com/vocab/enclos_en_sur...</td>\n",
       "      <td>Concept</td>\n",
       "      <td>type_ouvrage</td>\n",
       "    </tr>\n",
       "    <tr>\n",
       "      <th>40</th>\n",
       "      <td>https://data.grandlyon.com/vocab/ouvrage</td>\n",
       "      <td>Concept</td>\n",
       "      <td>type_ouvrage</td>\n",
       "    </tr>\n",
       "  </tbody>\n",
       "</table>\n",
       "</div>"
      ],
      "text/plain": [
       "                                                  IRI              type  \\\n",
       "0   https://data.grandlyon.com/onto/Lieuxdestation...             Class   \n",
       "1                  https://data.grandlyon.com/onto/id  DatatypeProperty   \n",
       "2                 https://data.grandlyon.com/onto/nom  DatatypeProperty   \n",
       "3               https://data.grandlyon.com/onto/insee  DatatypeProperty   \n",
       "4             https://data.grandlyon.com/onto/adresse  DatatypeProperty   \n",
       "5                 https://data.grandlyon.com/onto/url  DatatypeProperty   \n",
       "6             https://data.grandlyon.com/onto/gratuit  DatatypeProperty   \n",
       "7            https://data.grandlyon.com/onto/nbPlaces  DatatypeProperty   \n",
       "8                https://data.grandlyon.com/onto/nbPr  DatatypeProperty   \n",
       "9               https://data.grandlyon.com/onto/nbPmr  DatatypeProperty   \n",
       "10  https://data.grandlyon.com/onto/nbVoituresElec...  DatatypeProperty   \n",
       "11             https://data.grandlyon.com/onto/nbVelo  DatatypeProperty   \n",
       "12             https://data.grandlyon.com/onto/nb2REl  DatatypeProperty   \n",
       "13      https://data.grandlyon.com/onto/nbAutopartage  DatatypeProperty   \n",
       "14              https://data.grandlyon.com/onto/nb2Rm  DatatypeProperty   \n",
       "15           https://data.grandlyon.com/onto/nbCovoit  DatatypeProperty   \n",
       "16         https://data.grandlyon.com/onto/hauteurMax  DatatypeProperty   \n",
       "17           https://data.grandlyon.com/onto/numSiret  DatatypeProperty   \n",
       "18              https://data.grandlyon.com/onto/xlong  DatatypeProperty   \n",
       "19               https://data.grandlyon.com/onto/ylat  DatatypeProperty   \n",
       "20            https://data.grandlyon.com/onto/tarif1H  DatatypeProperty   \n",
       "21            https://data.grandlyon.com/onto/tarif2H  DatatypeProperty   \n",
       "22            https://data.grandlyon.com/onto/tarif3H  DatatypeProperty   \n",
       "23            https://data.grandlyon.com/onto/tarif4H  DatatypeProperty   \n",
       "24           https://data.grandlyon.com/onto/tarif24H  DatatypeProperty   \n",
       "25        https://data.grandlyon.com/onto/aboResident  DatatypeProperty   \n",
       "26     https://data.grandlyon.com/onto/aboNonResident  DatatypeProperty   \n",
       "27               https://data.grandlyon.com/onto/info  DatatypeProperty   \n",
       "28        https://data.grandlyon.com/onto/typeUsagers    ObjectProperty   \n",
       "29      https://data.grandlyon.com/vocab/Type_usagers     ConceptScheme   \n",
       "30              https://data.grandlyon.com/vocab/tous           Concept   \n",
       "31           https://data.grandlyon.com/vocab/abonnés           Concept   \n",
       "32           https://data.grandlyon.com/onto/tarifPmr    ObjectProperty   \n",
       "33         https://data.grandlyon.com/vocab/Tarif_pmr     ConceptScheme   \n",
       "34           https://data.grandlyon.com/vocab/gratuit           Concept   \n",
       "35     https://data.grandlyon.com/vocab/normal_payant           Concept   \n",
       "36     https://data.grandlyon.com/vocab/tarif_special           Concept   \n",
       "37        https://data.grandlyon.com/onto/typeOuvrage    ObjectProperty   \n",
       "38      https://data.grandlyon.com/vocab/Type_ouvrage     ConceptScheme   \n",
       "39  https://data.grandlyon.com/vocab/enclos_en_sur...           Concept   \n",
       "40           https://data.grandlyon.com/vocab/ouvrage           Concept   \n",
       "\n",
       "                 related  \n",
       "0                     NA  \n",
       "1   LieuxDeStationnement  \n",
       "2   LieuxDeStationnement  \n",
       "3   LieuxDeStationnement  \n",
       "4   LieuxDeStationnement  \n",
       "5   LieuxDeStationnement  \n",
       "6   LieuxDeStationnement  \n",
       "7   LieuxDeStationnement  \n",
       "8   LieuxDeStationnement  \n",
       "9   LieuxDeStationnement  \n",
       "10  LieuxDeStationnement  \n",
       "11  LieuxDeStationnement  \n",
       "12  LieuxDeStationnement  \n",
       "13  LieuxDeStationnement  \n",
       "14  LieuxDeStationnement  \n",
       "15  LieuxDeStationnement  \n",
       "16  LieuxDeStationnement  \n",
       "17  LieuxDeStationnement  \n",
       "18  LieuxDeStationnement  \n",
       "19  LieuxDeStationnement  \n",
       "20  LieuxDeStationnement  \n",
       "21  LieuxDeStationnement  \n",
       "22  LieuxDeStationnement  \n",
       "23  LieuxDeStationnement  \n",
       "24  LieuxDeStationnement  \n",
       "25  LieuxDeStationnement  \n",
       "26  LieuxDeStationnement  \n",
       "27  LieuxDeStationnement  \n",
       "28  LieuxDeStationnement  \n",
       "29                    NA  \n",
       "30          type_usagers  \n",
       "31          type_usagers  \n",
       "32  LieuxDeStationnement  \n",
       "33                    NA  \n",
       "34             tarif_pmr  \n",
       "35             tarif_pmr  \n",
       "36             tarif_pmr  \n",
       "37  LieuxDeStationnement  \n",
       "38                    NA  \n",
       "39          type_ouvrage  \n",
       "40          type_ouvrage  "
      ]
     },
     "execution_count": 8,
     "metadata": {},
     "output_type": "execute_result"
    }
   ],
   "source": [
    "kpi_results"
   ]
  },
  {
   "cell_type": "markdown",
   "id": "1f5e8b97-dc3b-4400-88fb-79570b836c16",
   "metadata": {},
   "source": [
    "##### Save the ontology in a file"
   ]
  },
  {
   "cell_type": "code",
   "execution_count": 7,
   "id": "0c4d572d-5ae5-4f63-9f7f-29bcbba9adcb",
   "metadata": {},
   "outputs": [],
   "source": [
    "with open(\"./results/onto.ttl\", \"w\") as f:\n",
    "    f.write(g.serialize(format=\"turtle\"))"
   ]
  },
  {
   "cell_type": "markdown",
   "id": "fc070d78-3073-419f-bab6-a10b737bb3c2",
   "metadata": {},
   "source": [
    "#### 3.2 Generate the RDF data"
   ]
  },
  {
   "cell_type": "code",
   "execution_count": 4,
   "id": "afb398e1-e114-431c-88d3-d1aa23e386c6",
   "metadata": {},
   "outputs": [],
   "source": [
    "g_rdf = b0.generateRDF(True)"
   ]
  },
  {
   "cell_type": "markdown",
   "id": "767e9291-10a7-418a-bd7f-162a3763f8d3",
   "metadata": {},
   "source": [
    "##### Save the RDf data in a file"
   ]
  },
  {
   "cell_type": "code",
   "execution_count": 5,
   "id": "70c4737d-1be7-47ca-8d25-d5e0cdf29883",
   "metadata": {},
   "outputs": [],
   "source": [
    "with open(\"./results/instances.ttl\", \"w\") as f:\n",
    "    f.write(g_rdf.serialize(format=\"turtle\"))"
   ]
  },
  {
   "cell_type": "code",
   "execution_count": null,
   "id": "db29ed83-8dd0-4a61-8c84-ea802a6d04b7",
   "metadata": {},
   "outputs": [],
   "source": []
  }
 ],
 "metadata": {
  "kernelspec": {
   "display_name": "Python 3 (ipykernel)",
   "language": "python",
   "name": "python3"
  },
  "language_info": {
   "codemirror_mode": {
    "name": "ipython",
    "version": 3
   },
   "file_extension": ".py",
   "mimetype": "text/x-python",
   "name": "python",
   "nbconvert_exporter": "python",
   "pygments_lexer": "ipython3",
   "version": "3.11.5"
  }
 },
 "nbformat": 4,
 "nbformat_minor": 5
}
